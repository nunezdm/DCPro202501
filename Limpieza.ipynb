{
 "cells": [
  {
   "cell_type": "markdown",
   "id": "a35c1758",
   "metadata": {},
   "source": [
    "<a id=\"5\"></a>\n",
    "# <p style=\"padding:10px;background-color:#4A235A ;margin:0;color:#E2EEF3;font-family:newtimeroman;font-size:100%;text-align:center;border-radius: 15px 50px;overflow:hidden;font-weight:500\">Introducción 🔍</p>"
   ]
  },
  {
   "cell_type": "markdown",
   "id": "5911c114",
   "metadata": {},
   "source": [
    "En el contexto del presente Data Challenge, se abordó un aspecto fundamental para el fortalecimiento de los sistemas de salud: la previsión de la demanda de servicios médicos, con especial énfasis en el ámbito de la salud ocupacional. La adecuada planificación y asignación de recursos depende en gran medida de la capacidad para anticipar estas necesidades, especialmente cuando se trata de accidentes y enfermedades laborales, eventos que por su naturaleza son urgentes, impredecibles y de alto impacto.\n",
    "\n",
    "A lo largo del reto, se desarrolló un modelo predictivo orientado a generar estimaciones detalladas de la demanda por municipio y por tipo de servicio médico, priorizando las atenciones relacionadas con la salud laboral. Para ello, se incorporaron en los cálculos diversos factores determinantes, tales como los patrones de estacionalidad, las tendencias históricas, las características demográficas locales y los indicadores económicos por territorio.\n",
    "\n",
    "Este esfuerzo tuvo un doble propósito: por un lado, asegurar la disponibilidad oportuna de recursos en los lugares y momentos de mayor demanda; por otro, potenciar la capacidad de respuesta de los servicios de salud de ARL SURA ante situaciones críticas.\n",
    "\n",
    "La propuesta no solo busca mejorar la precisión de las predicciones mediante un enfoque computacional robusto implementado en Python, sino también contribuir con una solución innovadora, técnicamente sólida y aplicable en un entorno real. Los resultados obtenidos no solo tienen el potencial de optimizar costos operativos sin comprometer la calidad del servicio, sino que también pueden marcar una diferencia significativa en la prevención de secuelas graves y en la mejora de los tiempos de atención ante eventos laborales.\n",
    "\n",
    "El lenguaje de programación Python fue elegido por su versatilidad, su amplio ecosistema de bibliotecas para el análisis de datos y modelado predictivo, y su facilidad de implementación en entornos productivos. Gracias a su integración con herramientas de visualización, análisis de series temporales y aprendizaje automático, se logró construir una solución adaptable, transparente y reproducible. En consecuencia, el modelo desarrollado no solo responde a los objetivos del reto, sino que también sienta las bases para futuras implementaciones en contextos reales del sistema de salud colombiano."
   ]
  },
  {
   "cell_type": "markdown",
   "id": "7d2c7499",
   "metadata": {},
   "source": [
    "<a id=\"5\"></a>\n",
    "# <p style=\"padding:10px;background-color:#4A235A ;margin:0;color:#E2EEF3;font-family:newtimeroman;font-size:100%;text-align:center;border-radius: 15px 50px;overflow:hidden;font-weight:500\">Metodología 🔍</p>"
   ]
  },
  {
   "cell_type": "markdown",
   "id": "16a81344",
   "metadata": {},
   "source": [
    "Para abordar el desafío de predecir la demanda de servicios médicos en salud ocupacional, se diseñó una metodología integral basada en análisis exploratorio de datos, modelado de series temporales y técnicas de aprendizaje automático. Esta metodología buscó garantizar tanto la robustez técnica como la aplicabilidad en contextos reales de toma de decisiones."
   ]
  },
  {
   "cell_type": "markdown",
   "id": "3292a5a9",
   "metadata": {},
   "source": [
    "<a id=\"5\"></a>\n",
    "### <p style=\"padding:10px;background-color:grey ;margin:0;color:white;font-family:newtimeroman;font-size:100%;text-align:center;border-radius: 15px 50px;overflow:hidden;font-weight:500\">1. Análisis Exploratorio de Datos (EDA) 📋 </p>"
   ]
  },
  {
   "cell_type": "markdown",
   "id": "7de586c6",
   "metadata": {},
   "source": [
    "El primer paso consistió en una revisión exhaustiva del conjunto de datos, con el fin de identificar patrones, valores atípicos, vacíos de información y comportamientos estacionales. Se realizaron:\n",
    "\n",
    "- Análisis descriptivos por municipio y tipo de servicio.\n",
    "\n",
    "- Visualizaciones temporales para detectar picos de demanda.\n",
    "\n",
    "- Evaluación de la distribución y dispersión de las atenciones médicas.\n",
    "\n",
    "- Correlaciones entre variables socioeconómicas y frecuencia de atención."
   ]
  },
  {
   "cell_type": "markdown",
   "id": "86180aa0",
   "metadata": {},
   "source": [
    "<a id=\"5\"></a>\n",
    "### <p style=\"padding:10px;background-color:grey ;margin:0;color:white;font-family:newtimeroman;font-size:100%;text-align:center;border-radius: 15px 50px;overflow:hidden;font-weight:500\">2. Preprocesamiento y Enriquecimiento de Datos 📋 </p> "
   ]
  },
  {
   "cell_type": "markdown",
   "id": "40c9ae01",
   "metadata": {},
   "source": [
    "Para fortalecer el poder predictivo del modelo, se aplicaron procesos de limpieza y transformación de datos:\n",
    "\n",
    "- Conversión de fechas a formatos compatibles para análisis temporal.\n",
    "\n",
    "- Estandarización de nombres de municipios y servicios médicos.\n",
    "\n",
    "- Incorporación de variables externas como:\n",
    "\n",
    "    - Indicadores económicos por región (PIB, desempleo, informalidad).\n",
    "\n",
    "    - Datos demográficos (densidad poblacional, proporción de población económicamente activa).\n",
    "\n",
    "    - Calendarios laborales y festivos nacionales y locales."
   ]
  },
  {
   "cell_type": "markdown",
   "id": "b178e5a8",
   "metadata": {},
   "source": [
    "<a id=\"5\"></a>\n",
    "### <p style=\"padding:10px;background-color:grey ;margin:0;color:white;font-family:newtimeroman;font-size:100%;text-align:center;border-radius: 15px 50px;overflow:hidden;font-weight:500\">3. Modelado Predictivo de la Demanda 📋 </p>   "
   ]
  },
  {
   "cell_type": "markdown",
   "id": "6705693c",
   "metadata": {},
   "source": [
    "Se implementaron y compararon distintos enfoques de modelado para capturar la variabilidad temporal y geográfica de la demanda:\n",
    "\n",
    "- Modelos tradicionales de series de tiempo:\n",
    "\n",
    "    - Holt-Winters (con y sin tendencia).\n",
    "\n",
    "    - SARIMA (con ajustes automáticos estacionales y no estacionales).\n",
    "    \n",
    "\n",
    "- Modelos avanzados basados en machine learning:\n",
    "\n",
    "    - Random Forest y Gradient Boosting (con variables exógenas).\n",
    "\n",
    "    - Prophet (modelo aditivo con estacionalidad y efectos externos).\n",
    "\n",
    "    - Redes neuronales simples (MLP) para casos con suficiente histórico.\n",
    "\n",
    "Se realizó validación cruzada temporal y se utilizaron métricas como MAE, RMSE y MAPE para comparar el rendimiento de los modelos."
   ]
  },
  {
   "cell_type": "markdown",
   "id": "92320186",
   "metadata": {},
   "source": [
    "<a id=\"5\"></a>\n",
    "### <p style=\"padding:10px;background-color:grey ;margin:0;color:white;font-family:newtimeroman;font-size:100%;text-align:center;border-radius: 15px 50px;overflow:hidden;font-weight:500\">4. Visualización y Comunicación de Resultados 📋 </p> "
   ]
  },
  {
   "cell_type": "markdown",
   "id": "8c0acf79",
   "metadata": {},
   "source": [
    "Con el objetivo de facilitar la interpretación y la toma de decisiones, se diseñaron visualizaciones claras e interactivas:\n",
    "\n",
    "- Series de tiempo comparativas entre municipios.\n",
    "\n",
    "- Mapas de calor de demanda proyectada.\n",
    "\n",
    "- Gráficas de error y desempeño por modelo.\n",
    "\n",
    "- Reportes automatizados generados con Python (Dash, Matplotlib y Plotly)."
   ]
  },
  {
   "cell_type": "markdown",
   "id": "983cedae",
   "metadata": {},
   "source": [
    "<a id=\"5\"></a>\n",
    "### <p style=\"padding:10px;background-color:grey ;margin:0;color:white;font-family:newtimeroman;font-size:100%;text-align:center;border-radius: 15px 50px;overflow:hidden;font-weight:500\">5. Documentación y Reproducibilidad 📋 </p>  "
   ]
  },
  {
   "cell_type": "markdown",
   "id": "bbd7e099",
   "metadata": {},
   "source": [
    "Se elaboró una documentación detallada del proceso, incluyendo:\n",
    "\n",
    "- Comentarios y estructura del código en Python.\n",
    "\n",
    "- Descripción de supuestos, decisiones metodológicas y criterios de selección.\n",
    "\n",
    "- Recomendaciones para implementación en producción o escalado institucional."
   ]
  },
  {
   "cell_type": "markdown",
   "id": "edcb3294",
   "metadata": {},
   "source": [
    "<a id=\"5\"></a>\n",
    "# <p style=\"padding:10px;background-color:#4A235A ;margin:0;color:#E2EEF3;font-family:newtimeroman;font-size:100%;text-align:center;border-radius: 15px 50px;overflow:hidden;font-weight:500\">Paquetes necesarios 🔍</p>"
   ]
  },
  {
   "cell_type": "markdown",
   "id": "1b386bc5",
   "metadata": {},
   "source": [
    "Para el desarrollo de este análisis fue necesario importar varios paquetes fundamentales en el ecosistema de Python, los cuales permiten el manejo eficiente de datos y la generación de visualizaciones informativas:\n",
    "\n",
    "- `pandas`: utilizado para la carga, manipulación y análisis estructurado de los datos. Su capacidad para trabajar con DataFrames resulta esencial en todo el proceso analítico.\n",
    "\n",
    "- `time`, `datetime`, `timedelta` y  `mktime`: empleados para el tratamiento de variables temporales, cálculo de diferencias entre fechas y conversión de formatos, lo cual es crucial en análisis de series de tiempo.\n",
    "\n",
    "- `seaborn` y `matplotlib.pyplot`: utilizados para generar gráficos estáticos que permiten visualizar patrones, tendencias y relaciones entre variables, facilitando la interpretación de los resultados obtenidos.\n",
    "\n",
    "Estas librerías proporcionan una base robusta para realizar desde el análisis exploratorio inicial hasta la presentación final de los hallazgos.\n",
    "\n"
   ]
  },
  {
   "cell_type": "code",
   "execution_count": 1,
   "id": "23b5e0ef",
   "metadata": {},
   "outputs": [],
   "source": [
    "import pandas as pd\n",
    "from time import mktime\n",
    "from datetime import datetime, timedelta\n",
    "import time\n",
    "import seaborn as sns\n",
    "import matplotlib.pyplot as plt"
   ]
  },
  {
   "cell_type": "markdown",
   "id": "71974cce",
   "metadata": {},
   "source": [
    "En el siguiente bloque se utiliza para suprimir advertencias durante la ejecución del código. Es útil cuando se desea evitar mensajes innecesarios que no afectan el resultado final, manteniendo el notebook o script más limpio y legible."
   ]
  },
  {
   "cell_type": "code",
   "execution_count": 4,
   "id": "688cba7f",
   "metadata": {},
   "outputs": [],
   "source": [
    "import warnings\n",
    "warnings.filterwarnings(\"ignore\")"
   ]
  },
  {
   "cell_type": "markdown",
   "id": "ba656908",
   "metadata": {},
   "source": [
    "Algunas funciones de `Seaborn` configuran la apariencia de las gráficas. Por ejemplo, \n",
    "\n",
    "`sns.set_theme()`: aplica un estilo visual predeterminado para todas las gráficas (colores, líneas, fuentes).\n",
    "\n",
    "`sns.set_context(\"paper\")`: ajusta el tamaño de los elementos gráficos (títulos, etiquetas, ejes) para que se vean bien en documentos escritos o publicaciones."
   ]
  },
  {
   "cell_type": "code",
   "execution_count": 5,
   "id": "261e76b2",
   "metadata": {},
   "outputs": [],
   "source": [
    "sns.set_theme()\n",
    "sns.set_context(\"paper\")"
   ]
  },
  {
   "cell_type": "markdown",
   "id": "74ea83aa",
   "metadata": {},
   "source": [
    "<a id=\"5\"></a>\n",
    "# <p style=\"padding:10px;background-color:#4A235A ;margin:0;color:#E2EEF3;font-family:newtimeroman;font-size:100%;text-align:center;border-radius: 15px 50px;overflow:hidden;font-weight:500\">Carga de la base de datos 🔍</p>"
   ]
  },
  {
   "cell_type": "markdown",
   "id": "cb4fbe3e",
   "metadata": {},
   "source": [
    "<a id=\"5\"></a>\n",
    "### <p style=\"padding:10px;background-color:grey ;margin:0;color:white;font-family:newtimeroman;font-size:100%;text-align:center;border-radius: 15px 50px;overflow:hidden;font-weight:500\">Data frame `Data.txt` 📋 </p>  "
   ]
  },
  {
   "cell_type": "markdown",
   "id": "9944d864",
   "metadata": {},
   "source": [
    "Para iniciar el análisis, se cargó el archivo base `Data.txt` utilizando la función `read_csv()` de la librería `pandas`. Dado que el archivo presenta un separador personalizado (en este caso, el carácter `|`), fue necesario especificarlo mediante el argumento `sep`. Además, se definió la codificación en `UTF-8` para asegurar una correcta lectura de caracteres especiales."
   ]
  },
  {
   "cell_type": "code",
   "execution_count": 7,
   "id": "ce037e9d",
   "metadata": {},
   "outputs": [],
   "source": [
    "\n",
    "# Cargar el archivo TXT (puede estar delimitado por comas, tabulaciones u otro carácter)\n",
    "# Asegúrate del delimitador correcto: si es CSV, puede que sea ',' o ';'; si es de Excel tabulado, suele ser '\\t'\n",
    "df0 = pd.read_csv('Data.txt', encoding='utf-8', sep='|', low_memory=False)  # Cambia '\\t' si el delimitador es otro\n"
   ]
  },
  {
   "cell_type": "markdown",
   "id": "813f9837",
   "metadata": {},
   "source": [
    "Esta configuración asegura una correcta lectura del archivo, incluso cuando el volumen de datos es elevado o contiene caracteres especiales. El argumento `low_memory=False` permite procesar tipos de datos más consistentemente en archivos grandes."
   ]
  },
  {
   "cell_type": "markdown",
   "id": "614939f4",
   "metadata": {},
   "source": [
    "<a id=\"5\"></a>\n",
    "### <p style=\"padding:10px;background-color:grey ;margin:0;color:white;font-family:newtimeroman;font-size:100%;text-align:center;border-radius: 15px 50px;overflow:hidden;font-weight:500\">Visualización de la base de datos 📋 </p>  "
   ]
  },
  {
   "cell_type": "markdown",
   "id": "57ea2379",
   "metadata": {},
   "source": [
    "Posteriormente, se realizó una visualización preliminar del contenido del data set utilizando el método `head()`, que muestra las primeras cinco filas. Para facilitar la lectura, se aplicó un formato visual resaltando el fondo de las celdas en color verde:"
   ]
  },
  {
   "cell_type": "code",
   "execution_count": 8,
   "id": "400875ea",
   "metadata": {},
   "outputs": [
    {
     "data": {
      "text/html": [
       "<style type=\"text/css\">\n",
       "#T_b5056_row0_col0, #T_b5056_row0_col1, #T_b5056_row0_col2, #T_b5056_row0_col3, #T_b5056_row0_col4, #T_b5056_row0_col5, #T_b5056_row0_col6, #T_b5056_row0_col7, #T_b5056_row0_col8, #T_b5056_row0_col9, #T_b5056_row0_col10, #T_b5056_row0_col11, #T_b5056_row0_col12, #T_b5056_row0_col13, #T_b5056_row0_col14, #T_b5056_row0_col15, #T_b5056_row0_col16, #T_b5056_row0_col17, #T_b5056_row0_col18, #T_b5056_row0_col19, #T_b5056_row0_col20, #T_b5056_row0_col21, #T_b5056_row0_col22, #T_b5056_row0_col23, #T_b5056_row0_col24, #T_b5056_row0_col25, #T_b5056_row0_col26, #T_b5056_row0_col27, #T_b5056_row0_col28, #T_b5056_row0_col29, #T_b5056_row0_col30, #T_b5056_row0_col31, #T_b5056_row0_col32, #T_b5056_row0_col33, #T_b5056_row0_col34, #T_b5056_row0_col35, #T_b5056_row0_col36, #T_b5056_row0_col37, #T_b5056_row0_col38, #T_b5056_row0_col39, #T_b5056_row0_col40, #T_b5056_row0_col41, #T_b5056_row1_col0, #T_b5056_row1_col1, #T_b5056_row1_col2, #T_b5056_row1_col3, #T_b5056_row1_col4, #T_b5056_row1_col5, #T_b5056_row1_col6, #T_b5056_row1_col7, #T_b5056_row1_col8, #T_b5056_row1_col9, #T_b5056_row1_col10, #T_b5056_row1_col11, #T_b5056_row1_col12, #T_b5056_row1_col13, #T_b5056_row1_col14, #T_b5056_row1_col15, #T_b5056_row1_col16, #T_b5056_row1_col17, #T_b5056_row1_col18, #T_b5056_row1_col19, #T_b5056_row1_col20, #T_b5056_row1_col21, #T_b5056_row1_col22, #T_b5056_row1_col23, #T_b5056_row1_col24, #T_b5056_row1_col25, #T_b5056_row1_col26, #T_b5056_row1_col27, #T_b5056_row1_col28, #T_b5056_row1_col29, #T_b5056_row1_col30, #T_b5056_row1_col31, #T_b5056_row1_col32, #T_b5056_row1_col33, #T_b5056_row1_col34, #T_b5056_row1_col35, #T_b5056_row1_col36, #T_b5056_row1_col37, #T_b5056_row1_col38, #T_b5056_row1_col39, #T_b5056_row1_col40, #T_b5056_row1_col41, #T_b5056_row2_col0, #T_b5056_row2_col1, #T_b5056_row2_col2, #T_b5056_row2_col3, #T_b5056_row2_col4, #T_b5056_row2_col5, #T_b5056_row2_col6, #T_b5056_row2_col7, #T_b5056_row2_col8, #T_b5056_row2_col9, #T_b5056_row2_col10, #T_b5056_row2_col11, #T_b5056_row2_col12, #T_b5056_row2_col13, #T_b5056_row2_col14, #T_b5056_row2_col15, #T_b5056_row2_col16, #T_b5056_row2_col17, #T_b5056_row2_col18, #T_b5056_row2_col19, #T_b5056_row2_col20, #T_b5056_row2_col21, #T_b5056_row2_col22, #T_b5056_row2_col23, #T_b5056_row2_col24, #T_b5056_row2_col25, #T_b5056_row2_col26, #T_b5056_row2_col27, #T_b5056_row2_col28, #T_b5056_row2_col29, #T_b5056_row2_col30, #T_b5056_row2_col31, #T_b5056_row2_col32, #T_b5056_row2_col33, #T_b5056_row2_col34, #T_b5056_row2_col35, #T_b5056_row2_col36, #T_b5056_row2_col37, #T_b5056_row2_col38, #T_b5056_row2_col39, #T_b5056_row2_col40, #T_b5056_row2_col41, #T_b5056_row3_col0, #T_b5056_row3_col1, #T_b5056_row3_col2, #T_b5056_row3_col3, #T_b5056_row3_col4, #T_b5056_row3_col5, #T_b5056_row3_col6, #T_b5056_row3_col7, #T_b5056_row3_col8, #T_b5056_row3_col9, #T_b5056_row3_col10, #T_b5056_row3_col11, #T_b5056_row3_col12, #T_b5056_row3_col13, #T_b5056_row3_col14, #T_b5056_row3_col15, #T_b5056_row3_col16, #T_b5056_row3_col17, #T_b5056_row3_col18, #T_b5056_row3_col19, #T_b5056_row3_col20, #T_b5056_row3_col21, #T_b5056_row3_col22, #T_b5056_row3_col23, #T_b5056_row3_col24, #T_b5056_row3_col25, #T_b5056_row3_col26, #T_b5056_row3_col27, #T_b5056_row3_col28, #T_b5056_row3_col29, #T_b5056_row3_col30, #T_b5056_row3_col31, #T_b5056_row3_col32, #T_b5056_row3_col33, #T_b5056_row3_col34, #T_b5056_row3_col35, #T_b5056_row3_col36, #T_b5056_row3_col37, #T_b5056_row3_col38, #T_b5056_row3_col39, #T_b5056_row3_col40, #T_b5056_row3_col41, #T_b5056_row4_col0, #T_b5056_row4_col1, #T_b5056_row4_col2, #T_b5056_row4_col3, #T_b5056_row4_col4, #T_b5056_row4_col5, #T_b5056_row4_col6, #T_b5056_row4_col7, #T_b5056_row4_col8, #T_b5056_row4_col9, #T_b5056_row4_col10, #T_b5056_row4_col11, #T_b5056_row4_col12, #T_b5056_row4_col13, #T_b5056_row4_col14, #T_b5056_row4_col15, #T_b5056_row4_col16, #T_b5056_row4_col17, #T_b5056_row4_col18, #T_b5056_row4_col19, #T_b5056_row4_col20, #T_b5056_row4_col21, #T_b5056_row4_col22, #T_b5056_row4_col23, #T_b5056_row4_col24, #T_b5056_row4_col25, #T_b5056_row4_col26, #T_b5056_row4_col27, #T_b5056_row4_col28, #T_b5056_row4_col29, #T_b5056_row4_col30, #T_b5056_row4_col31, #T_b5056_row4_col32, #T_b5056_row4_col33, #T_b5056_row4_col34, #T_b5056_row4_col35, #T_b5056_row4_col36, #T_b5056_row4_col37, #T_b5056_row4_col38, #T_b5056_row4_col39, #T_b5056_row4_col40, #T_b5056_row4_col41 {\n",
       "  background-color: green;\n",
       "}\n",
       "</style>\n",
       "<table id=\"T_b5056\">\n",
       "  <thead>\n",
       "    <tr>\n",
       "      <th class=\"blank level0\" >&nbsp;</th>\n",
       "      <th id=\"T_b5056_level0_col0\" class=\"col_heading level0 col0\" >Nombre_Oficina_Arp</th>\n",
       "      <th id=\"T_b5056_level0_col1\" class=\"col_heading level0 col1\" >Numero_Uen_Arp</th>\n",
       "      <th id=\"T_b5056_level0_col2\" class=\"col_heading level0 col2\" >Siniestro_Arp_Id</th>\n",
       "      <th id=\"T_b5056_level0_col3\" class=\"col_heading level0 col3\" >Nombre_Sinies_Diagnosti_Princi</th>\n",
       "      <th id=\"T_b5056_level0_col4\" class=\"col_heading level0 col4\" >Siniestro_Diagnosti_Princi_Id</th>\n",
       "      <th id=\"T_b5056_level0_col5\" class=\"col_heading level0 col5\" >Nombre_Tipo_Atencion_Arp</th>\n",
       "      <th id=\"T_b5056_level0_col6\" class=\"col_heading level0 col6\" >DNI_IPS</th>\n",
       "      <th id=\"T_b5056_level0_col7\" class=\"col_heading level0 col7\" >Nombre_IPS</th>\n",
       "      <th id=\"T_b5056_level0_col8\" class=\"col_heading level0 col8\" >Nombre_Municipio_IPS</th>\n",
       "      <th id=\"T_b5056_level0_col9\" class=\"col_heading level0 col9\" >Nombre_Departamento_IPS</th>\n",
       "      <th id=\"T_b5056_level0_col10\" class=\"col_heading level0 col10\" >NOMBRE_SUCURSAL</th>\n",
       "      <th id=\"T_b5056_level0_col11\" class=\"col_heading level0 col11\" >NOMBRE_MUNICIPIO_SUCURSAL</th>\n",
       "      <th id=\"T_b5056_level0_col12\" class=\"col_heading level0 col12\" >NOMBRE_DEPARTAMENTO_SUCURSAL</th>\n",
       "      <th id=\"T_b5056_level0_col13\" class=\"col_heading level0 col13\" >DNI_ESTABLECIMIENTO</th>\n",
       "      <th id=\"T_b5056_level0_col14\" class=\"col_heading level0 col14\" >Nombre_Establecimiento</th>\n",
       "      <th id=\"T_b5056_level0_col15\" class=\"col_heading level0 col15\" >Nombre_Municipio_Establecimiento</th>\n",
       "      <th id=\"T_b5056_level0_col16\" class=\"col_heading level0 col16\" >Nombre_Departamento_Establecimiento</th>\n",
       "      <th id=\"T_b5056_level0_col17\" class=\"col_heading level0 col17\" >DNI_MEDICO</th>\n",
       "      <th id=\"T_b5056_level0_col18\" class=\"col_heading level0 col18\" >Nombre_Medico</th>\n",
       "      <th id=\"T_b5056_level0_col19\" class=\"col_heading level0 col19\" >Nombre_Municipio_Medico</th>\n",
       "      <th id=\"T_b5056_level0_col20\" class=\"col_heading level0 col20\" >Nombre_Departamento_Medico</th>\n",
       "      <th id=\"T_b5056_level0_col21\" class=\"col_heading level0 col21\" >FECHA_PROCESO</th>\n",
       "      <th id=\"T_b5056_level0_col22\" class=\"col_heading level0 col22\" >FECHA_ATENCION</th>\n",
       "      <th id=\"T_b5056_level0_col23\" class=\"col_heading level0 col23\" >NUMERO_AUTORIZACION</th>\n",
       "      <th id=\"T_b5056_level0_col24\" class=\"col_heading level0 col24\" >CODIGO_ESTADO</th>\n",
       "      <th id=\"T_b5056_level0_col25\" class=\"col_heading level0 col25\" >Tipo_Llamada_Arp_Desc</th>\n",
       "      <th id=\"T_b5056_level0_col26\" class=\"col_heading level0 col26\" >DSTIPO_EXAMEN</th>\n",
       "      <th id=\"T_b5056_level0_col27\" class=\"col_heading level0 col27\" >CODIGO_PROCEDIMIENTO</th>\n",
       "      <th id=\"T_b5056_level0_col28\" class=\"col_heading level0 col28\" >CODIGO_CONCEPTO</th>\n",
       "      <th id=\"T_b5056_level0_col29\" class=\"col_heading level0 col29\" >Concepto_Factura_Desc</th>\n",
       "      <th id=\"T_b5056_level0_col30\" class=\"col_heading level0 col30\" >FECHA_FIN_INCAPACIDAD</th>\n",
       "      <th id=\"T_b5056_level0_col31\" class=\"col_heading level0 col31\" >FECHA_INICIO_INCAPACIDAD</th>\n",
       "      <th id=\"T_b5056_level0_col32\" class=\"col_heading level0 col32\" >TIPIFICACION</th>\n",
       "      <th id=\"T_b5056_level0_col33\" class=\"col_heading level0 col33\" >TIPO_CITA</th>\n",
       "      <th id=\"T_b5056_level0_col34\" class=\"col_heading level0 col34\" >Dias_IT</th>\n",
       "      <th id=\"T_b5056_level0_col35\" class=\"col_heading level0 col35\" >AÑO</th>\n",
       "      <th id=\"T_b5056_level0_col36\" class=\"col_heading level0 col36\" >PERIODO</th>\n",
       "      <th id=\"T_b5056_level0_col37\" class=\"col_heading level0 col37\" >Cantidad</th>\n",
       "      <th id=\"T_b5056_level0_col38\" class=\"col_heading level0 col38\" >Geogra_Municipio_Id</th>\n",
       "      <th id=\"T_b5056_level0_col39\" class=\"col_heading level0 col39\" >Total_Registros</th>\n",
       "      <th id=\"T_b5056_level0_col40\" class=\"col_heading level0 col40\" >MUNICIPIO</th>\n",
       "      <th id=\"T_b5056_level0_col41\" class=\"col_heading level0 col41\" >HOMOLOGACION NIT</th>\n",
       "    </tr>\n",
       "  </thead>\n",
       "  <tbody>\n",
       "    <tr>\n",
       "      <th id=\"T_b5056_level0_row0\" class=\"row_heading level0 row0\" >0</th>\n",
       "      <td id=\"T_b5056_row0_col0\" class=\"data row0 col0\" >OFICINA BOGOTA</td>\n",
       "      <td id=\"T_b5056_row0_col1\" class=\"data row0 col1\" >419</td>\n",
       "      <td id=\"T_b5056_row0_col2\" class=\"data row0 col2\" >bf0bf0c0e3</td>\n",
       "      <td id=\"T_b5056_row0_col3\" class=\"data row0 col3\" >G560</td>\n",
       "      <td id=\"T_b5056_row0_col4\" class=\"data row0 col4\" >G560</td>\n",
       "      <td id=\"T_b5056_row0_col5\" class=\"data row0 col5\" >AMBULATORIA</td>\n",
       "      <td id=\"T_b5056_row0_col6\" class=\"data row0 col6\" >5708b4378b</td>\n",
       "      <td id=\"T_b5056_row0_col7\" class=\"data row0 col7\" >905d8f470c</td>\n",
       "      <td id=\"T_b5056_row0_col8\" class=\"data row0 col8\" >MEDELLIN</td>\n",
       "      <td id=\"T_b5056_row0_col9\" class=\"data row0 col9\" >ANTIOQUIA</td>\n",
       "      <td id=\"T_b5056_row0_col10\" class=\"data row0 col10\" >SIN DATO</td>\n",
       "      <td id=\"T_b5056_row0_col11\" class=\"data row0 col11\" >BOGOTA</td>\n",
       "      <td id=\"T_b5056_row0_col12\" class=\"data row0 col12\" >BOGOTA D.C.</td>\n",
       "      <td id=\"T_b5056_row0_col13\" class=\"data row0 col13\" >SIN DATO</td>\n",
       "      <td id=\"T_b5056_row0_col14\" class=\"data row0 col14\" >21539c4082</td>\n",
       "      <td id=\"T_b5056_row0_col15\" class=\"data row0 col15\" >?</td>\n",
       "      <td id=\"T_b5056_row0_col16\" class=\"data row0 col16\" >?</td>\n",
       "      <td id=\"T_b5056_row0_col17\" class=\"data row0 col17\" >SIN DATO</td>\n",
       "      <td id=\"T_b5056_row0_col18\" class=\"data row0 col18\" >SIN DATO</td>\n",
       "      <td id=\"T_b5056_row0_col19\" class=\"data row0 col19\" >?</td>\n",
       "      <td id=\"T_b5056_row0_col20\" class=\"data row0 col20\" >?</td>\n",
       "      <td id=\"T_b5056_row0_col21\" class=\"data row0 col21\" >13/06/2019 12:32:08</td>\n",
       "      <td id=\"T_b5056_row0_col22\" class=\"data row0 col22\" >2019-07-12 06:20:00</td>\n",
       "      <td id=\"T_b5056_row0_col23\" class=\"data row0 col23\" >13429166.000000</td>\n",
       "      <td id=\"T_b5056_row0_col24\" class=\"data row0 col24\" >C</td>\n",
       "      <td id=\"T_b5056_row0_col25\" class=\"data row0 col25\" >CONTROL IPS</td>\n",
       "      <td id=\"T_b5056_row0_col26\" class=\"data row0 col26\" >?</td>\n",
       "      <td id=\"T_b5056_row0_col27\" class=\"data row0 col27\" >?</td>\n",
       "      <td id=\"T_b5056_row0_col28\" class=\"data row0 col28\" >83</td>\n",
       "      <td id=\"T_b5056_row0_col29\" class=\"data row0 col29\" >MSI -MEDICO SEGUIMIENTO INTEGRAL</td>\n",
       "      <td id=\"T_b5056_row0_col30\" class=\"data row0 col30\" >?</td>\n",
       "      <td id=\"T_b5056_row0_col31\" class=\"data row0 col31\" >?</td>\n",
       "      <td id=\"T_b5056_row0_col32\" class=\"data row0 col32\" >CITAS FRONT</td>\n",
       "      <td id=\"T_b5056_row0_col33\" class=\"data row0 col33\" >?</td>\n",
       "      <td id=\"T_b5056_row0_col34\" class=\"data row0 col34\" >?</td>\n",
       "      <td id=\"T_b5056_row0_col35\" class=\"data row0 col35\" >2019.000000</td>\n",
       "      <td id=\"T_b5056_row0_col36\" class=\"data row0 col36\" >2019-07</td>\n",
       "      <td id=\"T_b5056_row0_col37\" class=\"data row0 col37\" >1.000000</td>\n",
       "      <td id=\"T_b5056_row0_col38\" class=\"data row0 col38\" >586</td>\n",
       "      <td id=\"T_b5056_row0_col39\" class=\"data row0 col39\" >1</td>\n",
       "      <td id=\"T_b5056_row0_col40\" class=\"data row0 col40\" >BOGOTA</td>\n",
       "      <td id=\"T_b5056_row0_col41\" class=\"data row0 col41\" >3d1546fd2b</td>\n",
       "    </tr>\n",
       "    <tr>\n",
       "      <th id=\"T_b5056_level0_row1\" class=\"row_heading level0 row1\" >1</th>\n",
       "      <td id=\"T_b5056_row1_col0\" class=\"data row1 col0\" >OFICINA BOGOTA</td>\n",
       "      <td id=\"T_b5056_row1_col1\" class=\"data row1 col1\" >411</td>\n",
       "      <td id=\"T_b5056_row1_col2\" class=\"data row1 col2\" >96e0b92217</td>\n",
       "      <td id=\"T_b5056_row1_col3\" class=\"data row1 col3\" >S626</td>\n",
       "      <td id=\"T_b5056_row1_col4\" class=\"data row1 col4\" >S626</td>\n",
       "      <td id=\"T_b5056_row1_col5\" class=\"data row1 col5\" >QUIRURGICO AMBULATORIO</td>\n",
       "      <td id=\"T_b5056_row1_col6\" class=\"data row1 col6\" >5708b4378b</td>\n",
       "      <td id=\"T_b5056_row1_col7\" class=\"data row1 col7\" >905d8f470c</td>\n",
       "      <td id=\"T_b5056_row1_col8\" class=\"data row1 col8\" >MEDELLIN</td>\n",
       "      <td id=\"T_b5056_row1_col9\" class=\"data row1 col9\" >ANTIOQUIA</td>\n",
       "      <td id=\"T_b5056_row1_col10\" class=\"data row1 col10\" >SIN DATO</td>\n",
       "      <td id=\"T_b5056_row1_col11\" class=\"data row1 col11\" >BOGOTA</td>\n",
       "      <td id=\"T_b5056_row1_col12\" class=\"data row1 col12\" >BOGOTA D.C.</td>\n",
       "      <td id=\"T_b5056_row1_col13\" class=\"data row1 col13\" >SIN DATO</td>\n",
       "      <td id=\"T_b5056_row1_col14\" class=\"data row1 col14\" >a8f2d23df3</td>\n",
       "      <td id=\"T_b5056_row1_col15\" class=\"data row1 col15\" >?</td>\n",
       "      <td id=\"T_b5056_row1_col16\" class=\"data row1 col16\" >?</td>\n",
       "      <td id=\"T_b5056_row1_col17\" class=\"data row1 col17\" >SIN DATO</td>\n",
       "      <td id=\"T_b5056_row1_col18\" class=\"data row1 col18\" >SIN DATO</td>\n",
       "      <td id=\"T_b5056_row1_col19\" class=\"data row1 col19\" >?</td>\n",
       "      <td id=\"T_b5056_row1_col20\" class=\"data row1 col20\" >?</td>\n",
       "      <td id=\"T_b5056_row1_col21\" class=\"data row1 col21\" >20/06/2019 09:00:50</td>\n",
       "      <td id=\"T_b5056_row1_col22\" class=\"data row1 col22\" >2019-06-18 11:08:00</td>\n",
       "      <td id=\"T_b5056_row1_col23\" class=\"data row1 col23\" >13463035.000000</td>\n",
       "      <td id=\"T_b5056_row1_col24\" class=\"data row1 col24\" >C</td>\n",
       "      <td id=\"T_b5056_row1_col25\" class=\"data row1 col25\" >CONTROL PROCEDIMIENTO</td>\n",
       "      <td id=\"T_b5056_row1_col26\" class=\"data row1 col26\" >SESION FISIOTERAPIA</td>\n",
       "      <td id=\"T_b5056_row1_col27\" class=\"data row1 col27\" >FISI</td>\n",
       "      <td id=\"T_b5056_row1_col28\" class=\"data row1 col28\" >18</td>\n",
       "      <td id=\"T_b5056_row1_col29\" class=\"data row1 col29\" >SESIONES DE FISIOTERAPIA</td>\n",
       "      <td id=\"T_b5056_row1_col30\" class=\"data row1 col30\" >?</td>\n",
       "      <td id=\"T_b5056_row1_col31\" class=\"data row1 col31\" >?</td>\n",
       "      <td id=\"T_b5056_row1_col32\" class=\"data row1 col32\" >CITAS BACK</td>\n",
       "      <td id=\"T_b5056_row1_col33\" class=\"data row1 col33\" >C</td>\n",
       "      <td id=\"T_b5056_row1_col34\" class=\"data row1 col34\" >?</td>\n",
       "      <td id=\"T_b5056_row1_col35\" class=\"data row1 col35\" >2019.000000</td>\n",
       "      <td id=\"T_b5056_row1_col36\" class=\"data row1 col36\" >2019-06</td>\n",
       "      <td id=\"T_b5056_row1_col37\" class=\"data row1 col37\" >2.000000</td>\n",
       "      <td id=\"T_b5056_row1_col38\" class=\"data row1 col38\" >586</td>\n",
       "      <td id=\"T_b5056_row1_col39\" class=\"data row1 col39\" >1</td>\n",
       "      <td id=\"T_b5056_row1_col40\" class=\"data row1 col40\" >BOGOTA</td>\n",
       "      <td id=\"T_b5056_row1_col41\" class=\"data row1 col41\" >3d1546fd2b</td>\n",
       "    </tr>\n",
       "    <tr>\n",
       "      <th id=\"T_b5056_level0_row2\" class=\"row_heading level0 row2\" >2</th>\n",
       "      <td id=\"T_b5056_row2_col0\" class=\"data row2 col0\" >OFICINA BOGOTA</td>\n",
       "      <td id=\"T_b5056_row2_col1\" class=\"data row2 col1\" >414</td>\n",
       "      <td id=\"T_b5056_row2_col2\" class=\"data row2 col2\" >47999f6929</td>\n",
       "      <td id=\"T_b5056_row2_col3\" class=\"data row2 col3\" >S835</td>\n",
       "      <td id=\"T_b5056_row2_col4\" class=\"data row2 col4\" >S835</td>\n",
       "      <td id=\"T_b5056_row2_col5\" class=\"data row2 col5\" >QUIRURGICO AMBULATORIO</td>\n",
       "      <td id=\"T_b5056_row2_col6\" class=\"data row2 col6\" >541c0565f5</td>\n",
       "      <td id=\"T_b5056_row2_col7\" class=\"data row2 col7\" >1ee303f2d8</td>\n",
       "      <td id=\"T_b5056_row2_col8\" class=\"data row2 col8\" >BOGOTA</td>\n",
       "      <td id=\"T_b5056_row2_col9\" class=\"data row2 col9\" >BOGOTA D.C.</td>\n",
       "      <td id=\"T_b5056_row2_col10\" class=\"data row2 col10\" >SIN DATO</td>\n",
       "      <td id=\"T_b5056_row2_col11\" class=\"data row2 col11\" >BOGOTA</td>\n",
       "      <td id=\"T_b5056_row2_col12\" class=\"data row2 col12\" >BOGOTA D.C.</td>\n",
       "      <td id=\"T_b5056_row2_col13\" class=\"data row2 col13\" >SIN DATO</td>\n",
       "      <td id=\"T_b5056_row2_col14\" class=\"data row2 col14\" >c91884bd59</td>\n",
       "      <td id=\"T_b5056_row2_col15\" class=\"data row2 col15\" >?</td>\n",
       "      <td id=\"T_b5056_row2_col16\" class=\"data row2 col16\" >?</td>\n",
       "      <td id=\"T_b5056_row2_col17\" class=\"data row2 col17\" >SIN DATO</td>\n",
       "      <td id=\"T_b5056_row2_col18\" class=\"data row2 col18\" >SIN DATO</td>\n",
       "      <td id=\"T_b5056_row2_col19\" class=\"data row2 col19\" >?</td>\n",
       "      <td id=\"T_b5056_row2_col20\" class=\"data row2 col20\" >?</td>\n",
       "      <td id=\"T_b5056_row2_col21\" class=\"data row2 col21\" >22/02/2019 15:08:14</td>\n",
       "      <td id=\"T_b5056_row2_col22\" class=\"data row2 col22\" >2019-03-05 07:20:00</td>\n",
       "      <td id=\"T_b5056_row2_col23\" class=\"data row2 col23\" >12873169.000000</td>\n",
       "      <td id=\"T_b5056_row2_col24\" class=\"data row2 col24\" >A</td>\n",
       "      <td id=\"T_b5056_row2_col25\" class=\"data row2 col25\" >CONTROL IPS</td>\n",
       "      <td id=\"T_b5056_row2_col26\" class=\"data row2 col26\" >?</td>\n",
       "      <td id=\"T_b5056_row2_col27\" class=\"data row2 col27\" >?</td>\n",
       "      <td id=\"T_b5056_row2_col28\" class=\"data row2 col28\" >32</td>\n",
       "      <td id=\"T_b5056_row2_col29\" class=\"data row2 col29\" >CONSULTA ORTOPEDISTA</td>\n",
       "      <td id=\"T_b5056_row2_col30\" class=\"data row2 col30\" >?</td>\n",
       "      <td id=\"T_b5056_row2_col31\" class=\"data row2 col31\" >?</td>\n",
       "      <td id=\"T_b5056_row2_col32\" class=\"data row2 col32\" >CITAS BACK</td>\n",
       "      <td id=\"T_b5056_row2_col33\" class=\"data row2 col33\" >C</td>\n",
       "      <td id=\"T_b5056_row2_col34\" class=\"data row2 col34\" >?</td>\n",
       "      <td id=\"T_b5056_row2_col35\" class=\"data row2 col35\" >2019.000000</td>\n",
       "      <td id=\"T_b5056_row2_col36\" class=\"data row2 col36\" >2019-03</td>\n",
       "      <td id=\"T_b5056_row2_col37\" class=\"data row2 col37\" >1.000000</td>\n",
       "      <td id=\"T_b5056_row2_col38\" class=\"data row2 col38\" >586</td>\n",
       "      <td id=\"T_b5056_row2_col39\" class=\"data row2 col39\" >1</td>\n",
       "      <td id=\"T_b5056_row2_col40\" class=\"data row2 col40\" >BOGOTA</td>\n",
       "      <td id=\"T_b5056_row2_col41\" class=\"data row2 col41\" >465b9adf14</td>\n",
       "    </tr>\n",
       "    <tr>\n",
       "      <th id=\"T_b5056_level0_row3\" class=\"row_heading level0 row3\" >3</th>\n",
       "      <td id=\"T_b5056_row3_col0\" class=\"data row3 col0\" >OFICINA CALI</td>\n",
       "      <td id=\"T_b5056_row3_col1\" class=\"data row3 col1\" >313</td>\n",
       "      <td id=\"T_b5056_row3_col2\" class=\"data row3 col2\" >bb99a4e01c</td>\n",
       "      <td id=\"T_b5056_row3_col3\" class=\"data row3 col3\" >M751</td>\n",
       "      <td id=\"T_b5056_row3_col4\" class=\"data row3 col4\" >M751</td>\n",
       "      <td id=\"T_b5056_row3_col5\" class=\"data row3 col5\" >QUIRURGICO AMBULATORIO</td>\n",
       "      <td id=\"T_b5056_row3_col6\" class=\"data row3 col6\" >8476ddb78e</td>\n",
       "      <td id=\"T_b5056_row3_col7\" class=\"data row3 col7\" >c7c466b6d9</td>\n",
       "      <td id=\"T_b5056_row3_col8\" class=\"data row3 col8\" >POPAYAN</td>\n",
       "      <td id=\"T_b5056_row3_col9\" class=\"data row3 col9\" >CAUCA</td>\n",
       "      <td id=\"T_b5056_row3_col10\" class=\"data row3 col10\" >SIN DATO</td>\n",
       "      <td id=\"T_b5056_row3_col11\" class=\"data row3 col11\" >SANTANDER DE QUILICHAO</td>\n",
       "      <td id=\"T_b5056_row3_col12\" class=\"data row3 col12\" >CAUCA</td>\n",
       "      <td id=\"T_b5056_row3_col13\" class=\"data row3 col13\" >SIN DATO</td>\n",
       "      <td id=\"T_b5056_row3_col14\" class=\"data row3 col14\" >03bda117d5</td>\n",
       "      <td id=\"T_b5056_row3_col15\" class=\"data row3 col15\" >?</td>\n",
       "      <td id=\"T_b5056_row3_col16\" class=\"data row3 col16\" >?</td>\n",
       "      <td id=\"T_b5056_row3_col17\" class=\"data row3 col17\" >SIN DATO</td>\n",
       "      <td id=\"T_b5056_row3_col18\" class=\"data row3 col18\" >SIN DATO</td>\n",
       "      <td id=\"T_b5056_row3_col19\" class=\"data row3 col19\" >?</td>\n",
       "      <td id=\"T_b5056_row3_col20\" class=\"data row3 col20\" >?</td>\n",
       "      <td id=\"T_b5056_row3_col21\" class=\"data row3 col21\" >5/10/2019 10:03:54</td>\n",
       "      <td id=\"T_b5056_row3_col22\" class=\"data row3 col22\" >2019-10-05 10:03:00</td>\n",
       "      <td id=\"T_b5056_row3_col23\" class=\"data row3 col23\" >14017574.000000</td>\n",
       "      <td id=\"T_b5056_row3_col24\" class=\"data row3 col24\" >C</td>\n",
       "      <td id=\"T_b5056_row3_col25\" class=\"data row3 col25\" >CONTROL IPS</td>\n",
       "      <td id=\"T_b5056_row3_col26\" class=\"data row3 col26\" >?</td>\n",
       "      <td id=\"T_b5056_row3_col27\" class=\"data row3 col27\" >?</td>\n",
       "      <td id=\"T_b5056_row3_col28\" class=\"data row3 col28\" >127</td>\n",
       "      <td id=\"T_b5056_row3_col29\" class=\"data row3 col29\" >CONSULTA NO PROGRAMADA</td>\n",
       "      <td id=\"T_b5056_row3_col30\" class=\"data row3 col30\" >?</td>\n",
       "      <td id=\"T_b5056_row3_col31\" class=\"data row3 col31\" >?</td>\n",
       "      <td id=\"T_b5056_row3_col32\" class=\"data row3 col32\" >URGENCIAS FRONT</td>\n",
       "      <td id=\"T_b5056_row3_col33\" class=\"data row3 col33\" >I</td>\n",
       "      <td id=\"T_b5056_row3_col34\" class=\"data row3 col34\" >?</td>\n",
       "      <td id=\"T_b5056_row3_col35\" class=\"data row3 col35\" >2019.000000</td>\n",
       "      <td id=\"T_b5056_row3_col36\" class=\"data row3 col36\" >2019-10</td>\n",
       "      <td id=\"T_b5056_row3_col37\" class=\"data row3 col37\" >1.000000</td>\n",
       "      <td id=\"T_b5056_row3_col38\" class=\"data row3 col38\" >834</td>\n",
       "      <td id=\"T_b5056_row3_col39\" class=\"data row3 col39\" >1</td>\n",
       "      <td id=\"T_b5056_row3_col40\" class=\"data row3 col40\" >SANTIAGO DE CALI</td>\n",
       "      <td id=\"T_b5056_row3_col41\" class=\"data row3 col41\" >70f15219b4</td>\n",
       "    </tr>\n",
       "    <tr>\n",
       "      <th id=\"T_b5056_level0_row4\" class=\"row_heading level0 row4\" >4</th>\n",
       "      <td id=\"T_b5056_row4_col0\" class=\"data row4 col0\" >OFICINA CALI</td>\n",
       "      <td id=\"T_b5056_row4_col1\" class=\"data row4 col1\" >313</td>\n",
       "      <td id=\"T_b5056_row4_col2\" class=\"data row4 col2\" >8637e3adde</td>\n",
       "      <td id=\"T_b5056_row4_col3\" class=\"data row4 col3\" >M545</td>\n",
       "      <td id=\"T_b5056_row4_col4\" class=\"data row4 col4\" >M545</td>\n",
       "      <td id=\"T_b5056_row4_col5\" class=\"data row4 col5\" >AMBULATORIA</td>\n",
       "      <td id=\"T_b5056_row4_col6\" class=\"data row4 col6\" >cd78551faa</td>\n",
       "      <td id=\"T_b5056_row4_col7\" class=\"data row4 col7\" >db23282a62</td>\n",
       "      <td id=\"T_b5056_row4_col8\" class=\"data row4 col8\" >SANTIAGO DE CALI</td>\n",
       "      <td id=\"T_b5056_row4_col9\" class=\"data row4 col9\" >VALLE DEL CAUCA</td>\n",
       "      <td id=\"T_b5056_row4_col10\" class=\"data row4 col10\" >SIN DATO</td>\n",
       "      <td id=\"T_b5056_row4_col11\" class=\"data row4 col11\" >BUGA</td>\n",
       "      <td id=\"T_b5056_row4_col12\" class=\"data row4 col12\" >VALLE DEL CAUCA</td>\n",
       "      <td id=\"T_b5056_row4_col13\" class=\"data row4 col13\" >SIN DATO</td>\n",
       "      <td id=\"T_b5056_row4_col14\" class=\"data row4 col14\" >fd38d78dc4</td>\n",
       "      <td id=\"T_b5056_row4_col15\" class=\"data row4 col15\" >?</td>\n",
       "      <td id=\"T_b5056_row4_col16\" class=\"data row4 col16\" >?</td>\n",
       "      <td id=\"T_b5056_row4_col17\" class=\"data row4 col17\" >SIN DATO</td>\n",
       "      <td id=\"T_b5056_row4_col18\" class=\"data row4 col18\" >SIN DATO</td>\n",
       "      <td id=\"T_b5056_row4_col19\" class=\"data row4 col19\" >?</td>\n",
       "      <td id=\"T_b5056_row4_col20\" class=\"data row4 col20\" >?</td>\n",
       "      <td id=\"T_b5056_row4_col21\" class=\"data row4 col21\" >25/06/2019 07:15:11</td>\n",
       "      <td id=\"T_b5056_row4_col22\" class=\"data row4 col22\" >2019-06-25 07:13:00</td>\n",
       "      <td id=\"T_b5056_row4_col23\" class=\"data row4 col23\" >13477098.000000</td>\n",
       "      <td id=\"T_b5056_row4_col24\" class=\"data row4 col24\" >C</td>\n",
       "      <td id=\"T_b5056_row4_col25\" class=\"data row4 col25\" >CONTROL PROCEDIMIENTO</td>\n",
       "      <td id=\"T_b5056_row4_col26\" class=\"data row4 col26\" >COLUMNA LUMBOSACRA</td>\n",
       "      <td id=\"T_b5056_row4_col27\" class=\"data row4 col27\" >RSIM</td>\n",
       "      <td id=\"T_b5056_row4_col28\" class=\"data row4 col28\" >09</td>\n",
       "      <td id=\"T_b5056_row4_col29\" class=\"data row4 col29\" >RADIOGRAFIA</td>\n",
       "      <td id=\"T_b5056_row4_col30\" class=\"data row4 col30\" >2/07/2019</td>\n",
       "      <td id=\"T_b5056_row4_col31\" class=\"data row4 col31\" >25/06/2019</td>\n",
       "      <td id=\"T_b5056_row4_col32\" class=\"data row4 col32\" >URGENCIAS FRONT</td>\n",
       "      <td id=\"T_b5056_row4_col33\" class=\"data row4 col33\" >I</td>\n",
       "      <td id=\"T_b5056_row4_col34\" class=\"data row4 col34\" >8</td>\n",
       "      <td id=\"T_b5056_row4_col35\" class=\"data row4 col35\" >2019.000000</td>\n",
       "      <td id=\"T_b5056_row4_col36\" class=\"data row4 col36\" >2019-06</td>\n",
       "      <td id=\"T_b5056_row4_col37\" class=\"data row4 col37\" >1.000000</td>\n",
       "      <td id=\"T_b5056_row4_col38\" class=\"data row4 col38\" >2546</td>\n",
       "      <td id=\"T_b5056_row4_col39\" class=\"data row4 col39\" >1</td>\n",
       "      <td id=\"T_b5056_row4_col40\" class=\"data row4 col40\" >GUACARI</td>\n",
       "      <td id=\"T_b5056_row4_col41\" class=\"data row4 col41\" >f4d75f31e4</td>\n",
       "    </tr>\n",
       "  </tbody>\n",
       "</table>\n"
      ],
      "text/plain": [
       "<pandas.io.formats.style.Styler at 0x21b127cc500>"
      ]
     },
     "execution_count": 8,
     "metadata": {},
     "output_type": "execute_result"
    }
   ],
   "source": [
    "# Mostrar las primeras 5 filas con estilo morado\n",
    "df0.head().style.set_properties(**{\n",
    "    'background-color': 'green',\n",
    "})"
   ]
  },
  {
   "cell_type": "markdown",
   "id": "d75dd15c",
   "metadata": {},
   "source": [
    "Esta visualización permite tener una primera impresión del contenido y estructura de la base de datos, y facilita la verificación de que las columnas fueron leídas correctamente."
   ]
  },
  {
   "cell_type": "markdown",
   "id": "f910c483",
   "metadata": {},
   "source": [
    "<a id=\"5\"></a>\n",
    "### <p style=\"padding:10px;background-color:grey ;margin:0;color:white;font-family:newtimeroman;font-size:100%;text-align:center;border-radius: 15px 50px;overflow:hidden;font-weight:500\">Dimensión de la base de datos 📋 </p>  "
   ]
  },
  {
   "cell_type": "markdown",
   "id": "ef6f157a",
   "metadata": {},
   "source": [
    "Una vez cargado el archivo, se verificó su estructura general. La base de datos cuenta con un total de:\n",
    "\n",
    "- 11716416 filas (registros)\n",
    "\n",
    "- 42 columnas (variables)\n",
    "\n",
    "Esto representa un volumen considerable de información, lo que requiere un enfoque eficiente tanto en procesamiento, análisis exploratorio de datos (AED) y modelado."
   ]
  },
  {
   "cell_type": "code",
   "execution_count": 9,
   "id": "08026972",
   "metadata": {},
   "outputs": [
    {
     "name": "stdout",
     "output_type": "stream",
     "text": [
      "Número de filas: 11716416\n",
      "Número de columnas: 42\n"
     ]
    }
   ],
   "source": [
    "filas, columnas = df0.shape\n",
    "print(f\"Número de filas: {filas}\")\n",
    "print(f\"Número de columnas: {columnas}\")\n"
   ]
  },
  {
   "cell_type": "markdown",
   "id": "bb37ef6e",
   "metadata": {},
   "source": [
    "<a id=\"5\"></a>\n",
    "### <p style=\"padding:10px;background-color:grey ;margin:0;color:white;font-family:newtimeroman;font-size:100%;text-align:center;border-radius: 15px 50px;overflow:hidden;font-weight:500\">Variables de la base de datos 📋 </p>  "
   ]
  },
  {
   "cell_type": "markdown",
   "id": "74378ee3",
   "metadata": {},
   "source": [
    "El conjunto de datos incluye una amplia variedad de variables que describen múltiples aspectos relacionados con los servicios médicos registrados. A continuación, se listan las variables originales presentes en el archivo. Estas variables abarcan desde identificadores de siniestro, tipo de atención, diagnóstico principal, hasta información geográfica (municipio, departamento), nombre de la IPS, entre otras características clave para el análisis predictivo."
   ]
  },
  {
   "cell_type": "code",
   "execution_count": 10,
   "id": "242abde4",
   "metadata": {},
   "outputs": [
    {
     "data": {
      "text/plain": [
       "['Nombre_Oficina_Arp',\n",
       " 'Numero_Uen_Arp',\n",
       " 'Siniestro_Arp_Id',\n",
       " 'Nombre_Sinies_Diagnosti_Princi',\n",
       " 'Siniestro_Diagnosti_Princi_Id',\n",
       " 'Nombre_Tipo_Atencion_Arp',\n",
       " 'DNI_IPS',\n",
       " 'Nombre_IPS',\n",
       " 'Nombre_Municipio_IPS',\n",
       " 'Nombre_Departamento_IPS',\n",
       " 'NOMBRE_SUCURSAL',\n",
       " 'NOMBRE_MUNICIPIO_SUCURSAL',\n",
       " 'NOMBRE_DEPARTAMENTO_SUCURSAL',\n",
       " 'DNI_ESTABLECIMIENTO',\n",
       " 'Nombre_Establecimiento',\n",
       " 'Nombre_Municipio_Establecimiento',\n",
       " 'Nombre_Departamento_Establecimiento',\n",
       " 'DNI_MEDICO',\n",
       " 'Nombre_Medico',\n",
       " 'Nombre_Municipio_Medico',\n",
       " 'Nombre_Departamento_Medico',\n",
       " 'FECHA_PROCESO',\n",
       " 'FECHA_ATENCION',\n",
       " 'NUMERO_AUTORIZACION',\n",
       " 'CODIGO_ESTADO',\n",
       " 'Tipo_Llamada_Arp_Desc',\n",
       " 'DSTIPO_EXAMEN',\n",
       " 'CODIGO_PROCEDIMIENTO',\n",
       " 'CODIGO_CONCEPTO',\n",
       " 'Concepto_Factura_Desc',\n",
       " 'FECHA_FIN_INCAPACIDAD',\n",
       " 'FECHA_INICIO_INCAPACIDAD',\n",
       " 'TIPIFICACION',\n",
       " 'TIPO_CITA',\n",
       " 'Dias_IT',\n",
       " 'AÑO',\n",
       " 'PERIODO',\n",
       " 'Cantidad',\n",
       " 'Geogra_Municipio_Id',\n",
       " 'Total_Registros',\n",
       " 'MUNICIPIO',\n",
       " 'HOMOLOGACION NIT']"
      ]
     },
     "execution_count": 10,
     "metadata": {},
     "output_type": "execute_result"
    }
   ],
   "source": [
    "df0.columns\n",
    "list(df0.columns)"
   ]
  },
  {
   "cell_type": "code",
   "execution_count": 11,
   "id": "435b12c1",
   "metadata": {},
   "outputs": [
    {
     "name": "stdout",
     "output_type": "stream",
     "text": [
      "Nombre_Oficina_Arp\n",
      "Numero_Uen_Arp\n",
      "Siniestro_Arp_Id\n",
      "Nombre_Sinies_Diagnosti_Princi\n",
      "Siniestro_Diagnosti_Princi_Id\n",
      "Nombre_Tipo_Atencion_Arp\n",
      "DNI_IPS\n",
      "Nombre_IPS\n",
      "Nombre_Municipio_IPS\n",
      "Nombre_Departamento_IPS\n",
      "NOMBRE_SUCURSAL\n",
      "NOMBRE_MUNICIPIO_SUCURSAL\n",
      "NOMBRE_DEPARTAMENTO_SUCURSAL\n",
      "DNI_ESTABLECIMIENTO\n",
      "Nombre_Establecimiento\n",
      "Nombre_Municipio_Establecimiento\n",
      "Nombre_Departamento_Establecimiento\n",
      "DNI_MEDICO\n",
      "Nombre_Medico\n",
      "Nombre_Municipio_Medico\n",
      "Nombre_Departamento_Medico\n",
      "FECHA_PROCESO\n",
      "FECHA_ATENCION\n",
      "NUMERO_AUTORIZACION\n",
      "CODIGO_ESTADO\n",
      "Tipo_Llamada_Arp_Desc\n",
      "DSTIPO_EXAMEN\n",
      "CODIGO_PROCEDIMIENTO\n",
      "CODIGO_CONCEPTO\n",
      "Concepto_Factura_Desc\n",
      "FECHA_FIN_INCAPACIDAD\n",
      "FECHA_INICIO_INCAPACIDAD\n",
      "TIPIFICACION\n",
      "TIPO_CITA\n",
      "Dias_IT\n",
      "AÑO\n",
      "PERIODO\n",
      "Cantidad\n",
      "Geogra_Municipio_Id\n",
      "Total_Registros\n",
      "MUNICIPIO\n",
      "HOMOLOGACION NIT\n"
     ]
    }
   ],
   "source": [
    "for col in df0.columns:\n",
    "    print(col)\n"
   ]
  },
  {
   "cell_type": "markdown",
   "id": "22e24742",
   "metadata": {},
   "source": [
    "<a id=\"5\"></a>\n",
    "# <p style=\"padding:10px;background-color:#4A235A ;margin:0;color:#E2EEF3;font-family:newtimeroman;font-size:100%;text-align:center;border-radius: 15px 50px;overflow:hidden;font-weight:500\">Base de datos filtrado 🔍</p>"
   ]
  },
  {
   "cell_type": "markdown",
   "id": "04e7a6d4",
   "metadata": {},
   "source": [
    "<a id=\"5\"></a>\n",
    "### <p style=\"padding:10px;background-color:grey ;margin:0;color:white;font-family:newtimeroman;font-size:100%;text-align:center;border-radius: 15px 50px;overflow:hidden;font-weight:500\">Selección de variables relevantes 📋 </p>  "
   ]
  },
  {
   "cell_type": "markdown",
   "id": "e6ce91f9",
   "metadata": {},
   "source": [
    "Dado el gran volumen de información disponible en la base de datos original (con 42 columnas y más de 11 millones de registros), fue necesario realizar un proceso de filtrado de variables para enfocar el análisis exclusivamente en aquellos campos que resultan pertinentes para el objetivo del Data Challenge.\n",
    "\n",
    "Para ello, se seleccionaron las siguientes 20 variables clave:"
   ]
  },
  {
   "cell_type": "code",
   "execution_count": 12,
   "id": "955ef3d9",
   "metadata": {},
   "outputs": [],
   "source": [
    "columnas_interes = [\n",
    "    'Nombre_Oficina_Arp',\n",
    "    'Numero_Uen_Arp',\n",
    "    'Siniestro_Arp_Id',\n",
    "    'Nombre_Sinies_Diagnosti_Princi',\n",
    "    'Siniestro_Diagnosti_Princi_Id',\n",
    "    'Nombre_Tipo_Atencion_Arp',\n",
    "    'DNI_IPS',\n",
    "    'Nombre_IPS',\n",
    "    'Nombre_Municipio_IPS',\n",
    "    'Nombre_Departamento_IPS',\n",
    "    'NOMBRE_SUCURSAL',\n",
    "    'NOMBRE_MUNICIPIO_SUCURSAL',\n",
    "    'NOMBRE_DEPARTAMENTO_SUCURSAL',\n",
    "    'Nombre_Municipio_Establecimiento',\n",
    "    'FECHA_ATENCION',\n",
    "    'Tipo_Llamada_Arp_Desc',\n",
    "    'TIPIFICACION',\n",
    "    'Cantidad',\n",
    "    'MUNICIPIO',\n",
    "    'HOMOLOGACION NIT' \n",
    "]\n",
    "\n",
    "df1 = df0[columnas_interes]\n"
   ]
  },
  {
   "cell_type": "code",
   "execution_count": 13,
   "id": "be1891e1",
   "metadata": {},
   "outputs": [
    {
     "data": {
      "text/plain": [
       "['Nombre_Oficina_Arp',\n",
       " 'Numero_Uen_Arp',\n",
       " 'Siniestro_Arp_Id',\n",
       " 'Nombre_Sinies_Diagnosti_Princi',\n",
       " 'Siniestro_Diagnosti_Princi_Id',\n",
       " 'Nombre_Tipo_Atencion_Arp',\n",
       " 'DNI_IPS',\n",
       " 'Nombre_IPS',\n",
       " 'Nombre_Municipio_IPS',\n",
       " 'Nombre_Departamento_IPS',\n",
       " 'NOMBRE_SUCURSAL',\n",
       " 'NOMBRE_MUNICIPIO_SUCURSAL',\n",
       " 'NOMBRE_DEPARTAMENTO_SUCURSAL',\n",
       " 'Nombre_Municipio_Establecimiento',\n",
       " 'FECHA_ATENCION',\n",
       " 'Tipo_Llamada_Arp_Desc',\n",
       " 'TIPIFICACION',\n",
       " 'Cantidad',\n",
       " 'MUNICIPIO',\n",
       " 'HOMOLOGACION NIT']"
      ]
     },
     "execution_count": 13,
     "metadata": {},
     "output_type": "execute_result"
    }
   ],
   "source": [
    "df1.columns\n",
    "list(df1.columns)"
   ]
  },
  {
   "cell_type": "code",
   "execution_count": 14,
   "id": "0ddb674d",
   "metadata": {},
   "outputs": [
    {
     "name": "stdout",
     "output_type": "stream",
     "text": [
      "Nombre_Oficina_Arp\n",
      "Numero_Uen_Arp\n",
      "Siniestro_Arp_Id\n",
      "Nombre_Sinies_Diagnosti_Princi\n",
      "Siniestro_Diagnosti_Princi_Id\n",
      "Nombre_Tipo_Atencion_Arp\n",
      "DNI_IPS\n",
      "Nombre_IPS\n",
      "Nombre_Municipio_IPS\n",
      "Nombre_Departamento_IPS\n",
      "NOMBRE_SUCURSAL\n",
      "NOMBRE_MUNICIPIO_SUCURSAL\n",
      "NOMBRE_DEPARTAMENTO_SUCURSAL\n",
      "Nombre_Municipio_Establecimiento\n",
      "FECHA_ATENCION\n",
      "Tipo_Llamada_Arp_Desc\n",
      "TIPIFICACION\n",
      "Cantidad\n",
      "MUNICIPIO\n",
      "HOMOLOGACION NIT\n"
     ]
    }
   ],
   "source": [
    "for col in df1.columns:\n",
    "    print(col)\n"
   ]
  },
  {
   "cell_type": "markdown",
   "id": "d982a1d9",
   "metadata": {},
   "source": [
    "<a id=\"5\"></a>\n",
    "### <p style=\"padding:10px;background-color:grey ;margin:0;color:white;font-family:newtimeroman;font-size:100%;text-align:center;border-radius: 15px 50px;overflow:hidden;font-weight:500\">Descripción de las variables 📋 </p>  "
   ]
  },
  {
   "cell_type": "markdown",
   "id": "2fd3db17",
   "metadata": {},
   "source": [
    "A continuación, se presenta una tabla con las variables seleccionadas para el análisis y su respectiva descripción. Estas variables fueron extraídas de la base de datos original y constituyen el subconjunto de campos más relevantes para dar respuesta al reto propuesto en el Data Challenge, permitiendo caracterizar los eventos, ubicarlos geográficamente, y analizar su comportamiento temporal:"
   ]
  },
  {
   "cell_type": "code",
   "execution_count": 17,
   "id": "fa016ecb",
   "metadata": {},
   "outputs": [
    {
     "data": {
      "text/html": [
       "<style type=\"text/css\">\n",
       "#T_3b04b_row0_col0, #T_3b04b_row0_col1, #T_3b04b_row1_col0, #T_3b04b_row1_col1, #T_3b04b_row2_col0, #T_3b04b_row2_col1, #T_3b04b_row3_col0, #T_3b04b_row3_col1, #T_3b04b_row4_col0, #T_3b04b_row4_col1, #T_3b04b_row5_col0, #T_3b04b_row5_col1, #T_3b04b_row6_col0, #T_3b04b_row6_col1, #T_3b04b_row7_col0, #T_3b04b_row7_col1, #T_3b04b_row8_col0, #T_3b04b_row8_col1, #T_3b04b_row9_col0, #T_3b04b_row9_col1, #T_3b04b_row10_col0, #T_3b04b_row10_col1, #T_3b04b_row11_col0, #T_3b04b_row11_col1, #T_3b04b_row12_col0, #T_3b04b_row12_col1, #T_3b04b_row13_col0, #T_3b04b_row13_col1, #T_3b04b_row14_col0, #T_3b04b_row14_col1, #T_3b04b_row15_col0, #T_3b04b_row15_col1, #T_3b04b_row16_col0, #T_3b04b_row16_col1, #T_3b04b_row17_col0, #T_3b04b_row17_col1, #T_3b04b_row18_col0, #T_3b04b_row18_col1, #T_3b04b_row19_col0, #T_3b04b_row19_col1 {\n",
       "  background-color: #f0f0f0;\n",
       "  border-color: black;\n",
       "  color: black;\n",
       "}\n",
       "</style>\n",
       "<table id=\"T_3b04b\">\n",
       "  <thead>\n",
       "    <tr>\n",
       "      <th class=\"blank level0\" >&nbsp;</th>\n",
       "      <th id=\"T_3b04b_level0_col0\" class=\"col_heading level0 col0\" >Variable</th>\n",
       "      <th id=\"T_3b04b_level0_col1\" class=\"col_heading level0 col1\" >Descripcion</th>\n",
       "    </tr>\n",
       "  </thead>\n",
       "  <tbody>\n",
       "    <tr>\n",
       "      <th id=\"T_3b04b_level0_row0\" class=\"row_heading level0 row0\" >0</th>\n",
       "      <td id=\"T_3b04b_row0_col0\" class=\"data row0 col0\" >Nombre_Oficina_Arp</td>\n",
       "      <td id=\"T_3b04b_row0_col1\" class=\"data row0 col1\" >Nombre de la oficina de la Administradora de Riesgos Profesionales (ARP) encargada del caso.</td>\n",
       "    </tr>\n",
       "    <tr>\n",
       "      <th id=\"T_3b04b_level0_row1\" class=\"row_heading level0 row1\" >1</th>\n",
       "      <td id=\"T_3b04b_row1_col0\" class=\"data row1 col0\" >Numero_Uen_Arp</td>\n",
       "      <td id=\"T_3b04b_row1_col1\" class=\"data row1 col1\" >Código o número único de la Unidad Estratégica de Negocios (UEN) de la ARP.</td>\n",
       "    </tr>\n",
       "    <tr>\n",
       "      <th id=\"T_3b04b_level0_row2\" class=\"row_heading level0 row2\" >2</th>\n",
       "      <td id=\"T_3b04b_row2_col0\" class=\"data row2 col0\" >Siniestro_Arp_Id</td>\n",
       "      <td id=\"T_3b04b_row2_col1\" class=\"data row2 col1\" >Identificador único del siniestro registrado en la ARP.</td>\n",
       "    </tr>\n",
       "    <tr>\n",
       "      <th id=\"T_3b04b_level0_row3\" class=\"row_heading level0 row3\" >3</th>\n",
       "      <td id=\"T_3b04b_row3_col0\" class=\"data row3 col0\" >Nombre_Sinies_Diagnosti_Princi</td>\n",
       "      <td id=\"T_3b04b_row3_col1\" class=\"data row3 col1\" >Diagnóstico principal relacionado con el siniestro.</td>\n",
       "    </tr>\n",
       "    <tr>\n",
       "      <th id=\"T_3b04b_level0_row4\" class=\"row_heading level0 row4\" >4</th>\n",
       "      <td id=\"T_3b04b_row4_col0\" class=\"data row4 col0\" >Siniestro_Diagnosti_Princi_Id</td>\n",
       "      <td id=\"T_3b04b_row4_col1\" class=\"data row4 col1\" >Código o identificador único del diagnóstico principal.</td>\n",
       "    </tr>\n",
       "    <tr>\n",
       "      <th id=\"T_3b04b_level0_row5\" class=\"row_heading level0 row5\" >5</th>\n",
       "      <td id=\"T_3b04b_row5_col0\" class=\"data row5 col0\" >Nombre_Tipo_Atencion_Arp</td>\n",
       "      <td id=\"T_3b04b_row5_col1\" class=\"data row5 col1\" >Tipo de atención médica brindada dentro de la cobertura del siniestro.</td>\n",
       "    </tr>\n",
       "    <tr>\n",
       "      <th id=\"T_3b04b_level0_row6\" class=\"row_heading level0 row6\" >6</th>\n",
       "      <td id=\"T_3b04b_row6_col0\" class=\"data row6 col0\" >DNI_IPS</td>\n",
       "      <td id=\"T_3b04b_row6_col1\" class=\"data row6 col1\" >Documento de identificación (NIT) de la IPS que presta la atención médica.</td>\n",
       "    </tr>\n",
       "    <tr>\n",
       "      <th id=\"T_3b04b_level0_row7\" class=\"row_heading level0 row7\" >7</th>\n",
       "      <td id=\"T_3b04b_row7_col0\" class=\"data row7 col0\" >Nombre_IPS</td>\n",
       "      <td id=\"T_3b04b_row7_col1\" class=\"data row7 col1\" >Nombre de la IPS donde se brinda la atención.</td>\n",
       "    </tr>\n",
       "    <tr>\n",
       "      <th id=\"T_3b04b_level0_row8\" class=\"row_heading level0 row8\" >8</th>\n",
       "      <td id=\"T_3b04b_row8_col0\" class=\"data row8 col0\" >Nombre_Municipio_IPS</td>\n",
       "      <td id=\"T_3b04b_row8_col1\" class=\"data row8 col1\" >Municipio donde está ubicada la IPS.</td>\n",
       "    </tr>\n",
       "    <tr>\n",
       "      <th id=\"T_3b04b_level0_row9\" class=\"row_heading level0 row9\" >9</th>\n",
       "      <td id=\"T_3b04b_row9_col0\" class=\"data row9 col0\" >Nombre_Departamento_IPS</td>\n",
       "      <td id=\"T_3b04b_row9_col1\" class=\"data row9 col1\" >Departamento donde está ubicada la IPS.</td>\n",
       "    </tr>\n",
       "    <tr>\n",
       "      <th id=\"T_3b04b_level0_row10\" class=\"row_heading level0 row10\" >10</th>\n",
       "      <td id=\"T_3b04b_row10_col0\" class=\"data row10 col0\" >NOMBRE_SUCURSAL</td>\n",
       "      <td id=\"T_3b04b_row10_col1\" class=\"data row10 col1\" >Nombre de la sucursal de la IPS.</td>\n",
       "    </tr>\n",
       "    <tr>\n",
       "      <th id=\"T_3b04b_level0_row11\" class=\"row_heading level0 row11\" >11</th>\n",
       "      <td id=\"T_3b04b_row11_col0\" class=\"data row11 col0\" >NOMBRE_MUNICIPIO_SUCURSAL</td>\n",
       "      <td id=\"T_3b04b_row11_col1\" class=\"data row11 col1\" >Municipio donde está ubicada la sucursal de la IPS.</td>\n",
       "    </tr>\n",
       "    <tr>\n",
       "      <th id=\"T_3b04b_level0_row12\" class=\"row_heading level0 row12\" >12</th>\n",
       "      <td id=\"T_3b04b_row12_col0\" class=\"data row12 col0\" >NOMBRE_DEPARTAMENTO_SUCURSAL</td>\n",
       "      <td id=\"T_3b04b_row12_col1\" class=\"data row12 col1\" >Departamento donde está ubicada la sucursal de la IPS.</td>\n",
       "    </tr>\n",
       "    <tr>\n",
       "      <th id=\"T_3b04b_level0_row13\" class=\"row_heading level0 row13\" >13</th>\n",
       "      <td id=\"T_3b04b_row13_col0\" class=\"data row13 col0\" >Nombre_Municipio_Establecimiento</td>\n",
       "      <td id=\"T_3b04b_row13_col1\" class=\"data row13 col1\" >Municipio del establecimiento donde se prestó la atención médica.</td>\n",
       "    </tr>\n",
       "    <tr>\n",
       "      <th id=\"T_3b04b_level0_row14\" class=\"row_heading level0 row14\" >14</th>\n",
       "      <td id=\"T_3b04b_row14_col0\" class=\"data row14 col0\" >FECHA_ATENCION</td>\n",
       "      <td id=\"T_3b04b_row14_col1\" class=\"data row14 col1\" >Fecha en que se brindó la atención médica.</td>\n",
       "    </tr>\n",
       "    <tr>\n",
       "      <th id=\"T_3b04b_level0_row15\" class=\"row_heading level0 row15\" >15</th>\n",
       "      <td id=\"T_3b04b_row15_col0\" class=\"data row15 col0\" >Tipo_Llamada_Arp_Desc</td>\n",
       "      <td id=\"T_3b04b_row15_col1\" class=\"data row15 col1\" >Descripción del tipo de llamada o gestión realizada en la ARP.</td>\n",
       "    </tr>\n",
       "    <tr>\n",
       "      <th id=\"T_3b04b_level0_row16\" class=\"row_heading level0 row16\" >16</th>\n",
       "      <td id=\"T_3b04b_row16_col0\" class=\"data row16 col0\" >TIPIFICACION</td>\n",
       "      <td id=\"T_3b04b_row16_col1\" class=\"data row16 col1\" >Clasificación de la atención médica según el tipo de siniestro.</td>\n",
       "    </tr>\n",
       "    <tr>\n",
       "      <th id=\"T_3b04b_level0_row17\" class=\"row_heading level0 row17\" >17</th>\n",
       "      <td id=\"T_3b04b_row17_col0\" class=\"data row17 col0\" >Cantidad</td>\n",
       "      <td id=\"T_3b04b_row17_col1\" class=\"data row17 col1\" >Cantidad de atenciones médicas registradas.</td>\n",
       "    </tr>\n",
       "    <tr>\n",
       "      <th id=\"T_3b04b_level0_row18\" class=\"row_heading level0 row18\" >18</th>\n",
       "      <td id=\"T_3b04b_row18_col0\" class=\"data row18 col0\" >MUNICIPIO</td>\n",
       "      <td id=\"T_3b04b_row18_col1\" class=\"data row18 col1\" >Nombre del municipio asociado a la atención.</td>\n",
       "    </tr>\n",
       "    <tr>\n",
       "      <th id=\"T_3b04b_level0_row19\" class=\"row_heading level0 row19\" >19</th>\n",
       "      <td id=\"T_3b04b_row19_col0\" class=\"data row19 col0\" >HOMOLOGACION NIT</td>\n",
       "      <td id=\"T_3b04b_row19_col1\" class=\"data row19 col1\" >NIT homologado de la IPS o establecimiento de salud.</td>\n",
       "    </tr>\n",
       "  </tbody>\n",
       "</table>\n"
      ],
      "text/plain": [
       "<pandas.io.formats.style.Styler at 0x21b18ec6600>"
      ]
     },
     "execution_count": 17,
     "metadata": {},
     "output_type": "execute_result"
    }
   ],
   "source": [
    "import pandas as pd\n",
    "\n",
    "# Crear un diccionario con las variables y sus descripciones\n",
    "datos_variables = {\n",
    "    \"Variable\": [\n",
    "        \"Nombre_Oficina_Arp\",\n",
    "        \"Numero_Uen_Arp\",\n",
    "        \"Siniestro_Arp_Id\",\n",
    "        \"Nombre_Sinies_Diagnosti_Princi\",\n",
    "        \"Siniestro_Diagnosti_Princi_Id\",\n",
    "        \"Nombre_Tipo_Atencion_Arp\",\n",
    "        \"DNI_IPS\",\n",
    "        \"Nombre_IPS\",\n",
    "        \"Nombre_Municipio_IPS\",\n",
    "        \"Nombre_Departamento_IPS\",\n",
    "        \"NOMBRE_SUCURSAL\",\n",
    "        \"NOMBRE_MUNICIPIO_SUCURSAL\",\n",
    "        \"NOMBRE_DEPARTAMENTO_SUCURSAL\",\n",
    "        \"Nombre_Municipio_Establecimiento\",\n",
    "        \"FECHA_ATENCION\",\n",
    "        \"Tipo_Llamada_Arp_Desc\",\n",
    "        \"TIPIFICACION\",\n",
    "        \"Cantidad\",\n",
    "        \"MUNICIPIO\",\n",
    "        \"HOMOLOGACION NIT\"\n",
    "    ],\n",
    "    \"Descripcion\": [\n",
    "        \"Nombre de la oficina de la Administradora de Riesgos Profesionales (ARP) encargada del caso.\",\n",
    "        \"Código o número único de la Unidad Estratégica de Negocios (UEN) de la ARP.\",\n",
    "        \"Identificador único del siniestro registrado en la ARP.\",\n",
    "        \"Diagnóstico principal relacionado con el siniestro.\",\n",
    "        \"Código o identificador único del diagnóstico principal.\",\n",
    "        \"Tipo de atención médica brindada dentro de la cobertura del siniestro.\",\n",
    "        \"Documento de identificación (NIT) de la IPS que presta la atención médica.\",\n",
    "        \"Nombre de la IPS donde se brinda la atención.\",\n",
    "        \"Municipio donde está ubicada la IPS.\",\n",
    "        \"Departamento donde está ubicada la IPS.\",\n",
    "        \"Nombre de la sucursal de la IPS.\",\n",
    "        \"Municipio donde está ubicada la sucursal de la IPS.\",\n",
    "        \"Departamento donde está ubicada la sucursal de la IPS.\",\n",
    "        \"Municipio del establecimiento donde se prestó la atención médica.\",\n",
    "        \"Fecha en que se brindó la atención médica.\",\n",
    "        \"Descripción del tipo de llamada o gestión realizada en la ARP.\",\n",
    "        \"Clasificación de la atención médica según el tipo de siniestro.\",\n",
    "        \"Cantidad de atenciones médicas registradas.\",\n",
    "        \"Nombre del municipio asociado a la atención.\",\n",
    "        \"NIT homologado de la IPS o establecimiento de salud.\"\n",
    "    ]\n",
    "}\n",
    "\n",
    "# Crear el DataFrame\n",
    "tabla_variables = pd.DataFrame(datos_variables)\n",
    "\n",
    "# Mostrar la tabla\n",
    "import seaborn as sns\n",
    "import matplotlib.pyplot as plt\n",
    "import pandas.io.formats.style\n",
    "\n",
    "# Si estás en Jupyter Notebook o similar:\n",
    "tabla_variables.style.set_properties(**{\n",
    "    'background-color': '#f0f0f0',\n",
    "    'border-color': 'black',\n",
    "    'color': 'black'\n",
    "})\n"
   ]
  },
  {
   "cell_type": "markdown",
   "id": "ba75f8a5",
   "metadata": {},
   "source": [
    "<a id=\"5\"></a>\n",
    "### <p style=\"padding:10px;background-color:grey ;margin:0;color:white;font-family:newtimeroman;font-size:100%;text-align:center;border-radius: 15px 50px;overflow:hidden;font-weight:500\">Dimensión de la base filtrada 📋 </p>  "
   ]
  },
  {
   "cell_type": "markdown",
   "id": "6c0cae78",
   "metadata": {},
   "source": [
    "Luego del filtrado, la base de datos final utilizada para el análisis conserva:\n",
    "\n",
    "- 11716416 filas\n",
    "\n",
    "- 20 columnas\n",
    "\n",
    "Este nuevo conjunto mantiene la totalidad de los registros disponibles y se enfoca en los campos más relevantes para alcanzar los objetivos del reto propuesto."
   ]
  },
  {
   "cell_type": "code",
   "execution_count": null,
   "id": "12ceb9a3",
   "metadata": {},
   "outputs": [
    {
     "name": "stdout",
     "output_type": "stream",
     "text": [
      "Número de filas: 11716416\n",
      "Número de columnas: 20\n"
     ]
    }
   ],
   "source": [
    "filas, columnas = df1.shape\n",
    "print(f\"Número de filas: {filas}\")\n",
    "print(f\"Número de columnas: {columnas}\")\n"
   ]
  },
  {
   "cell_type": "markdown",
   "id": "7c876f99",
   "metadata": {},
   "source": [
    "<a id=\"5\"></a>\n",
    "### <p style=\"padding:10px;background-color:grey ;margin:0;color:white;font-family:newtimeroman;font-size:100%;text-align:center;border-radius: 15px 50px;overflow:hidden;font-weight:500\">Justificación del filtrado 📋 </p>  "
   ]
  },
  {
   "cell_type": "markdown",
   "id": "6aa026d0",
   "metadata": {},
   "source": [
    "Este subconjunto de variables fue definido con base en los requerimientos del reto, que exige generar predicciones detalladas por municipio y tipo de servicio, incluyendo eventos relacionados con accidentes y enfermedades laborales. Las variables seleccionadas permiten:\n",
    "\n",
    "   - Identificar el tipo de atención médica recibida.\n",
    "\n",
    "   - Localizar geográficamente el evento (municipio, departamento, sucursal, IPS).\n",
    "\n",
    "   - Establecer la fecha de atención y cuantificar la demanda.\n",
    "\n",
    "   - Relacionar el evento con su diagnóstico y su clasificación.\n",
    "\n",
    "De esta manera, se conservan únicamente las variables esenciales que permitirán construir modelos predictivos robustos, sin sobrecargar la memoria ni introducir ruido innecesario."
   ]
  },
  {
   "cell_type": "markdown",
   "id": "90d72332",
   "metadata": {},
   "source": [
    "<a id=\"5\"></a>\n",
    "# <p style=\"padding:10px;background-color:#4A235A ;margin:0;color:#E2EEF3;font-family:newtimeroman;font-size:100%;text-align:center;border-radius: 15px 50px;overflow:hidden;font-weight:500\">Caracterización de la muestra 🔍</p> "
   ]
  },
  {
   "cell_type": "markdown",
   "id": "054cc8c4",
   "metadata": {},
   "source": [
    "La base de datos utilizada en este análisis contiene un total de **11.716.416 registros** correspondientes a eventos de atención médica reportados. Estos registros están distribuidos en **20 variables** seleccionadas por su relevancia para el objetivo del reto, las cuales abarcan información administrativa, geográfica, temporal y clínica asociada a cada caso."
   ]
  },
  {
   "cell_type": "markdown",
   "id": "601d1dca",
   "metadata": {},
   "source": [
    "<a id=\"5\"></a>\n",
    "### <p style=\"padding:10px;background-color:grey ;margin:0;color:white;font-family:newtimeroman;font-size:100%;text-align:center;border-radius: 15px 50px;overflow:hidden;font-weight:500\">1. Distribución por Homologación NIT 📋 </p>  "
   ]
  },
  {
   "cell_type": "markdown",
   "id": "cbb80abe",
   "metadata": {},
   "source": [
    "Esta variable representa NIT homologado de la IPS o establecimiento de salud. "
   ]
  },
  {
   "cell_type": "markdown",
   "id": "cb86c27e",
   "metadata": {},
   "source": [
    "### (a) Revisando NaNs"
   ]
  },
  {
   "cell_type": "markdown",
   "id": "0ea4b261",
   "metadata": {},
   "source": [
    "El código de abajo me da el número de valores únicos distintos, excluyendo los NaN."
   ]
  },
  {
   "cell_type": "code",
   "execution_count": null,
   "id": "db5e5ece",
   "metadata": {},
   "outputs": [
    {
     "data": {
      "text/plain": [
       "1727"
      ]
     },
     "execution_count": 16,
     "metadata": {},
     "output_type": "execute_result"
    }
   ],
   "source": [
    "df=df1\n",
    "df['HOMOLOGACION NIT'].nunique()"
   ]
  },
  {
   "cell_type": "markdown",
   "id": "fcdbeec1",
   "metadata": {},
   "source": [
    "Si además quieres incluir los NaN como un valor distinto, puedes hacer:"
   ]
  },
  {
   "cell_type": "code",
   "execution_count": null,
   "id": "54bc55bb",
   "metadata": {},
   "outputs": [
    {
     "data": {
      "text/plain": [
       "1728"
      ]
     },
     "execution_count": 17,
     "metadata": {},
     "output_type": "execute_result"
    }
   ],
   "source": [
    "df['HOMOLOGACION NIT'].nunique(dropna=False)"
   ]
  },
  {
   "cell_type": "markdown",
   "id": "08076791",
   "metadata": {},
   "source": [
    "¿Cómo saber cuántos valores faltantes (NaN) hay?"
   ]
  },
  {
   "cell_type": "code",
   "execution_count": null,
   "id": "ac9b5294",
   "metadata": {},
   "outputs": [
    {
     "data": {
      "text/plain": [
       "1731756"
      ]
     },
     "execution_count": 18,
     "metadata": {},
     "output_type": "execute_result"
    }
   ],
   "source": [
    "df['HOMOLOGACION NIT'].isna().sum()"
   ]
  },
  {
   "cell_type": "markdown",
   "id": "b7e2f898",
   "metadata": {},
   "source": [
    "Podemos revisar si `HOMOLOGACION NIT` aparece en los valores únicos con el siguiente código:"
   ]
  },
  {
   "cell_type": "code",
   "execution_count": null,
   "id": "47bb4c3d",
   "metadata": {},
   "outputs": [
    {
     "data": {
      "text/plain": [
       "array(['3d1546fd2b', '465b9adf14', '70f15219b4', ..., '30c9a5f8bc',\n",
       "       '13ca693774', '5dafa881a4'], dtype=object)"
      ]
     },
     "execution_count": 19,
     "metadata": {},
     "output_type": "execute_result"
    }
   ],
   "source": [
    "df['HOMOLOGACION NIT'].unique()"
   ]
  },
  {
   "cell_type": "markdown",
   "id": "f8746b15",
   "metadata": {},
   "source": [
    "### (b) Tabla de frecuencias"
   ]
  },
  {
   "cell_type": "code",
   "execution_count": null,
   "id": "b41c0a8a",
   "metadata": {},
   "outputs": [
    {
     "name": "stdout",
     "output_type": "stream",
     "text": [
      "     HOMOLOGACION NIT  Frecuencia\n",
      "0          3d1546fd2b     5497181\n",
      "1          68a8bdffd1      328946\n",
      "2          274eb1202c      182887\n",
      "3          e3e1e4a24a      179369\n",
      "4          cbfc0a60d4      111430\n",
      "...               ...         ...\n",
      "1722       532153eb3f           1\n",
      "1723       c158bb325b           1\n",
      "1724       8499635c4e           1\n",
      "1725       b54143097d           1\n",
      "1726       5dafa881a4           1\n",
      "\n",
      "[1727 rows x 2 columns]\n"
     ]
    }
   ],
   "source": [
    "import pandas as pd\n",
    "\n",
    "# Tabla de frecuencias\n",
    "frecuencias = df['HOMOLOGACION NIT'].value_counts().reset_index()\n",
    "frecuencias.columns = ['HOMOLOGACION NIT', 'Frecuencia']\n",
    "\n",
    "# Mostrar la tabla\n",
    "print(frecuencias)\n"
   ]
  },
  {
   "cell_type": "markdown",
   "id": "2d08a64e",
   "metadata": {},
   "source": [
    "Para ver una tabla más clara con frecuencias y faltantes, puedes hacer el código de abajo. Esto incluye incluso los valores faltantes (`NaN`) dentro de la tabla de frecuencias. Aparecerán como NaN en la columna `HOMOLOGACION NIT`."
   ]
  },
  {
   "cell_type": "code",
   "execution_count": null,
   "id": "5384911e",
   "metadata": {},
   "outputs": [
    {
     "name": "stdout",
     "output_type": "stream",
     "text": [
      "     HOMOLOGACION NIT  Frecuencia\n",
      "0          3d1546fd2b     5497181\n",
      "1                 NaN     1731756\n",
      "2          68a8bdffd1      328946\n",
      "3          274eb1202c      182887\n",
      "4          e3e1e4a24a      179369\n",
      "...               ...         ...\n",
      "1723       532153eb3f           1\n",
      "1724       c158bb325b           1\n",
      "1725       8499635c4e           1\n",
      "1726       b54143097d           1\n",
      "1727       5dafa881a4           1\n",
      "\n",
      "[1728 rows x 2 columns]\n"
     ]
    }
   ],
   "source": [
    "# Conteo de valores (excluye NaN)\n",
    "frecuencias = df['HOMOLOGACION NIT'].value_counts(dropna=False).reset_index()\n",
    "frecuencias.columns = ['HOMOLOGACION NIT', 'Frecuencia']\n",
    "\n",
    "# Mostrar la tabla\n",
    "print(frecuencias)\n"
   ]
  },
  {
   "cell_type": "markdown",
   "id": "1dd23a11",
   "metadata": {},
   "source": [
    "Para eliminar todas las filas que tengan `NaN` en la columna `HOMOLOGACION NIT`, se puede ejecutar la primera línea de código. Si además se quiere asegurar de eliminar posibles encabezados repetidos (como `HOMOLOGACION NIT` apareciendo como valor), se ejecuta:"
   ]
  },
  {
   "cell_type": "code",
   "execution_count": null,
   "id": "b16bc056",
   "metadata": {},
   "outputs": [],
   "source": [
    "df2 = df[\n",
    "    (df['HOMOLOGACION NIT'].notna()) &\n",
    "    (df['HOMOLOGACION NIT'] != 'HOMOLOGACION NIT')\n",
    "]\n"
   ]
  },
  {
   "cell_type": "markdown",
   "id": "cc0a6e30",
   "metadata": {},
   "source": [
    "Revisando que la eliminación fuese correcta (0 NaNs):"
   ]
  },
  {
   "cell_type": "code",
   "execution_count": null,
   "id": "514faf0c",
   "metadata": {},
   "outputs": [
    {
     "data": {
      "text/plain": [
       "0"
      ]
     },
     "execution_count": 23,
     "metadata": {},
     "output_type": "execute_result"
    }
   ],
   "source": [
    "df2['HOMOLOGACION NIT'].isna().sum()"
   ]
  },
  {
   "cell_type": "markdown",
   "id": "b81b7b06",
   "metadata": {},
   "source": [
    "El nuevo data frame tendrá: \n",
    "- Número de filas: 9984660\n",
    "- Número de columnas: 20"
   ]
  },
  {
   "cell_type": "code",
   "execution_count": null,
   "id": "ecbdf69c",
   "metadata": {},
   "outputs": [
    {
     "name": "stdout",
     "output_type": "stream",
     "text": [
      "Número de filas: 9984660\n",
      "Número de columnas: 20\n"
     ]
    }
   ],
   "source": [
    "filas, columnas = df2.shape\n",
    "print(f\"Número de filas: {filas}\")\n",
    "print(f\"Número de columnas: {columnas}\")\n"
   ]
  },
  {
   "cell_type": "markdown",
   "id": "4b34de32",
   "metadata": {},
   "source": [
    "Aquí podemos ver el resultado de nuestro primer proceso de limpieza en el campo de `HOMOLOGACION NIT`"
   ]
  },
  {
   "cell_type": "code",
   "execution_count": null,
   "id": "ff9ed5af",
   "metadata": {},
   "outputs": [
    {
     "name": "stdout",
     "output_type": "stream",
     "text": [
      "Filas originales: 11716416\n",
      "Filas actuales: 9984660\n",
      "Filas eliminadas: 1731756\n"
     ]
    }
   ],
   "source": [
    "# Número de filas originales\n",
    "filas_originales = df1.shape[0]\n",
    "\n",
    "# Número de filas después de eliminar los NaN\n",
    "filas_actuales = df2.shape[0]\n",
    "\n",
    "# Diferencia: cuántas filas se eliminaron\n",
    "filas_eliminadas = filas_originales - filas_actuales\n",
    "\n",
    "print(f\"Filas originales: {filas_originales}\")\n",
    "print(f\"Filas actuales: {filas_actuales}\")\n",
    "print(f\"Filas eliminadas: {filas_eliminadas}\")\n"
   ]
  },
  {
   "cell_type": "markdown",
   "id": "7e9fab86",
   "metadata": {},
   "source": [
    "<a id=\"5\"></a>\n",
    "### <p style=\"padding:10px;background-color:grey ;margin:0;color:white;font-family:newtimeroman;font-size:100%;text-align:center;border-radius: 15px 50px;overflow:hidden;font-weight:500\">2. Distribución por Fecha de atención 📋 </p>  "
   ]
  },
  {
   "cell_type": "markdown",
   "id": "ff90b62a",
   "metadata": {},
   "source": [
    "El campo `FECHA_ATENCION` (Fecha en que se brindó la atención médica) abarca un amplio rango temporal, lo cual permite realizar análisis longitudinales. Esta variable será la base para construir las series de tiempo que permitan entender patrones estacionales y tendencias en la demanda de atención médica, aspecto esencial para la generación de predicciones a futuro."
   ]
  },
  {
   "cell_type": "markdown",
   "id": "3f1514a7",
   "metadata": {},
   "source": [
    "### (a) Revisar `NaNs`"
   ]
  },
  {
   "cell_type": "code",
   "execution_count": null,
   "id": "844dab9c",
   "metadata": {},
   "outputs": [
    {
     "data": {
      "text/plain": [
       "0"
      ]
     },
     "execution_count": 26,
     "metadata": {},
     "output_type": "execute_result"
    }
   ],
   "source": [
    "df2['FECHA_ATENCION'].isna().sum()"
   ]
  },
  {
   "cell_type": "code",
   "execution_count": null,
   "id": "e262c466",
   "metadata": {},
   "outputs": [],
   "source": [
    "# Crear una copia de df4 para no modificar el original\n",
    "df3 = df2.copy()"
   ]
  },
  {
   "cell_type": "code",
   "execution_count": null,
   "id": "2cd4accb",
   "metadata": {},
   "outputs": [
    {
     "name": "stdout",
     "output_type": "stream",
     "text": [
      "Número de filas: 9984660\n",
      "Número de columnas: 20\n"
     ]
    }
   ],
   "source": [
    "filas, columnas = df3.shape\n",
    "print(f\"Número de filas: {filas}\")\n",
    "print(f\"Número de columnas: {columnas}\")"
   ]
  },
  {
   "cell_type": "markdown",
   "id": "213f6b03",
   "metadata": {},
   "source": [
    "### (b) Convertir FECHA_ATENCION a datetime y extraer Year, Month, Day, Hour "
   ]
  },
  {
   "cell_type": "markdown",
   "id": "95dbf025",
   "metadata": {},
   "source": [
    "Los métodos `pandas.Series.dt.year()` y `pandas.Series.dt.month()` aplicados al tipo `Datetime` devuelven el array NumPy del año y el mes respectivamente de la entrada Datetime en el objeto Series. Si la columna no es del tipo Date y hora, primero debemos convertir la columna al tipo Date y hora utilizando el método `to_datetime()`."
   ]
  },
  {
   "cell_type": "code",
   "execution_count": null,
   "id": "2625dd31",
   "metadata": {},
   "outputs": [],
   "source": [
    "# Asegúrate de que FECHA_ATENCION esté en formato datetime\n",
    "df3['FECHA_ATENCION'] = pd.to_datetime(df3['FECHA_ATENCION'])\n",
    "\n",
    "# Crear nuevas columnas\n",
    "df3['Year'] = df3['FECHA_ATENCION'].dt.year\n",
    "df3['Month'] = df3['FECHA_ATENCION'].dt.month\n",
    "df3['Day'] = df3['FECHA_ATENCION'].dt.day\n",
    "df3['Hour'] = df3['FECHA_ATENCION'].dt.hour\n",
    "df3['Date'] = df3['FECHA_ATENCION'].dt.date\n"
   ]
  },
  {
   "cell_type": "markdown",
   "id": "f6e61377",
   "metadata": {},
   "source": [
    "### (c) El nuevo data frame con las nuevas variables temporales discriminadas"
   ]
  },
  {
   "cell_type": "code",
   "execution_count": null,
   "id": "a17100b0",
   "metadata": {},
   "outputs": [
    {
     "data": {
      "text/html": [
       "<style type=\"text/css\">\n",
       "#T_f6f97_row0_col0, #T_f6f97_row0_col1, #T_f6f97_row0_col2, #T_f6f97_row0_col3, #T_f6f97_row0_col4, #T_f6f97_row0_col5, #T_f6f97_row0_col6, #T_f6f97_row0_col7, #T_f6f97_row0_col8, #T_f6f97_row0_col9, #T_f6f97_row0_col10, #T_f6f97_row0_col11, #T_f6f97_row0_col12, #T_f6f97_row0_col13, #T_f6f97_row0_col14, #T_f6f97_row0_col15, #T_f6f97_row0_col16, #T_f6f97_row0_col17, #T_f6f97_row0_col18, #T_f6f97_row0_col19, #T_f6f97_row0_col20, #T_f6f97_row0_col21, #T_f6f97_row0_col22, #T_f6f97_row0_col23, #T_f6f97_row0_col24, #T_f6f97_row1_col0, #T_f6f97_row1_col1, #T_f6f97_row1_col2, #T_f6f97_row1_col3, #T_f6f97_row1_col4, #T_f6f97_row1_col5, #T_f6f97_row1_col6, #T_f6f97_row1_col7, #T_f6f97_row1_col8, #T_f6f97_row1_col9, #T_f6f97_row1_col10, #T_f6f97_row1_col11, #T_f6f97_row1_col12, #T_f6f97_row1_col13, #T_f6f97_row1_col14, #T_f6f97_row1_col15, #T_f6f97_row1_col16, #T_f6f97_row1_col17, #T_f6f97_row1_col18, #T_f6f97_row1_col19, #T_f6f97_row1_col20, #T_f6f97_row1_col21, #T_f6f97_row1_col22, #T_f6f97_row1_col23, #T_f6f97_row1_col24, #T_f6f97_row2_col0, #T_f6f97_row2_col1, #T_f6f97_row2_col2, #T_f6f97_row2_col3, #T_f6f97_row2_col4, #T_f6f97_row2_col5, #T_f6f97_row2_col6, #T_f6f97_row2_col7, #T_f6f97_row2_col8, #T_f6f97_row2_col9, #T_f6f97_row2_col10, #T_f6f97_row2_col11, #T_f6f97_row2_col12, #T_f6f97_row2_col13, #T_f6f97_row2_col14, #T_f6f97_row2_col15, #T_f6f97_row2_col16, #T_f6f97_row2_col17, #T_f6f97_row2_col18, #T_f6f97_row2_col19, #T_f6f97_row2_col20, #T_f6f97_row2_col21, #T_f6f97_row2_col22, #T_f6f97_row2_col23, #T_f6f97_row2_col24, #T_f6f97_row3_col0, #T_f6f97_row3_col1, #T_f6f97_row3_col2, #T_f6f97_row3_col3, #T_f6f97_row3_col4, #T_f6f97_row3_col5, #T_f6f97_row3_col6, #T_f6f97_row3_col7, #T_f6f97_row3_col8, #T_f6f97_row3_col9, #T_f6f97_row3_col10, #T_f6f97_row3_col11, #T_f6f97_row3_col12, #T_f6f97_row3_col13, #T_f6f97_row3_col14, #T_f6f97_row3_col15, #T_f6f97_row3_col16, #T_f6f97_row3_col17, #T_f6f97_row3_col18, #T_f6f97_row3_col19, #T_f6f97_row3_col20, #T_f6f97_row3_col21, #T_f6f97_row3_col22, #T_f6f97_row3_col23, #T_f6f97_row3_col24, #T_f6f97_row4_col0, #T_f6f97_row4_col1, #T_f6f97_row4_col2, #T_f6f97_row4_col3, #T_f6f97_row4_col4, #T_f6f97_row4_col5, #T_f6f97_row4_col6, #T_f6f97_row4_col7, #T_f6f97_row4_col8, #T_f6f97_row4_col9, #T_f6f97_row4_col10, #T_f6f97_row4_col11, #T_f6f97_row4_col12, #T_f6f97_row4_col13, #T_f6f97_row4_col14, #T_f6f97_row4_col15, #T_f6f97_row4_col16, #T_f6f97_row4_col17, #T_f6f97_row4_col18, #T_f6f97_row4_col19, #T_f6f97_row4_col20, #T_f6f97_row4_col21, #T_f6f97_row4_col22, #T_f6f97_row4_col23, #T_f6f97_row4_col24 {\n",
       "  background-color: blue;\n",
       "}\n",
       "</style>\n",
       "<table id=\"T_f6f97\">\n",
       "  <thead>\n",
       "    <tr>\n",
       "      <th class=\"blank level0\" >&nbsp;</th>\n",
       "      <th id=\"T_f6f97_level0_col0\" class=\"col_heading level0 col0\" >Nombre_Oficina_Arp</th>\n",
       "      <th id=\"T_f6f97_level0_col1\" class=\"col_heading level0 col1\" >Numero_Uen_Arp</th>\n",
       "      <th id=\"T_f6f97_level0_col2\" class=\"col_heading level0 col2\" >Siniestro_Arp_Id</th>\n",
       "      <th id=\"T_f6f97_level0_col3\" class=\"col_heading level0 col3\" >Nombre_Sinies_Diagnosti_Princi</th>\n",
       "      <th id=\"T_f6f97_level0_col4\" class=\"col_heading level0 col4\" >Siniestro_Diagnosti_Princi_Id</th>\n",
       "      <th id=\"T_f6f97_level0_col5\" class=\"col_heading level0 col5\" >Nombre_Tipo_Atencion_Arp</th>\n",
       "      <th id=\"T_f6f97_level0_col6\" class=\"col_heading level0 col6\" >DNI_IPS</th>\n",
       "      <th id=\"T_f6f97_level0_col7\" class=\"col_heading level0 col7\" >Nombre_IPS</th>\n",
       "      <th id=\"T_f6f97_level0_col8\" class=\"col_heading level0 col8\" >Nombre_Municipio_IPS</th>\n",
       "      <th id=\"T_f6f97_level0_col9\" class=\"col_heading level0 col9\" >Nombre_Departamento_IPS</th>\n",
       "      <th id=\"T_f6f97_level0_col10\" class=\"col_heading level0 col10\" >NOMBRE_SUCURSAL</th>\n",
       "      <th id=\"T_f6f97_level0_col11\" class=\"col_heading level0 col11\" >NOMBRE_MUNICIPIO_SUCURSAL</th>\n",
       "      <th id=\"T_f6f97_level0_col12\" class=\"col_heading level0 col12\" >NOMBRE_DEPARTAMENTO_SUCURSAL</th>\n",
       "      <th id=\"T_f6f97_level0_col13\" class=\"col_heading level0 col13\" >Nombre_Municipio_Establecimiento</th>\n",
       "      <th id=\"T_f6f97_level0_col14\" class=\"col_heading level0 col14\" >FECHA_ATENCION</th>\n",
       "      <th id=\"T_f6f97_level0_col15\" class=\"col_heading level0 col15\" >Tipo_Llamada_Arp_Desc</th>\n",
       "      <th id=\"T_f6f97_level0_col16\" class=\"col_heading level0 col16\" >TIPIFICACION</th>\n",
       "      <th id=\"T_f6f97_level0_col17\" class=\"col_heading level0 col17\" >Cantidad</th>\n",
       "      <th id=\"T_f6f97_level0_col18\" class=\"col_heading level0 col18\" >MUNICIPIO</th>\n",
       "      <th id=\"T_f6f97_level0_col19\" class=\"col_heading level0 col19\" >HOMOLOGACION NIT</th>\n",
       "      <th id=\"T_f6f97_level0_col20\" class=\"col_heading level0 col20\" >Year</th>\n",
       "      <th id=\"T_f6f97_level0_col21\" class=\"col_heading level0 col21\" >Month</th>\n",
       "      <th id=\"T_f6f97_level0_col22\" class=\"col_heading level0 col22\" >Day</th>\n",
       "      <th id=\"T_f6f97_level0_col23\" class=\"col_heading level0 col23\" >Hour</th>\n",
       "      <th id=\"T_f6f97_level0_col24\" class=\"col_heading level0 col24\" >Date</th>\n",
       "    </tr>\n",
       "  </thead>\n",
       "  <tbody>\n",
       "    <tr>\n",
       "      <th id=\"T_f6f97_level0_row0\" class=\"row_heading level0 row0\" >0</th>\n",
       "      <td id=\"T_f6f97_row0_col0\" class=\"data row0 col0\" >OFICINA BOGOTA</td>\n",
       "      <td id=\"T_f6f97_row0_col1\" class=\"data row0 col1\" >419</td>\n",
       "      <td id=\"T_f6f97_row0_col2\" class=\"data row0 col2\" >bf0bf0c0e3</td>\n",
       "      <td id=\"T_f6f97_row0_col3\" class=\"data row0 col3\" >G560</td>\n",
       "      <td id=\"T_f6f97_row0_col4\" class=\"data row0 col4\" >G560</td>\n",
       "      <td id=\"T_f6f97_row0_col5\" class=\"data row0 col5\" >AMBULATORIA</td>\n",
       "      <td id=\"T_f6f97_row0_col6\" class=\"data row0 col6\" >5708b4378b</td>\n",
       "      <td id=\"T_f6f97_row0_col7\" class=\"data row0 col7\" >905d8f470c</td>\n",
       "      <td id=\"T_f6f97_row0_col8\" class=\"data row0 col8\" >MEDELLIN</td>\n",
       "      <td id=\"T_f6f97_row0_col9\" class=\"data row0 col9\" >ANTIOQUIA</td>\n",
       "      <td id=\"T_f6f97_row0_col10\" class=\"data row0 col10\" >SIN DATO</td>\n",
       "      <td id=\"T_f6f97_row0_col11\" class=\"data row0 col11\" >BOGOTA</td>\n",
       "      <td id=\"T_f6f97_row0_col12\" class=\"data row0 col12\" >BOGOTA D.C.</td>\n",
       "      <td id=\"T_f6f97_row0_col13\" class=\"data row0 col13\" >?</td>\n",
       "      <td id=\"T_f6f97_row0_col14\" class=\"data row0 col14\" >2019-07-12 06:20:00</td>\n",
       "      <td id=\"T_f6f97_row0_col15\" class=\"data row0 col15\" >CONTROL IPS</td>\n",
       "      <td id=\"T_f6f97_row0_col16\" class=\"data row0 col16\" >CITAS FRONT</td>\n",
       "      <td id=\"T_f6f97_row0_col17\" class=\"data row0 col17\" >1.000000</td>\n",
       "      <td id=\"T_f6f97_row0_col18\" class=\"data row0 col18\" >BOGOTA</td>\n",
       "      <td id=\"T_f6f97_row0_col19\" class=\"data row0 col19\" >3d1546fd2b</td>\n",
       "      <td id=\"T_f6f97_row0_col20\" class=\"data row0 col20\" >2019</td>\n",
       "      <td id=\"T_f6f97_row0_col21\" class=\"data row0 col21\" >7</td>\n",
       "      <td id=\"T_f6f97_row0_col22\" class=\"data row0 col22\" >12</td>\n",
       "      <td id=\"T_f6f97_row0_col23\" class=\"data row0 col23\" >6</td>\n",
       "      <td id=\"T_f6f97_row0_col24\" class=\"data row0 col24\" >2019-07-12</td>\n",
       "    </tr>\n",
       "    <tr>\n",
       "      <th id=\"T_f6f97_level0_row1\" class=\"row_heading level0 row1\" >1</th>\n",
       "      <td id=\"T_f6f97_row1_col0\" class=\"data row1 col0\" >OFICINA BOGOTA</td>\n",
       "      <td id=\"T_f6f97_row1_col1\" class=\"data row1 col1\" >411</td>\n",
       "      <td id=\"T_f6f97_row1_col2\" class=\"data row1 col2\" >96e0b92217</td>\n",
       "      <td id=\"T_f6f97_row1_col3\" class=\"data row1 col3\" >S626</td>\n",
       "      <td id=\"T_f6f97_row1_col4\" class=\"data row1 col4\" >S626</td>\n",
       "      <td id=\"T_f6f97_row1_col5\" class=\"data row1 col5\" >QUIRURGICO AMBULATORIO</td>\n",
       "      <td id=\"T_f6f97_row1_col6\" class=\"data row1 col6\" >5708b4378b</td>\n",
       "      <td id=\"T_f6f97_row1_col7\" class=\"data row1 col7\" >905d8f470c</td>\n",
       "      <td id=\"T_f6f97_row1_col8\" class=\"data row1 col8\" >MEDELLIN</td>\n",
       "      <td id=\"T_f6f97_row1_col9\" class=\"data row1 col9\" >ANTIOQUIA</td>\n",
       "      <td id=\"T_f6f97_row1_col10\" class=\"data row1 col10\" >SIN DATO</td>\n",
       "      <td id=\"T_f6f97_row1_col11\" class=\"data row1 col11\" >BOGOTA</td>\n",
       "      <td id=\"T_f6f97_row1_col12\" class=\"data row1 col12\" >BOGOTA D.C.</td>\n",
       "      <td id=\"T_f6f97_row1_col13\" class=\"data row1 col13\" >?</td>\n",
       "      <td id=\"T_f6f97_row1_col14\" class=\"data row1 col14\" >2019-06-18 11:08:00</td>\n",
       "      <td id=\"T_f6f97_row1_col15\" class=\"data row1 col15\" >CONTROL PROCEDIMIENTO</td>\n",
       "      <td id=\"T_f6f97_row1_col16\" class=\"data row1 col16\" >CITAS BACK</td>\n",
       "      <td id=\"T_f6f97_row1_col17\" class=\"data row1 col17\" >2.000000</td>\n",
       "      <td id=\"T_f6f97_row1_col18\" class=\"data row1 col18\" >BOGOTA</td>\n",
       "      <td id=\"T_f6f97_row1_col19\" class=\"data row1 col19\" >3d1546fd2b</td>\n",
       "      <td id=\"T_f6f97_row1_col20\" class=\"data row1 col20\" >2019</td>\n",
       "      <td id=\"T_f6f97_row1_col21\" class=\"data row1 col21\" >6</td>\n",
       "      <td id=\"T_f6f97_row1_col22\" class=\"data row1 col22\" >18</td>\n",
       "      <td id=\"T_f6f97_row1_col23\" class=\"data row1 col23\" >11</td>\n",
       "      <td id=\"T_f6f97_row1_col24\" class=\"data row1 col24\" >2019-06-18</td>\n",
       "    </tr>\n",
       "    <tr>\n",
       "      <th id=\"T_f6f97_level0_row2\" class=\"row_heading level0 row2\" >2</th>\n",
       "      <td id=\"T_f6f97_row2_col0\" class=\"data row2 col0\" >OFICINA BOGOTA</td>\n",
       "      <td id=\"T_f6f97_row2_col1\" class=\"data row2 col1\" >414</td>\n",
       "      <td id=\"T_f6f97_row2_col2\" class=\"data row2 col2\" >47999f6929</td>\n",
       "      <td id=\"T_f6f97_row2_col3\" class=\"data row2 col3\" >S835</td>\n",
       "      <td id=\"T_f6f97_row2_col4\" class=\"data row2 col4\" >S835</td>\n",
       "      <td id=\"T_f6f97_row2_col5\" class=\"data row2 col5\" >QUIRURGICO AMBULATORIO</td>\n",
       "      <td id=\"T_f6f97_row2_col6\" class=\"data row2 col6\" >541c0565f5</td>\n",
       "      <td id=\"T_f6f97_row2_col7\" class=\"data row2 col7\" >1ee303f2d8</td>\n",
       "      <td id=\"T_f6f97_row2_col8\" class=\"data row2 col8\" >BOGOTA</td>\n",
       "      <td id=\"T_f6f97_row2_col9\" class=\"data row2 col9\" >BOGOTA D.C.</td>\n",
       "      <td id=\"T_f6f97_row2_col10\" class=\"data row2 col10\" >SIN DATO</td>\n",
       "      <td id=\"T_f6f97_row2_col11\" class=\"data row2 col11\" >BOGOTA</td>\n",
       "      <td id=\"T_f6f97_row2_col12\" class=\"data row2 col12\" >BOGOTA D.C.</td>\n",
       "      <td id=\"T_f6f97_row2_col13\" class=\"data row2 col13\" >?</td>\n",
       "      <td id=\"T_f6f97_row2_col14\" class=\"data row2 col14\" >2019-03-05 07:20:00</td>\n",
       "      <td id=\"T_f6f97_row2_col15\" class=\"data row2 col15\" >CONTROL IPS</td>\n",
       "      <td id=\"T_f6f97_row2_col16\" class=\"data row2 col16\" >CITAS BACK</td>\n",
       "      <td id=\"T_f6f97_row2_col17\" class=\"data row2 col17\" >1.000000</td>\n",
       "      <td id=\"T_f6f97_row2_col18\" class=\"data row2 col18\" >BOGOTA</td>\n",
       "      <td id=\"T_f6f97_row2_col19\" class=\"data row2 col19\" >465b9adf14</td>\n",
       "      <td id=\"T_f6f97_row2_col20\" class=\"data row2 col20\" >2019</td>\n",
       "      <td id=\"T_f6f97_row2_col21\" class=\"data row2 col21\" >3</td>\n",
       "      <td id=\"T_f6f97_row2_col22\" class=\"data row2 col22\" >5</td>\n",
       "      <td id=\"T_f6f97_row2_col23\" class=\"data row2 col23\" >7</td>\n",
       "      <td id=\"T_f6f97_row2_col24\" class=\"data row2 col24\" >2019-03-05</td>\n",
       "    </tr>\n",
       "    <tr>\n",
       "      <th id=\"T_f6f97_level0_row3\" class=\"row_heading level0 row3\" >3</th>\n",
       "      <td id=\"T_f6f97_row3_col0\" class=\"data row3 col0\" >OFICINA CALI</td>\n",
       "      <td id=\"T_f6f97_row3_col1\" class=\"data row3 col1\" >313</td>\n",
       "      <td id=\"T_f6f97_row3_col2\" class=\"data row3 col2\" >bb99a4e01c</td>\n",
       "      <td id=\"T_f6f97_row3_col3\" class=\"data row3 col3\" >M751</td>\n",
       "      <td id=\"T_f6f97_row3_col4\" class=\"data row3 col4\" >M751</td>\n",
       "      <td id=\"T_f6f97_row3_col5\" class=\"data row3 col5\" >QUIRURGICO AMBULATORIO</td>\n",
       "      <td id=\"T_f6f97_row3_col6\" class=\"data row3 col6\" >8476ddb78e</td>\n",
       "      <td id=\"T_f6f97_row3_col7\" class=\"data row3 col7\" >c7c466b6d9</td>\n",
       "      <td id=\"T_f6f97_row3_col8\" class=\"data row3 col8\" >POPAYAN</td>\n",
       "      <td id=\"T_f6f97_row3_col9\" class=\"data row3 col9\" >CAUCA</td>\n",
       "      <td id=\"T_f6f97_row3_col10\" class=\"data row3 col10\" >SIN DATO</td>\n",
       "      <td id=\"T_f6f97_row3_col11\" class=\"data row3 col11\" >SANTANDER DE QUILICHAO</td>\n",
       "      <td id=\"T_f6f97_row3_col12\" class=\"data row3 col12\" >CAUCA</td>\n",
       "      <td id=\"T_f6f97_row3_col13\" class=\"data row3 col13\" >?</td>\n",
       "      <td id=\"T_f6f97_row3_col14\" class=\"data row3 col14\" >2019-10-05 10:03:00</td>\n",
       "      <td id=\"T_f6f97_row3_col15\" class=\"data row3 col15\" >CONTROL IPS</td>\n",
       "      <td id=\"T_f6f97_row3_col16\" class=\"data row3 col16\" >URGENCIAS FRONT</td>\n",
       "      <td id=\"T_f6f97_row3_col17\" class=\"data row3 col17\" >1.000000</td>\n",
       "      <td id=\"T_f6f97_row3_col18\" class=\"data row3 col18\" >SANTIAGO DE CALI</td>\n",
       "      <td id=\"T_f6f97_row3_col19\" class=\"data row3 col19\" >70f15219b4</td>\n",
       "      <td id=\"T_f6f97_row3_col20\" class=\"data row3 col20\" >2019</td>\n",
       "      <td id=\"T_f6f97_row3_col21\" class=\"data row3 col21\" >10</td>\n",
       "      <td id=\"T_f6f97_row3_col22\" class=\"data row3 col22\" >5</td>\n",
       "      <td id=\"T_f6f97_row3_col23\" class=\"data row3 col23\" >10</td>\n",
       "      <td id=\"T_f6f97_row3_col24\" class=\"data row3 col24\" >2019-10-05</td>\n",
       "    </tr>\n",
       "    <tr>\n",
       "      <th id=\"T_f6f97_level0_row4\" class=\"row_heading level0 row4\" >4</th>\n",
       "      <td id=\"T_f6f97_row4_col0\" class=\"data row4 col0\" >OFICINA CALI</td>\n",
       "      <td id=\"T_f6f97_row4_col1\" class=\"data row4 col1\" >313</td>\n",
       "      <td id=\"T_f6f97_row4_col2\" class=\"data row4 col2\" >8637e3adde</td>\n",
       "      <td id=\"T_f6f97_row4_col3\" class=\"data row4 col3\" >M545</td>\n",
       "      <td id=\"T_f6f97_row4_col4\" class=\"data row4 col4\" >M545</td>\n",
       "      <td id=\"T_f6f97_row4_col5\" class=\"data row4 col5\" >AMBULATORIA</td>\n",
       "      <td id=\"T_f6f97_row4_col6\" class=\"data row4 col6\" >cd78551faa</td>\n",
       "      <td id=\"T_f6f97_row4_col7\" class=\"data row4 col7\" >db23282a62</td>\n",
       "      <td id=\"T_f6f97_row4_col8\" class=\"data row4 col8\" >SANTIAGO DE CALI</td>\n",
       "      <td id=\"T_f6f97_row4_col9\" class=\"data row4 col9\" >VALLE DEL CAUCA</td>\n",
       "      <td id=\"T_f6f97_row4_col10\" class=\"data row4 col10\" >SIN DATO</td>\n",
       "      <td id=\"T_f6f97_row4_col11\" class=\"data row4 col11\" >BUGA</td>\n",
       "      <td id=\"T_f6f97_row4_col12\" class=\"data row4 col12\" >VALLE DEL CAUCA</td>\n",
       "      <td id=\"T_f6f97_row4_col13\" class=\"data row4 col13\" >?</td>\n",
       "      <td id=\"T_f6f97_row4_col14\" class=\"data row4 col14\" >2019-06-25 07:13:00</td>\n",
       "      <td id=\"T_f6f97_row4_col15\" class=\"data row4 col15\" >CONTROL PROCEDIMIENTO</td>\n",
       "      <td id=\"T_f6f97_row4_col16\" class=\"data row4 col16\" >URGENCIAS FRONT</td>\n",
       "      <td id=\"T_f6f97_row4_col17\" class=\"data row4 col17\" >1.000000</td>\n",
       "      <td id=\"T_f6f97_row4_col18\" class=\"data row4 col18\" >GUACARI</td>\n",
       "      <td id=\"T_f6f97_row4_col19\" class=\"data row4 col19\" >f4d75f31e4</td>\n",
       "      <td id=\"T_f6f97_row4_col20\" class=\"data row4 col20\" >2019</td>\n",
       "      <td id=\"T_f6f97_row4_col21\" class=\"data row4 col21\" >6</td>\n",
       "      <td id=\"T_f6f97_row4_col22\" class=\"data row4 col22\" >25</td>\n",
       "      <td id=\"T_f6f97_row4_col23\" class=\"data row4 col23\" >7</td>\n",
       "      <td id=\"T_f6f97_row4_col24\" class=\"data row4 col24\" >2019-06-25</td>\n",
       "    </tr>\n",
       "  </tbody>\n",
       "</table>\n"
      ],
      "text/plain": [
       "<pandas.io.formats.style.Styler at 0x1692a113830>"
      ]
     },
     "execution_count": 32,
     "metadata": {},
     "output_type": "execute_result"
    }
   ],
   "source": [
    "#df.head()\n",
    "df3.head().style.set_properties(**{\n",
    "    'background-color': 'blue',\n",
    "})"
   ]
  },
  {
   "cell_type": "markdown",
   "id": "8a590d43",
   "metadata": {},
   "source": [
    "El nuevo data frame tiene:\n",
    "- Número de filas: 9984660 \n",
    " - Número de columnas: 25"
   ]
  },
  {
   "cell_type": "code",
   "execution_count": null,
   "id": "73308473",
   "metadata": {},
   "outputs": [
    {
     "name": "stdout",
     "output_type": "stream",
     "text": [
      "Número de filas: 9984660\n",
      "Número de columnas: 25\n"
     ]
    }
   ],
   "source": [
    "filas, columnas = df3.shape\n",
    "print(f\"Número de filas: {filas}\")\n",
    "print(f\"Número de columnas: {columnas}\")"
   ]
  },
  {
   "cell_type": "code",
   "execution_count": null,
   "id": "f41bff57",
   "metadata": {},
   "outputs": [
    {
     "name": "stdout",
     "output_type": "stream",
     "text": [
      "Nombre_Oficina_Arp\n",
      "Numero_Uen_Arp\n",
      "Siniestro_Arp_Id\n",
      "Nombre_Sinies_Diagnosti_Princi\n",
      "Siniestro_Diagnosti_Princi_Id\n",
      "Nombre_Tipo_Atencion_Arp\n",
      "DNI_IPS\n",
      "Nombre_IPS\n",
      "Nombre_Municipio_IPS\n",
      "Nombre_Departamento_IPS\n",
      "NOMBRE_SUCURSAL\n",
      "NOMBRE_MUNICIPIO_SUCURSAL\n",
      "NOMBRE_DEPARTAMENTO_SUCURSAL\n",
      "Nombre_Municipio_Establecimiento\n",
      "FECHA_ATENCION\n",
      "Tipo_Llamada_Arp_Desc\n",
      "TIPIFICACION\n",
      "Cantidad\n",
      "MUNICIPIO\n",
      "HOMOLOGACION NIT\n",
      "Year\n",
      "Month\n",
      "Day\n",
      "Hour\n",
      "Date\n"
     ]
    }
   ],
   "source": [
    "for col in df3.columns:\n",
    "    print(col)\n"
   ]
  },
  {
   "cell_type": "markdown",
   "id": "07c23b42",
   "metadata": {},
   "source": [
    "### (d) Tablas de frecuencias para Year"
   ]
  },
  {
   "cell_type": "code",
   "execution_count": null,
   "id": "7c90711f",
   "metadata": {},
   "outputs": [
    {
     "name": "stdout",
     "output_type": "stream",
     "text": [
      "   Year  Frecuencia\n",
      "0  2024     1989319\n",
      "1  2023     1908666\n",
      "2  2022     1783022\n",
      "3  2021     1636878\n",
      "4  2020     1365303\n",
      "5  2019     1301472\n"
     ]
    }
   ],
   "source": [
    "import pandas as pd\n",
    "\n",
    "# Tabla de frecuencias\n",
    "frecuencias = df3['Year'].value_counts().reset_index()\n",
    "frecuencias.columns = ['Year', 'Frecuencia']\n",
    "\n",
    "# Mostrar la tabla\n",
    "print(frecuencias)\n"
   ]
  },
  {
   "cell_type": "code",
   "execution_count": null,
   "id": "0b67dc0d",
   "metadata": {},
   "outputs": [
    {
     "name": "stdout",
     "output_type": "stream",
     "text": [
      "   Year  Frecuencia\n",
      "5  2019     1301472\n",
      "4  2020     1365303\n",
      "3  2021     1636878\n",
      "2  2022     1783022\n",
      "1  2023     1908666\n",
      "0  2024     1989319\n"
     ]
    }
   ],
   "source": [
    "import pandas as pd\n",
    "\n",
    "# Tabla de frecuencias\n",
    "frecuencias = df3['Year'].value_counts().reset_index()\n",
    "frecuencias.columns = ['Year', 'Frecuencia']\n",
    "\n",
    "# Ordenar de menor a mayor por el año\n",
    "frecuencias = frecuencias.sort_values(by='Year')\n",
    "\n",
    "# Mostrar la tabla\n",
    "print(frecuencias)\n"
   ]
  },
  {
   "cell_type": "code",
   "execution_count": null,
   "id": "35d8fbc7",
   "metadata": {},
   "outputs": [
    {
     "name": "stdout",
     "output_type": "stream",
     "text": [
      "Tabla con porcentajes:\n",
      "   Year  Frecuencia  Porcentaje (%)\n",
      "5  2019     1301472           13.03\n",
      "4  2020     1365303           13.67\n",
      "3  2021     1636878           16.39\n",
      "2  2022     1783022           17.86\n",
      "1  2023     1908666           19.12\n",
      "0  2024     1989319           19.92\n"
     ]
    }
   ],
   "source": [
    "import pandas as pd\n",
    "import matplotlib.pyplot as plt\n",
    "\n",
    "# Tabla de frecuencias\n",
    "frecuencias = df3['Year'].value_counts().reset_index()\n",
    "frecuencias.columns = ['Year', 'Frecuencia']\n",
    "\n",
    "# Calcular porcentajes\n",
    "total = frecuencias['Frecuencia'].sum()\n",
    "frecuencias['Porcentaje (%)'] = (frecuencias['Frecuencia'] / total * 100).round(2)\n",
    "\n",
    "# Ordenar por año\n",
    "frecuencias = frecuencias.sort_values(by='Year')\n",
    "\n",
    "# Mostrar tabla con porcentajes\n",
    "print(\"Tabla con porcentajes:\")\n",
    "print(frecuencias)"
   ]
  },
  {
   "cell_type": "markdown",
   "id": "84555924",
   "metadata": {},
   "source": [
    "### (e) Gráficas"
   ]
  },
  {
   "cell_type": "code",
   "execution_count": null,
   "id": "959fb303",
   "metadata": {},
   "outputs": [
    {
     "data": {
      "image/png": "[encoded data removed]",
      "text/plain": [
       "<Figure size 1000x500 with 1 Axes>"
      ]
     },
     "metadata": {},
     "output_type": "display_data"
    },
    {
     "data": {
      "image/png": "[encoded data removed]",
      "text/plain": [
       "<Figure size 1000x500 with 1 Axes>"
      ]
     },
     "metadata": {},
     "output_type": "display_data"
    },
    {
     "data": {
      "image/png": "[encoded data removed]",
      "text/plain": [
       "<Figure size 800x800 with 1 Axes>"
      ]
     },
     "metadata": {},
     "output_type": "display_data"
    }
   ],
   "source": [
    "\n",
    "# ----------------------------\n",
    "# 📊 Gráfico de barras de frecuencias\n",
    "# ----------------------------\n",
    "plt.figure(figsize=(10, 5))\n",
    "plt.bar(frecuencias['Year'].astype(str), frecuencias['Frecuencia'], color='skyblue')\n",
    "plt.title('Frecuencia de registros por Año')\n",
    "plt.xlabel('Año')\n",
    "plt.ylabel('Frecuencia')\n",
    "plt.xticks(rotation=45)\n",
    "plt.tight_layout()\n",
    "plt.show()\n",
    "\n",
    "\n",
    "# ----------------------------\n",
    "# 📊 Gráfico de barras de porcentajes\n",
    "# ----------------------------\n",
    "plt.figure(figsize=(10, 5))\n",
    "plt.bar(frecuencias['Year'].astype(str), frecuencias['Porcentaje (%)'], color='skyblue')\n",
    "plt.title('Porcentajes de registros por Año')\n",
    "plt.xlabel('Año')\n",
    "plt.ylabel('Porcentaje (%)')\n",
    "plt.xticks(rotation=45)\n",
    "plt.tight_layout()\n",
    "plt.show()\n",
    "\n",
    "# ----------------------------\n",
    "# 🥧 Gráfico de pastel\n",
    "# ----------------------------\n",
    "plt.figure(figsize=(8, 8))\n",
    "plt.pie(frecuencias['Frecuencia'], labels=frecuencias['Year'], autopct='%1.1f%%', startangle=140)\n",
    "plt.title('Distribución porcentual por Año')\n",
    "plt.axis('equal')  # Para que el círculo esté bien formado\n",
    "plt.show()\n"
   ]
  },
  {
   "cell_type": "markdown",
   "id": "3879cf39",
   "metadata": {},
   "source": [
    "### Descargar la base de datos"
   ]
  },
  {
   "cell_type": "code",
   "execution_count": 1,
   "id": "c57b1dbb",
   "metadata": {},
   "outputs": [],
   "source": [
    "#df3.to_excel(\"df3_exportado.xlsx\", index=False)\n",
    "#df3.to_csv(\"df3_csv.csv\", index=False)\n",
    "#df3.to_csv(\"df3_txt.txt\", sep=\"\\t\", index=False)"
   ]
  },
  {
   "cell_type": "code",
   "execution_count": null,
   "id": "d94a279f",
   "metadata": {},
   "outputs": [],
   "source": [
    "#df3.to_excel(\"df3_exportado.xlsx\", index=False)\n",
    "#df3.to_csv(\"df3_csv.csv\", index=False)\n",
    "#df3.to_csv(\"df3_txt.txt\", sep=\"\\t\", index=False)"
   ]
  },
  {
   "cell_type": "markdown",
   "id": "d1fec055",
   "metadata": {},
   "source": [
    "<a id=\"5\"></a>\n",
    "### <p style=\"padding:10px;background-color:grey ;margin:0;color:white;font-family:newtimeroman;font-size:100%;text-align:center;border-radius: 15px 50px;overflow:hidden;font-weight:500\">3. Distribución por Nombre_Municipio_IPS 📋 </p>  "
   ]
  },
  {
   "cell_type": "code",
   "execution_count": null,
   "id": "7cb9ee69",
   "metadata": {},
   "outputs": [],
   "source": [
    "# Crear una copia de df4 para no modificar el original\n",
    "df4 = df3.copy()"
   ]
  },
  {
   "cell_type": "markdown",
   "id": "13838628",
   "metadata": {},
   "source": [
    "### (a) Revisar `NaNs`  "
   ]
  },
  {
   "cell_type": "code",
   "execution_count": null,
   "id": "8aed8495",
   "metadata": {},
   "outputs": [
    {
     "data": {
      "text/plain": [
       "0"
      ]
     },
     "execution_count": 41,
     "metadata": {},
     "output_type": "execute_result"
    }
   ],
   "source": [
    "df4['Nombre_Municipio_IPS'].isna().sum()"
   ]
  },
  {
   "cell_type": "markdown",
   "id": "ca339ad1",
   "metadata": {},
   "source": [
    "### (b) Revisar datos con `?`"
   ]
  },
  {
   "cell_type": "markdown",
   "id": "e680c0e6",
   "metadata": {},
   "source": [
    "Para mostrar la tabla de frecuencias de la columna `Nombre_Municipio_IPS` y asegurar de que se incluya la cantidad de veces que aparece el signo de interrogación (`?`): "
   ]
  },
  {
   "cell_type": "code",
   "execution_count": null,
   "id": "2baf5e82",
   "metadata": {},
   "outputs": [
    {
     "name": "stdout",
     "output_type": "stream",
     "text": [
      "\n",
      "▶ Frecuencia del signo de interrogación ('?'):\n",
      "   Nombre_Municipio_IPS  Frecuencia\n",
      "10                    ?       66627\n",
      "\n",
      "▶ Tabla completa de frecuencias:\n",
      "    Nombre_Municipio_IPS  Frecuencia\n",
      "0               MEDELLIN     6415140\n",
      "1                 BOGOTA      861041\n",
      "2       SANTIAGO DE CALI      442358\n",
      "3            BUCARAMANGA      244644\n",
      "4           BARRANQUILLA      233607\n",
      "..                   ...         ...\n",
      "379                 PAEZ           5\n",
      "380             EL PEÑOL           4\n",
      "381               GENOVA           4\n",
      "382             TENERIFE           1\n",
      "383              EL PASO           1\n",
      "\n",
      "[384 rows x 2 columns]\n"
     ]
    }
   ],
   "source": [
    "import pandas as pd\n",
    "\n",
    "# Tabla de frecuencias incluyendo todos los valores\n",
    "frecuencias = df4['Nombre_Municipio_IPS'].value_counts(dropna=False).reset_index()\n",
    "frecuencias.columns = ['Nombre_Municipio_IPS', 'Frecuencia']\n",
    "\n",
    "# Mostrar la frecuencia del signo de interrogación si existe\n",
    "if '?' in frecuencias['Nombre_Municipio_IPS'].values:\n",
    "    freq_interrogacion = frecuencias[frecuencias['Nombre_Municipio_IPS'] == '?']\n",
    "    print(\"\\n▶ Frecuencia del signo de interrogación ('?'):\")\n",
    "    print(freq_interrogacion)\n",
    "else:\n",
    "    print(\"\\n❗ No hay registros con el valor '?' en la variable Nombre_Municipio_IPS.\")\n",
    "\n",
    "# Mostrar toda la tabla de frecuencias\n",
    "print(\"\\n▶ Tabla completa de frecuencias:\")\n",
    "print(frecuencias)\n"
   ]
  },
  {
   "cell_type": "code",
   "execution_count": null,
   "id": "c5a137f9",
   "metadata": {},
   "outputs": [
    {
     "data": {
      "text/html": [
       "<div>\n",
       "<style scoped>\n",
       "    .dataframe tbody tr th:only-of-type {\n",
       "        vertical-align: middle;\n",
       "    }\n",
       "\n",
       "    .dataframe tbody tr th {\n",
       "        vertical-align: top;\n",
       "    }\n",
       "\n",
       "    .dataframe thead th {\n",
       "        text-align: right;\n",
       "    }\n",
       "</style>\n",
       "<table border=\"1\" class=\"dataframe\">\n",
       "  <thead>\n",
       "    <tr style=\"text-align: right;\">\n",
       "      <th></th>\n",
       "      <th>Nombre_Oficina_Arp</th>\n",
       "      <th>Numero_Uen_Arp</th>\n",
       "      <th>Siniestro_Arp_Id</th>\n",
       "      <th>Nombre_Sinies_Diagnosti_Princi</th>\n",
       "      <th>Siniestro_Diagnosti_Princi_Id</th>\n",
       "      <th>Nombre_Tipo_Atencion_Arp</th>\n",
       "      <th>DNI_IPS</th>\n",
       "      <th>Nombre_IPS</th>\n",
       "      <th>Nombre_Municipio_IPS</th>\n",
       "      <th>Nombre_Departamento_IPS</th>\n",
       "      <th>...</th>\n",
       "      <th>Tipo_Llamada_Arp_Desc</th>\n",
       "      <th>TIPIFICACION</th>\n",
       "      <th>Cantidad</th>\n",
       "      <th>MUNICIPIO</th>\n",
       "      <th>HOMOLOGACION NIT</th>\n",
       "      <th>Year</th>\n",
       "      <th>Month</th>\n",
       "      <th>Day</th>\n",
       "      <th>Hour</th>\n",
       "      <th>Date</th>\n",
       "    </tr>\n",
       "  </thead>\n",
       "  <tbody>\n",
       "    <tr>\n",
       "      <th>73</th>\n",
       "      <td>OFICINA MEDELLIN</td>\n",
       "      <td>214</td>\n",
       "      <td>61fcb32912</td>\n",
       "      <td>S300</td>\n",
       "      <td>S300</td>\n",
       "      <td>AMBULATORIA</td>\n",
       "      <td>d08a56a1b7</td>\n",
       "      <td>SIN DATO</td>\n",
       "      <td>?</td>\n",
       "      <td>?</td>\n",
       "      <td>...</td>\n",
       "      <td>CONTROL IPS</td>\n",
       "      <td>URGENCIAS FRONT</td>\n",
       "      <td>1.0</td>\n",
       "      <td>EL PASO</td>\n",
       "      <td>a96dcb4db7</td>\n",
       "      <td>2019</td>\n",
       "      <td>8</td>\n",
       "      <td>14</td>\n",
       "      <td>8</td>\n",
       "      <td>2019-08-14</td>\n",
       "    </tr>\n",
       "    <tr>\n",
       "      <th>419</th>\n",
       "      <td>OFICINA BUCARAMANGA</td>\n",
       "      <td>531</td>\n",
       "      <td>7c24e7ad90</td>\n",
       "      <td>S681</td>\n",
       "      <td>S681</td>\n",
       "      <td>QUIRURGICO AMBULATORIO</td>\n",
       "      <td>e344b81536</td>\n",
       "      <td>SIN DATO</td>\n",
       "      <td>?</td>\n",
       "      <td>?</td>\n",
       "      <td>...</td>\n",
       "      <td>CONTROL IPS</td>\n",
       "      <td>URGENCIAS FRONT</td>\n",
       "      <td>1.0</td>\n",
       "      <td>BUCARAMANGA</td>\n",
       "      <td>0648e819e6</td>\n",
       "      <td>2019</td>\n",
       "      <td>9</td>\n",
       "      <td>13</td>\n",
       "      <td>11</td>\n",
       "      <td>2019-09-13</td>\n",
       "    </tr>\n",
       "    <tr>\n",
       "      <th>609</th>\n",
       "      <td>OFICINA BARRANQUILLA</td>\n",
       "      <td>511</td>\n",
       "      <td>19a1dffc30</td>\n",
       "      <td>S400</td>\n",
       "      <td>S400</td>\n",
       "      <td>AMBULATORIA</td>\n",
       "      <td>b097d13f9b</td>\n",
       "      <td>SIN DATO</td>\n",
       "      <td>?</td>\n",
       "      <td>?</td>\n",
       "      <td>...</td>\n",
       "      <td>CONTROL IPS</td>\n",
       "      <td>URGENCIAS FRONT</td>\n",
       "      <td>1.0</td>\n",
       "      <td>AGUSTIN CODAZZI</td>\n",
       "      <td>99cf9062b5</td>\n",
       "      <td>2019</td>\n",
       "      <td>8</td>\n",
       "      <td>6</td>\n",
       "      <td>15</td>\n",
       "      <td>2019-08-06</td>\n",
       "    </tr>\n",
       "    <tr>\n",
       "      <th>669</th>\n",
       "      <td>OFICINA CALI</td>\n",
       "      <td>313</td>\n",
       "      <td>a1229fb89b</td>\n",
       "      <td>S400</td>\n",
       "      <td>S400</td>\n",
       "      <td>AMBULATORIA</td>\n",
       "      <td>de2f13493b</td>\n",
       "      <td>SIN DATO</td>\n",
       "      <td>?</td>\n",
       "      <td>?</td>\n",
       "      <td>...</td>\n",
       "      <td>CONTROL IPS</td>\n",
       "      <td>URGENCIAS FRONT</td>\n",
       "      <td>1.0</td>\n",
       "      <td>IPIALES</td>\n",
       "      <td>e92d1129b7</td>\n",
       "      <td>2019</td>\n",
       "      <td>8</td>\n",
       "      <td>15</td>\n",
       "      <td>9</td>\n",
       "      <td>2019-08-15</td>\n",
       "    </tr>\n",
       "    <tr>\n",
       "      <th>763</th>\n",
       "      <td>OFICINA CALI</td>\n",
       "      <td>311</td>\n",
       "      <td>b9e563b9b8</td>\n",
       "      <td>S367</td>\n",
       "      <td>S367</td>\n",
       "      <td>UNIDAD DE CUIDADOS INTENSIVOS</td>\n",
       "      <td>4d2540e2ab</td>\n",
       "      <td>SIN DATO</td>\n",
       "      <td>?</td>\n",
       "      <td>?</td>\n",
       "      <td>...</td>\n",
       "      <td>CONTROL PROCEDIMIENTO</td>\n",
       "      <td>URGENCIAS FRONT</td>\n",
       "      <td>1.0</td>\n",
       "      <td>SANTIAGO DE CALI</td>\n",
       "      <td>68a8bdffd1</td>\n",
       "      <td>2019</td>\n",
       "      <td>11</td>\n",
       "      <td>26</td>\n",
       "      <td>8</td>\n",
       "      <td>2019-11-26</td>\n",
       "    </tr>\n",
       "    <tr>\n",
       "      <th>...</th>\n",
       "      <td>...</td>\n",
       "      <td>...</td>\n",
       "      <td>...</td>\n",
       "      <td>...</td>\n",
       "      <td>...</td>\n",
       "      <td>...</td>\n",
       "      <td>...</td>\n",
       "      <td>...</td>\n",
       "      <td>...</td>\n",
       "      <td>...</td>\n",
       "      <td>...</td>\n",
       "      <td>...</td>\n",
       "      <td>...</td>\n",
       "      <td>...</td>\n",
       "      <td>...</td>\n",
       "      <td>...</td>\n",
       "      <td>...</td>\n",
       "      <td>...</td>\n",
       "      <td>...</td>\n",
       "      <td>...</td>\n",
       "      <td>...</td>\n",
       "    </tr>\n",
       "    <tr>\n",
       "      <th>11715272</th>\n",
       "      <td>OFICINA BARRANQUILLA</td>\n",
       "      <td>511</td>\n",
       "      <td>389b9022e0</td>\n",
       "      <td>S821</td>\n",
       "      <td>S821</td>\n",
       "      <td>QUIRURGICO HOSPITALARIO</td>\n",
       "      <td>1e61500604</td>\n",
       "      <td>SIN DATO</td>\n",
       "      <td>?</td>\n",
       "      <td>?</td>\n",
       "      <td>...</td>\n",
       "      <td>CONTROL PROCEDIMIENTO</td>\n",
       "      <td>CITAS BACK</td>\n",
       "      <td>10.0</td>\n",
       "      <td>PRADO - SEVILLA</td>\n",
       "      <td>c3beee8ea0</td>\n",
       "      <td>2024</td>\n",
       "      <td>11</td>\n",
       "      <td>14</td>\n",
       "      <td>10</td>\n",
       "      <td>2024-11-14</td>\n",
       "    </tr>\n",
       "    <tr>\n",
       "      <th>11715553</th>\n",
       "      <td>OFICINA BARRANQUILLA</td>\n",
       "      <td>519</td>\n",
       "      <td>d05742b73b</td>\n",
       "      <td>S903</td>\n",
       "      <td>S903</td>\n",
       "      <td>AMBULATORIA</td>\n",
       "      <td>1e61500604</td>\n",
       "      <td>SIN DATO</td>\n",
       "      <td>?</td>\n",
       "      <td>?</td>\n",
       "      <td>...</td>\n",
       "      <td>CONTROL IPS</td>\n",
       "      <td>CITAS FRONT</td>\n",
       "      <td>1.0</td>\n",
       "      <td>CIENAGA</td>\n",
       "      <td>c3beee8ea0</td>\n",
       "      <td>2024</td>\n",
       "      <td>12</td>\n",
       "      <td>23</td>\n",
       "      <td>14</td>\n",
       "      <td>2024-12-23</td>\n",
       "    </tr>\n",
       "    <tr>\n",
       "      <th>11715962</th>\n",
       "      <td>OFICINA BARRANQUILLA</td>\n",
       "      <td>514</td>\n",
       "      <td>c1050b3be9</td>\n",
       "      <td>T159</td>\n",
       "      <td>T159</td>\n",
       "      <td>AMBULATORIA</td>\n",
       "      <td>b097d13f9b</td>\n",
       "      <td>SIN DATO</td>\n",
       "      <td>?</td>\n",
       "      <td>?</td>\n",
       "      <td>...</td>\n",
       "      <td>CONTROL IPS</td>\n",
       "      <td>URGENCIAS BACK</td>\n",
       "      <td>1.0</td>\n",
       "      <td>AGUSTIN CODAZZI</td>\n",
       "      <td>99cf9062b5</td>\n",
       "      <td>2024</td>\n",
       "      <td>12</td>\n",
       "      <td>8</td>\n",
       "      <td>0</td>\n",
       "      <td>2024-12-08</td>\n",
       "    </tr>\n",
       "    <tr>\n",
       "      <th>11716289</th>\n",
       "      <td>OFICINA MEDELLIN</td>\n",
       "      <td>211</td>\n",
       "      <td>cc8e1a260f</td>\n",
       "      <td>S322</td>\n",
       "      <td>S322</td>\n",
       "      <td>AMBULATORIA</td>\n",
       "      <td>83e60beb7d</td>\n",
       "      <td>SIN DATO</td>\n",
       "      <td>?</td>\n",
       "      <td>?</td>\n",
       "      <td>...</td>\n",
       "      <td>CONTROL IPS</td>\n",
       "      <td>CITAS BACK</td>\n",
       "      <td>1.0</td>\n",
       "      <td>APARTADO-ANTIOQUIA</td>\n",
       "      <td>2b2567f448</td>\n",
       "      <td>2024</td>\n",
       "      <td>10</td>\n",
       "      <td>11</td>\n",
       "      <td>15</td>\n",
       "      <td>2024-10-11</td>\n",
       "    </tr>\n",
       "    <tr>\n",
       "      <th>11716290</th>\n",
       "      <td>OFICINA MEDELLIN</td>\n",
       "      <td>215</td>\n",
       "      <td>b0afd25792</td>\n",
       "      <td>S781</td>\n",
       "      <td>S781</td>\n",
       "      <td>UNIDAD DE CUIDADOS INTENSIVOS</td>\n",
       "      <td>d53670895a</td>\n",
       "      <td>SIN DATO</td>\n",
       "      <td>?</td>\n",
       "      <td>?</td>\n",
       "      <td>...</td>\n",
       "      <td>CONTROL IPS</td>\n",
       "      <td>CITAS FRONT</td>\n",
       "      <td>1.0</td>\n",
       "      <td>ENVIGADO</td>\n",
       "      <td>49dc789d8b</td>\n",
       "      <td>2024</td>\n",
       "      <td>10</td>\n",
       "      <td>13</td>\n",
       "      <td>9</td>\n",
       "      <td>2024-10-13</td>\n",
       "    </tr>\n",
       "  </tbody>\n",
       "</table>\n",
       "<p>66627 rows × 25 columns</p>\n",
       "</div>"
      ],
      "text/plain": [
       "            Nombre_Oficina_Arp Numero_Uen_Arp Siniestro_Arp_Id  \\\n",
       "73            OFICINA MEDELLIN            214       61fcb32912   \n",
       "419        OFICINA BUCARAMANGA            531       7c24e7ad90   \n",
       "609       OFICINA BARRANQUILLA            511       19a1dffc30   \n",
       "669               OFICINA CALI            313       a1229fb89b   \n",
       "763               OFICINA CALI            311       b9e563b9b8   \n",
       "...                        ...            ...              ...   \n",
       "11715272  OFICINA BARRANQUILLA            511       389b9022e0   \n",
       "11715553  OFICINA BARRANQUILLA            519       d05742b73b   \n",
       "11715962  OFICINA BARRANQUILLA            514       c1050b3be9   \n",
       "11716289      OFICINA MEDELLIN            211       cc8e1a260f   \n",
       "11716290      OFICINA MEDELLIN            215       b0afd25792   \n",
       "\n",
       "         Nombre_Sinies_Diagnosti_Princi Siniestro_Diagnosti_Princi_Id  \\\n",
       "73                                 S300                          S300   \n",
       "419                                S681                          S681   \n",
       "609                                S400                          S400   \n",
       "669                                S400                          S400   \n",
       "763                                S367                          S367   \n",
       "...                                 ...                           ...   \n",
       "11715272                           S821                          S821   \n",
       "11715553                           S903                          S903   \n",
       "11715962                           T159                          T159   \n",
       "11716289                           S322                          S322   \n",
       "11716290                           S781                          S781   \n",
       "\n",
       "               Nombre_Tipo_Atencion_Arp     DNI_IPS Nombre_IPS  \\\n",
       "73                          AMBULATORIA  d08a56a1b7   SIN DATO   \n",
       "419              QUIRURGICO AMBULATORIO  e344b81536   SIN DATO   \n",
       "609                         AMBULATORIA  b097d13f9b   SIN DATO   \n",
       "669                         AMBULATORIA  de2f13493b   SIN DATO   \n",
       "763       UNIDAD DE CUIDADOS INTENSIVOS  4d2540e2ab   SIN DATO   \n",
       "...                                 ...         ...        ...   \n",
       "11715272        QUIRURGICO HOSPITALARIO  1e61500604   SIN DATO   \n",
       "11715553                    AMBULATORIA  1e61500604   SIN DATO   \n",
       "11715962                    AMBULATORIA  b097d13f9b   SIN DATO   \n",
       "11716289                    AMBULATORIA  83e60beb7d   SIN DATO   \n",
       "11716290  UNIDAD DE CUIDADOS INTENSIVOS  d53670895a   SIN DATO   \n",
       "\n",
       "         Nombre_Municipio_IPS Nombre_Departamento_IPS  ...  \\\n",
       "73                          ?                       ?  ...   \n",
       "419                         ?                       ?  ...   \n",
       "609                         ?                       ?  ...   \n",
       "669                         ?                       ?  ...   \n",
       "763                         ?                       ?  ...   \n",
       "...                       ...                     ...  ...   \n",
       "11715272                    ?                       ?  ...   \n",
       "11715553                    ?                       ?  ...   \n",
       "11715962                    ?                       ?  ...   \n",
       "11716289                    ?                       ?  ...   \n",
       "11716290                    ?                       ?  ...   \n",
       "\n",
       "          Tipo_Llamada_Arp_Desc     TIPIFICACION Cantidad           MUNICIPIO  \\\n",
       "73                  CONTROL IPS  URGENCIAS FRONT      1.0             EL PASO   \n",
       "419                 CONTROL IPS  URGENCIAS FRONT      1.0         BUCARAMANGA   \n",
       "609                 CONTROL IPS  URGENCIAS FRONT      1.0     AGUSTIN CODAZZI   \n",
       "669                 CONTROL IPS  URGENCIAS FRONT      1.0             IPIALES   \n",
       "763       CONTROL PROCEDIMIENTO  URGENCIAS FRONT      1.0    SANTIAGO DE CALI   \n",
       "...                         ...              ...      ...                 ...   \n",
       "11715272  CONTROL PROCEDIMIENTO       CITAS BACK     10.0     PRADO - SEVILLA   \n",
       "11715553            CONTROL IPS      CITAS FRONT      1.0             CIENAGA   \n",
       "11715962            CONTROL IPS   URGENCIAS BACK      1.0     AGUSTIN CODAZZI   \n",
       "11716289            CONTROL IPS       CITAS BACK      1.0  APARTADO-ANTIOQUIA   \n",
       "11716290            CONTROL IPS      CITAS FRONT      1.0            ENVIGADO   \n",
       "\n",
       "         HOMOLOGACION NIT  Year Month  Day Hour        Date  \n",
       "73             a96dcb4db7  2019     8   14    8  2019-08-14  \n",
       "419            0648e819e6  2019     9   13   11  2019-09-13  \n",
       "609            99cf9062b5  2019     8    6   15  2019-08-06  \n",
       "669            e92d1129b7  2019     8   15    9  2019-08-15  \n",
       "763            68a8bdffd1  2019    11   26    8  2019-11-26  \n",
       "...                   ...   ...   ...  ...  ...         ...  \n",
       "11715272       c3beee8ea0  2024    11   14   10  2024-11-14  \n",
       "11715553       c3beee8ea0  2024    12   23   14  2024-12-23  \n",
       "11715962       99cf9062b5  2024    12    8    0  2024-12-08  \n",
       "11716289       2b2567f448  2024    10   11   15  2024-10-11  \n",
       "11716290       49dc789d8b  2024    10   13    9  2024-10-13  \n",
       "\n",
       "[66627 rows x 25 columns]"
      ]
     },
     "execution_count": 43,
     "metadata": {},
     "output_type": "execute_result"
    }
   ],
   "source": [
    "df4[df4['Nombre_Municipio_IPS'] == '?']"
   ]
  },
  {
   "cell_type": "code",
   "execution_count": null,
   "id": "4e006764",
   "metadata": {},
   "outputs": [
    {
     "name": "stdout",
     "output_type": "stream",
     "text": [
      "    Nombre_Municipio_IPS  Frecuencia\n",
      "0               MEDELLIN     6415140\n",
      "1                 BOGOTA      861041\n",
      "2       SANTIAGO DE CALI      442358\n",
      "3            BUCARAMANGA      244644\n",
      "4           BARRANQUILLA      233607\n",
      "..                   ...         ...\n",
      "379                 PAEZ           5\n",
      "380             EL PEÑOL           4\n",
      "381               GENOVA           4\n",
      "382             TENERIFE           1\n",
      "383              EL PASO           1\n",
      "\n",
      "[384 rows x 2 columns]\n"
     ]
    }
   ],
   "source": [
    "import pandas as pd\n",
    "\n",
    "# Tabla de frecuencias\n",
    "frecuencias = df4['Nombre_Municipio_IPS'].value_counts().reset_index()\n",
    "frecuencias.columns = ['Nombre_Municipio_IPS', 'Frecuencia']\n",
    "\n",
    "# Mostrar la tabla\n",
    "print(frecuencias)"
   ]
  },
  {
   "cell_type": "markdown",
   "id": "fe9ca1dd",
   "metadata": {},
   "source": [
    "Reemplazar los valores `?` en 'Nombre_Municipio_IPS' por el valor correspondiente de `Nombre_Oficina_Arp`."
   ]
  },
  {
   "cell_type": "code",
   "execution_count": null,
   "id": "be5189a7",
   "metadata": {},
   "outputs": [],
   "source": [
    "# Reemplazar los valores '?' en 'Nombre_Municipio_IPS' por el valor correspondiente de 'Nombre_Oficina_Arp'\n",
    "df4.loc[df4['Nombre_Municipio_IPS'] == '?', 'Nombre_Municipio_IPS'] = df4.loc[df4['Nombre_Municipio_IPS'] == '?', 'Nombre_Oficina_Arp']\n"
   ]
  },
  {
   "cell_type": "code",
   "execution_count": null,
   "id": "1ca04132",
   "metadata": {},
   "outputs": [
    {
     "data": {
      "text/html": [
       "<div>\n",
       "<style scoped>\n",
       "    .dataframe tbody tr th:only-of-type {\n",
       "        vertical-align: middle;\n",
       "    }\n",
       "\n",
       "    .dataframe tbody tr th {\n",
       "        vertical-align: top;\n",
       "    }\n",
       "\n",
       "    .dataframe thead th {\n",
       "        text-align: right;\n",
       "    }\n",
       "</style>\n",
       "<table border=\"1\" class=\"dataframe\">\n",
       "  <thead>\n",
       "    <tr style=\"text-align: right;\">\n",
       "      <th></th>\n",
       "      <th>Nombre_Oficina_Arp</th>\n",
       "      <th>Numero_Uen_Arp</th>\n",
       "      <th>Siniestro_Arp_Id</th>\n",
       "      <th>Nombre_Sinies_Diagnosti_Princi</th>\n",
       "      <th>Siniestro_Diagnosti_Princi_Id</th>\n",
       "      <th>Nombre_Tipo_Atencion_Arp</th>\n",
       "      <th>DNI_IPS</th>\n",
       "      <th>Nombre_IPS</th>\n",
       "      <th>Nombre_Municipio_IPS</th>\n",
       "      <th>Nombre_Departamento_IPS</th>\n",
       "      <th>...</th>\n",
       "      <th>Tipo_Llamada_Arp_Desc</th>\n",
       "      <th>TIPIFICACION</th>\n",
       "      <th>Cantidad</th>\n",
       "      <th>MUNICIPIO</th>\n",
       "      <th>HOMOLOGACION NIT</th>\n",
       "      <th>Year</th>\n",
       "      <th>Month</th>\n",
       "      <th>Day</th>\n",
       "      <th>Hour</th>\n",
       "      <th>Date</th>\n",
       "    </tr>\n",
       "  </thead>\n",
       "  <tbody>\n",
       "  </tbody>\n",
       "</table>\n",
       "<p>0 rows × 25 columns</p>\n",
       "</div>"
      ],
      "text/plain": [
       "Empty DataFrame\n",
       "Columns: [Nombre_Oficina_Arp, Numero_Uen_Arp, Siniestro_Arp_Id, Nombre_Sinies_Diagnosti_Princi, Siniestro_Diagnosti_Princi_Id, Nombre_Tipo_Atencion_Arp, DNI_IPS, Nombre_IPS, Nombre_Municipio_IPS, Nombre_Departamento_IPS, NOMBRE_SUCURSAL, NOMBRE_MUNICIPIO_SUCURSAL, NOMBRE_DEPARTAMENTO_SUCURSAL, Nombre_Municipio_Establecimiento, FECHA_ATENCION, Tipo_Llamada_Arp_Desc, TIPIFICACION, Cantidad, MUNICIPIO, HOMOLOGACION NIT, Year, Month, Day, Hour, Date]\n",
       "Index: []\n",
       "\n",
       "[0 rows x 25 columns]"
      ]
     },
     "execution_count": 46,
     "metadata": {},
     "output_type": "execute_result"
    }
   ],
   "source": [
    "df4[df4['Nombre_Municipio_IPS'] == '?']"
   ]
  },
  {
   "cell_type": "code",
   "execution_count": null,
   "id": "009e9356",
   "metadata": {},
   "outputs": [
    {
     "name": "stdout",
     "output_type": "stream",
     "text": [
      "\n",
      "❗ No hay registros con el valor '?' en la variable Nombre_Municipio_IPS.\n",
      "\n",
      "▶ Tabla completa de frecuencias:\n",
      "    Nombre_Municipio_IPS  Frecuencia\n",
      "0               MEDELLIN     6415140\n",
      "1                 BOGOTA      861041\n",
      "2       SANTIAGO DE CALI      442358\n",
      "3            BUCARAMANGA      244644\n",
      "4           BARRANQUILLA      233607\n",
      "..                   ...         ...\n",
      "386                 PAEZ           5\n",
      "387               GENOVA           4\n",
      "388             EL PEÑOL           4\n",
      "389             TENERIFE           1\n",
      "390              EL PASO           1\n",
      "\n",
      "[391 rows x 2 columns]\n"
     ]
    }
   ],
   "source": [
    "import pandas as pd\n",
    "\n",
    "# Tabla de frecuencias incluyendo todos los valores\n",
    "frecuencias = df4['Nombre_Municipio_IPS'].value_counts(dropna=False).reset_index()\n",
    "frecuencias.columns = ['Nombre_Municipio_IPS', 'Frecuencia']\n",
    "\n",
    "# Mostrar la frecuencia del signo de interrogación si existe\n",
    "if '?' in frecuencias['Nombre_Municipio_IPS'].values:\n",
    "    freq_interrogacion = frecuencias[frecuencias['Nombre_Municipio_IPS'] == '?']\n",
    "    print(\"\\n▶ Frecuencia del signo de interrogación ('?'):\")\n",
    "    print(freq_interrogacion)\n",
    "else:\n",
    "    print(\"\\n❗ No hay registros con el valor '?' en la variable Nombre_Municipio_IPS.\")\n",
    "\n",
    "# Mostrar toda la tabla de frecuencias\n",
    "print(\"\\n▶ Tabla completa de frecuencias:\")\n",
    "print(frecuencias)\n"
   ]
  },
  {
   "cell_type": "code",
   "execution_count": null,
   "id": "a33c8a71",
   "metadata": {},
   "outputs": [
    {
     "name": "stdout",
     "output_type": "stream",
     "text": [
      "Número de valores reemplazados: 66627\n",
      "\n",
      "Tabla con los valores reemplazados:\n",
      "         Nombre_Municipio_IPS    Nombre_Oficina_Arp\n",
      "73                          ?      OFICINA MEDELLIN\n",
      "419                         ?   OFICINA BUCARAMANGA\n",
      "609                         ?  OFICINA BARRANQUILLA\n",
      "669                         ?          OFICINA CALI\n",
      "763                         ?          OFICINA CALI\n",
      "...                       ...                   ...\n",
      "11715272                    ?  OFICINA BARRANQUILLA\n",
      "11715553                    ?  OFICINA BARRANQUILLA\n",
      "11715962                    ?  OFICINA BARRANQUILLA\n",
      "11716289                    ?      OFICINA MEDELLIN\n",
      "11716290                    ?      OFICINA MEDELLIN\n",
      "\n",
      "[66627 rows x 2 columns]\n",
      "\n",
      "Valores únicos utilizados como reemplazo:\n",
      "['OFICINA MEDELLIN' 'OFICINA BUCARAMANGA' 'OFICINA BARRANQUILLA'\n",
      " 'OFICINA CALI' 'OFICINA PEREIRA' 'OFICINA BOGOTA' 'OFICINA CARTAGENA'\n",
      " 'OFICINA MANIZALES']\n"
     ]
    }
   ],
   "source": [
    "# Identificar las filas donde Nombre_Departamento_IPS es '?'\n",
    "filtro = df3['Nombre_Municipio_IPS'] == '?'\n",
    "\n",
    "# Mostrar cantidad de filas a reemplazar\n",
    "cantidad_reemplazos = filtro.sum()\n",
    "print(f\"Número de valores reemplazados: {cantidad_reemplazos}\")\n",
    "\n",
    "# Tabla con los valores antes del reemplazo\n",
    "tabla_reemplazo = df3.loc[filtro, ['Nombre_Municipio_IPS', 'Nombre_Oficina_Arp']]\n",
    "\n",
    "# Hacer el reemplazo\n",
    "df4.loc[filtro, 'Nombre_Municipio_IPS'] = df4.loc[filtro, 'Nombre_Oficina_Arp']\n",
    "\n",
    "# Mostrar la tabla con los valores reemplazados\n",
    "print(\"\\nTabla con los valores reemplazados:\")\n",
    "print(tabla_reemplazo)\n",
    "\n",
    "# Mostrar valores únicos que fueron usados como reemplazo\n",
    "valores_usados = tabla_reemplazo['Nombre_Oficina_Arp'].unique()\n",
    "print(\"\\nValores únicos utilizados como reemplazo:\")\n",
    "print(valores_usados)\n"
   ]
  },
  {
   "cell_type": "code",
   "execution_count": null,
   "id": "e2bbc20c",
   "metadata": {},
   "outputs": [],
   "source": [
    "import pandas as pd\n",
    "\n",
    "# Tabla de frecuencias\n",
    "frecuencias = df4['Nombre_Municipio_IPS'].value_counts().reset_index()\n",
    "frecuencias.columns = ['Nombre_Municipio_IPS', 'Frecuencia']\n",
    "\n",
    "NUMERO =1000\n",
    "\n",
    "# Filtrar municipios con frecuencia MENOR que el NUMERO\n",
    "frecuencias_menor = frecuencias[frecuencias['Frecuencia'] < NUMERO]\n",
    "frecuencias_mayor = frecuencias[frecuencias['Frecuencia'] > NUMERO]\n"
   ]
  },
  {
   "cell_type": "code",
   "execution_count": null,
   "id": "a23cb617",
   "metadata": {},
   "outputs": [
    {
     "name": "stdout",
     "output_type": "stream",
     "text": [
      "    Nombre_Municipio_IPS  Frecuencia\n",
      "162               AMALFI         991\n",
      "163             QUIMBAYA         987\n",
      "164            CIMITARRA         970\n",
      "165                MOCOA         969\n",
      "166            GUATAVITA         945\n",
      "..                   ...         ...\n",
      "386                 PAEZ           5\n",
      "387               GENOVA           4\n",
      "388             EL PEÑOL           4\n",
      "389             TENERIFE           1\n",
      "390              EL PASO           1\n",
      "\n",
      "[229 rows x 2 columns]\n"
     ]
    }
   ],
   "source": [
    "\n",
    "# Mostrar la tabla filtrada\n",
    "print(frecuencias_menor)"
   ]
  },
  {
   "cell_type": "code",
   "execution_count": null,
   "id": "ff116d13",
   "metadata": {},
   "outputs": [
    {
     "name": "stdout",
     "output_type": "stream",
     "text": [
      "    Nombre_Municipio_IPS  Frecuencia\n",
      "0               MEDELLIN     6415140\n",
      "1                 BOGOTA      861041\n",
      "2       SANTIAGO DE CALI      442358\n",
      "3            BUCARAMANGA      244644\n",
      "4           BARRANQUILLA      233607\n",
      "..                   ...         ...\n",
      "156        SANTA BARBARA        1068\n",
      "157                TURBO        1032\n",
      "158                GIRON        1029\n",
      "159              SEVILLA        1026\n",
      "160                 TIBU        1005\n",
      "\n",
      "[161 rows x 2 columns]\n"
     ]
    }
   ],
   "source": [
    "# Mostrar la tabla filtrada\n",
    "print(frecuencias_mayor)"
   ]
  },
  {
   "cell_type": "code",
   "execution_count": null,
   "id": "989e5b05",
   "metadata": {},
   "outputs": [
    {
     "name": "stdout",
     "output_type": "stream",
     "text": [
      "Municipios con frecuencia < 1000: 229 de 391 (58.57%)\n",
      "Total de registros en esos municipios: 70514 de 9984660 registros totales (0.71%)\n"
     ]
    }
   ],
   "source": [
    "import pandas as pd\n",
    "\n",
    "# Tabla de frecuencias\n",
    "frecuencias = df4['Nombre_Municipio_IPS'].value_counts().reset_index()\n",
    "frecuencias.columns = ['Nombre_Municipio_IPS', 'Frecuencia']\n",
    "\n",
    "# Definir el número umbral\n",
    "NUMERO = NUMERO\n",
    "\n",
    "# Filtrar municipios con frecuencia menor al umbral\n",
    "frecuencias_umbral = frecuencias[frecuencias['Frecuencia'] < NUMERO]\n",
    "\n",
    "# Cantidad de municipios que cumplen la condición\n",
    "cantidad = frecuencias_umbral.shape[0]\n",
    "\n",
    "# Total de municipios únicos\n",
    "total_municipios = frecuencias.shape[0]\n",
    "\n",
    "# Porcentaje de municipios\n",
    "porcentaje_municipios = (cantidad / total_municipios) * 100\n",
    "\n",
    "# Sumar las frecuencias de esos municipios\n",
    "suma_frecuencias = frecuencias_umbral['Frecuencia'].sum()\n",
    "\n",
    "# Total de registros en el DataFrame original\n",
    "total_datos_df = df4.shape[0]\n",
    "\n",
    "# Porcentaje respecto al total de registros\n",
    "porcentaje_datos = (suma_frecuencias / total_datos_df) * 100\n",
    "\n",
    "# Mostrar resultados\n",
    "print(f\"Municipios con frecuencia < {NUMERO}: {cantidad} de {total_municipios} ({porcentaje_municipios:.2f}%)\")\n",
    "print(f\"Total de registros en esos municipios: {suma_frecuencias} de {total_datos_df} registros totales ({porcentaje_datos:.2f}%)\")"
   ]
  },
  {
   "cell_type": "code",
   "execution_count": null,
   "id": "00163313",
   "metadata": {},
   "outputs": [
    {
     "name": "stdout",
     "output_type": "stream",
     "text": [
      "Municipios con frecuencia > 1000: 161 de 391 (41.18%)\n",
      "Total de registros en esos municipios: 9913146 de 9984660 registros totales (99.28%)\n"
     ]
    }
   ],
   "source": [
    "import pandas as pd\n",
    "\n",
    "# Tabla de frecuencias\n",
    "frecuencias = df4['Nombre_Municipio_IPS'].value_counts().reset_index()\n",
    "frecuencias.columns = ['Nombre_Municipio_IPS', 'Frecuencia']\n",
    "\n",
    "# Definir el número umbral\n",
    "NUMERO = NUMERO\n",
    "\n",
    "# Filtrar municipios con frecuencia mayor al umbral\n",
    "frecuencias_umbral = frecuencias[frecuencias['Frecuencia'] > NUMERO]\n",
    "\n",
    "# Cantidad de municipios que cumplen la condición\n",
    "cantidad = frecuencias_umbral.shape[0]\n",
    "\n",
    "# Total de municipios únicos\n",
    "total_municipios = frecuencias.shape[0]\n",
    "\n",
    "# Porcentaje de municipios\n",
    "porcentaje_municipios = (cantidad / total_municipios) * 100\n",
    "\n",
    "# Sumar las frecuencias de esos municipios\n",
    "suma_frecuencias = frecuencias_umbral['Frecuencia'].sum()\n",
    "\n",
    "# Total de registros en el DataFrame original\n",
    "total_datos_df = df4.shape[0]\n",
    "\n",
    "# Porcentaje respecto al total de registros\n",
    "porcentaje_datos = (suma_frecuencias / total_datos_df) * 100\n",
    "\n",
    "# Mostrar resultados\n",
    "print(f\"Municipios con frecuencia > {NUMERO}: {cantidad} de {total_municipios} ({porcentaje_municipios:.2f}%)\")\n",
    "print(f\"Total de registros en esos municipios: {suma_frecuencias} de {total_datos_df} registros totales ({porcentaje_datos:.2f}%)\")"
   ]
  },
  {
   "cell_type": "code",
   "execution_count": null,
   "id": "327eefce",
   "metadata": {},
   "outputs": [],
   "source": [
    "# Crear una copia de df4 para no modificar el original\n",
    "df5 = df4.copy()"
   ]
  },
  {
   "cell_type": "code",
   "execution_count": null,
   "id": "2265109e",
   "metadata": {},
   "outputs": [],
   "source": [
    "# Calcular las frecuencias de cada municipio\n",
    "frecuencias = df5['Nombre_Municipio_IPS'].value_counts()\n",
    "\n",
    "# Crear la nueva variable con lógica de reemplazo condicional\n",
    "df5['Nombre_Municipio_IPS2'] = df5.apply(\n",
    "    lambda row: row['Nombre_Oficina_Arp'] if frecuencias[row['Nombre_Municipio_IPS']] < NUMERO else row['Nombre_Municipio_IPS'],\n",
    "    axis=1\n",
    ")"
   ]
  },
  {
   "cell_type": "code",
   "execution_count": null,
   "id": "4b2882f1",
   "metadata": {},
   "outputs": [
    {
     "name": "stdout",
     "output_type": "stream",
     "text": [
      "Número de filas: 9984660\n",
      "Número de columnas: 26\n"
     ]
    }
   ],
   "source": [
    "filas, columnas = df5.shape\n",
    "print(f\"Número de filas: {filas}\")\n",
    "print(f\"Número de columnas: {columnas}\")"
   ]
  },
  {
   "cell_type": "code",
   "execution_count": null,
   "id": "f3b16b1e",
   "metadata": {},
   "outputs": [
    {
     "name": "stdout",
     "output_type": "stream",
     "text": [
      "Nombre_Oficina_Arp\n",
      "Numero_Uen_Arp\n",
      "Siniestro_Arp_Id\n",
      "Nombre_Sinies_Diagnosti_Princi\n",
      "Siniestro_Diagnosti_Princi_Id\n",
      "Nombre_Tipo_Atencion_Arp\n",
      "DNI_IPS\n",
      "Nombre_IPS\n",
      "Nombre_Municipio_IPS\n",
      "Nombre_Departamento_IPS\n",
      "NOMBRE_SUCURSAL\n",
      "NOMBRE_MUNICIPIO_SUCURSAL\n",
      "NOMBRE_DEPARTAMENTO_SUCURSAL\n",
      "Nombre_Municipio_Establecimiento\n",
      "FECHA_ATENCION\n",
      "Tipo_Llamada_Arp_Desc\n",
      "TIPIFICACION\n",
      "Cantidad\n",
      "MUNICIPIO\n",
      "HOMOLOGACION NIT\n",
      "Year\n",
      "Month\n",
      "Day\n",
      "Hour\n",
      "Date\n",
      "Nombre_Municipio_IPS2\n"
     ]
    }
   ],
   "source": [
    "for col in df5.columns:\n",
    "    print(col)\n"
   ]
  },
  {
   "cell_type": "code",
   "execution_count": null,
   "id": "f4b0c0e3",
   "metadata": {},
   "outputs": [
    {
     "name": "stdout",
     "output_type": "stream",
     "text": [
      "            Municipio  Frecuencia\n",
      "0            MEDELLIN     6415140\n",
      "1              BOGOTA      861041\n",
      "2    SANTIAGO DE CALI      442358\n",
      "3         BUCARAMANGA      244644\n",
      "4        BARRANQUILLA      233607\n",
      "..                ...         ...\n",
      "158             TURBO        1032\n",
      "159             GIRON        1029\n",
      "160           SEVILLA        1026\n",
      "161              TIBU        1005\n",
      "162          TITIRIBI        1000\n",
      "\n",
      "[163 rows x 2 columns]\n"
     ]
    }
   ],
   "source": [
    "import pandas as pd\n",
    "\n",
    "# Tabla de frecuencias\n",
    "frecuencias = df5['Nombre_Municipio_IPS2'].value_counts().reset_index()\n",
    "frecuencias.columns = ['Municipio', 'Frecuencia']\n",
    "\n",
    "# Mostrar la tabla\n",
    "print(frecuencias)\n"
   ]
  },
  {
   "cell_type": "code",
   "execution_count": null,
   "id": "52c30814",
   "metadata": {},
   "outputs": [],
   "source": [
    "import pandas as pd\n",
    "\n",
    "# Tabla de frecuencias\n",
    "frecuencias = df5['Nombre_Municipio_IPS2'].value_counts().reset_index()\n",
    "frecuencias.columns = ['Nombre_Municipio_IPS2', 'Frecuencia']\n",
    "\n",
    "NUMERO2 =1500\n",
    "\n",
    "# Filtrar municipios con frecuencia MENOR que el NUMERO\n",
    "frecuencias_menor = frecuencias[frecuencias['Frecuencia'] < NUMERO2]\n",
    "frecuencias_mayor = frecuencias[frecuencias['Frecuencia'] > NUMERO2]\n"
   ]
  },
  {
   "cell_type": "code",
   "execution_count": null,
   "id": "6f8670a8",
   "metadata": {},
   "outputs": [
    {
     "name": "stdout",
     "output_type": "stream",
     "text": [
      "       Nombre_Municipio_IPS2  Frecuencia\n",
      "126               ROLDANILLO        1472\n",
      "127      SANTA ROSA DE CABAL        1455\n",
      "128                   SUESCA        1433\n",
      "129                   SIBATE        1412\n",
      "130             EL SANTUARIO        1409\n",
      "131                   JERICO        1394\n",
      "132              PROVIDENCIA        1385\n",
      "133                 SESQUILE        1376\n",
      "134                    OCAÑA        1371\n",
      "135              LA ESTRELLA        1293\n",
      "136                FLORENCIA        1285\n",
      "137                 PAMPLONA        1283\n",
      "138                 SARAVENA        1237\n",
      "139               SAN RAFAEL        1220\n",
      "140                  DABEIBA        1214\n",
      "141                CHINCHINA        1211\n",
      "142  SAN FRANCISCO DE QUIBDO        1205\n",
      "143                 EL COPEY        1202\n",
      "144                SAN ROQUE        1200\n",
      "145                 LA PLATA        1179\n",
      "146                    HONDA        1174\n",
      "147                 FREDONIA        1169\n",
      "148                  NEMOCON        1159\n",
      "149               LA PINTADA        1151\n",
      "150                CHIGORODO        1131\n",
      "151                   TUMACO        1130\n",
      "152                   LERIDA        1110\n",
      "153                   LIBANO        1102\n",
      "154               ENTRERRIOS        1091\n",
      "155                   FRESNO        1086\n",
      "156                   CAREPA        1080\n",
      "157            SANTA BARBARA        1068\n",
      "158                    TURBO        1032\n",
      "159                    GIRON        1029\n",
      "160                  SEVILLA        1026\n",
      "161                     TIBU        1005\n",
      "162                 TITIRIBI        1000\n"
     ]
    }
   ],
   "source": [
    "# Mostrar la tabla filtrada\n",
    "print(frecuencias_menor)"
   ]
  },
  {
   "cell_type": "code",
   "execution_count": null,
   "id": "5de8943d",
   "metadata": {},
   "outputs": [
    {
     "name": "stdout",
     "output_type": "stream",
     "text": [
      "    Nombre_Municipio_IPS2  Frecuencia\n",
      "0                MEDELLIN     6415140\n",
      "1                  BOGOTA      861041\n",
      "2        SANTIAGO DE CALI      442358\n",
      "3             BUCARAMANGA      244644\n",
      "4            BARRANQUILLA      233607\n",
      "..                    ...         ...\n",
      "121            COPACABANA        1645\n",
      "122            DON MATIAS        1609\n",
      "123                SONSON        1584\n",
      "124              RIOSUCIO        1583\n",
      "125                GARZON        1510\n",
      "\n",
      "[126 rows x 2 columns]\n"
     ]
    }
   ],
   "source": [
    "# Mostrar la tabla filtrada\n",
    "print(frecuencias_mayor)"
   ]
  },
  {
   "cell_type": "markdown",
   "id": "68ad6a27",
   "metadata": {},
   "source": [
    "<a id=\"5\"></a>\n",
    "### <p style=\"padding:10px;background-color:grey ;margin:0;color:white;font-family:newtimeroman;font-size:100%;text-align:center;border-radius: 15px 50px;overflow:hidden;font-weight:500\">4. Distribución por Tipo de atención 📋 </p>  "
   ]
  },
  {
   "cell_type": "markdown",
   "id": "f21e32da",
   "metadata": {},
   "source": [
    "Una de las variables clave para el análisis es el tipo de atención brindada. Al examinar la frecuencia de la variable `Nombre_Tipo_Atencion_Arp` (Tipo de atención médica brindada dentro de la cobertura del siniestro). "
   ]
  },
  {
   "cell_type": "markdown",
   "id": "2a903635",
   "metadata": {},
   "source": []
  },
  {
   "cell_type": "code",
   "execution_count": null,
   "id": "d669a7f8",
   "metadata": {},
   "outputs": [],
   "source": [
    "# Crear una copia para no modificar el original\n",
    "df8 = df5.copy()"
   ]
  },
  {
   "cell_type": "markdown",
   "id": "6e7a8dca",
   "metadata": {},
   "source": [
    "### (a) Revisar `NaNs`  "
   ]
  },
  {
   "cell_type": "code",
   "execution_count": null,
   "id": "009f9895",
   "metadata": {},
   "outputs": [
    {
     "data": {
      "text/plain": [
       "0"
      ]
     },
     "execution_count": 49,
     "metadata": {},
     "output_type": "execute_result"
    }
   ],
   "source": [
    "df8['Nombre_Tipo_Atencion_Arp'].isna().sum()"
   ]
  },
  {
   "cell_type": "markdown",
   "id": "28ec1d5e",
   "metadata": {},
   "source": [
    "### (b) Revisar datos con `?`"
   ]
  },
  {
   "cell_type": "code",
   "execution_count": null,
   "id": "e0ea2c82",
   "metadata": {},
   "outputs": [
    {
     "name": "stdout",
     "output_type": "stream",
     "text": [
      "\n",
      "❗ No hay registros con el valor '?' en la variable.\n",
      "\n",
      "▶ Tabla completa de frecuencias:\n",
      "        Nombre_Tipo_Atencion_Arp  Frecuencia\n",
      "0                    AMBULATORIA     5387200\n",
      "1         QUIRURGICO AMBULATORIO     2163004\n",
      "2        QUIRURGICO HOSPITALARIO     1406106\n",
      "3                 ALTA INMEDIATA      438128\n",
      "4  UNIDAD DE CUIDADOS INTENSIVOS      351778\n",
      "5                   HOSPITALARIA      204657\n",
      "6                    ODONTOLOGIA       33787\n"
     ]
    }
   ],
   "source": [
    "import pandas as pd\n",
    "\n",
    "# Tabla de frecuencias incluyendo todos los valores\n",
    "frecuencias = df8['Nombre_Tipo_Atencion_Arp'].value_counts(dropna=False).reset_index()\n",
    "frecuencias.columns = ['Nombre_Tipo_Atencion_Arp', 'Frecuencia']\n",
    "\n",
    "# Mostrar la frecuencia del signo de interrogación si existe\n",
    "if '?' in frecuencias['Nombre_Tipo_Atencion_Arp'].values:\n",
    "    freq_interrogacion = frecuencias[frecuencias['Nombre_Tipo_Atencion_Arp'] == '?']\n",
    "    print(\"\\n▶ Frecuencia del signo de interrogación ('?'):\")\n",
    "    print(freq_interrogacion)\n",
    "else:\n",
    "    print(\"\\n❗ No hay registros con el valor '?' en la variable.\")\n",
    "\n",
    "# Mostrar toda la tabla de frecuencias\n",
    "print(\"\\n▶ Tabla completa de frecuencias:\")\n",
    "print(frecuencias)\n"
   ]
  },
  {
   "cell_type": "markdown",
   "id": "399cfa3d",
   "metadata": {},
   "source": [
    "### (C) Tabla de frecuencias"
   ]
  },
  {
   "cell_type": "markdown",
   "id": "7cadc393",
   "metadata": {},
   "source": [
    "Para conocer la distribución de los tipos de atención registrados, se construyó una tabla de frecuencias que muestra cuántas veces aparece cada categoría en la base de datos. Esta información es clave para entender qué modalidades concentran la mayor demanda de servicios."
   ]
  },
  {
   "cell_type": "code",
   "execution_count": null,
   "id": "359df753",
   "metadata": {},
   "outputs": [
    {
     "name": "stdout",
     "output_type": "stream",
     "text": [
      "                Tipo de Atención  Frecuencia\n",
      "0                    AMBULATORIA     5387200\n",
      "1         QUIRURGICO AMBULATORIO     2163004\n",
      "2        QUIRURGICO HOSPITALARIO     1406106\n",
      "3                 ALTA INMEDIATA      438128\n",
      "4  UNIDAD DE CUIDADOS INTENSIVOS      351778\n",
      "5                   HOSPITALARIA      204657\n",
      "6                    ODONTOLOGIA       33787\n"
     ]
    }
   ],
   "source": [
    "import pandas as pd\n",
    "\n",
    "# Tabla de frecuencias\n",
    "frecuencias = df8['Nombre_Tipo_Atencion_Arp'].value_counts().reset_index()\n",
    "frecuencias.columns = ['Tipo de Atención', 'Frecuencia']\n",
    "\n",
    "# Mostrar la tabla\n",
    "print(frecuencias)\n"
   ]
  },
  {
   "cell_type": "markdown",
   "id": "1e0eba75",
   "metadata": {},
   "source": [
    "Podemos revisar si `Nombre_Tipo_Atencion_Arp` aparece en los valores únicos con el siguiente código:"
   ]
  },
  {
   "cell_type": "code",
   "execution_count": null,
   "id": "b1cec96a",
   "metadata": {},
   "outputs": [
    {
     "data": {
      "text/plain": [
       "array(['AMBULATORIA', 'QUIRURGICO AMBULATORIO', 'QUIRURGICO HOSPITALARIO',\n",
       "       'UNIDAD DE CUIDADOS INTENSIVOS', 'HOSPITALARIA', 'ALTA INMEDIATA',\n",
       "       'ODONTOLOGIA'], dtype=object)"
      ]
     },
     "execution_count": 52,
     "metadata": {},
     "output_type": "execute_result"
    }
   ],
   "source": [
    "df8['Nombre_Tipo_Atencion_Arp'].unique()"
   ]
  },
  {
   "cell_type": "markdown",
   "id": "09ae6cbd",
   "metadata": {},
   "source": [
    "La categoría 'Nombre_Tipo_Atencion_Arp' no debería estar como un nivel de la variable. Eso indica que en algún momento se coló una fila del encabezado como si fuera un dato. Además, también hay un `NaN`, lo cual sugiere que hay registros vacíos en esa columna. Lo ideal es limpiar esos valores incorrectos antes de generar las tablas o gráficos. Este código asegurará que solo aparezcan las categorías válidas, eliminando tanto los `NaN` como el valor incorrecto que parece haberse filtrado desde el encabezado."
   ]
  },
  {
   "cell_type": "code",
   "execution_count": null,
   "id": "b4feedcf",
   "metadata": {},
   "outputs": [],
   "source": [
    "# Eliminar filas con valores incorrectos o vacíos en 'Nombre_Tipo_Atencion_Arp'\n",
    "df9 = df8[\n",
    "    (df8['Nombre_Tipo_Atencion_Arp'].notna()) &\n",
    "    (df8['Nombre_Tipo_Atencion_Arp'] != 'Nombre_Tipo_Atencion_Arp')\n",
    "]"
   ]
  },
  {
   "cell_type": "markdown",
   "id": "36b90181",
   "metadata": {},
   "source": [
    "Luego, podemos volver a correr la tabla de frecuencias:"
   ]
  },
  {
   "cell_type": "code",
   "execution_count": null,
   "id": "dde321c3",
   "metadata": {},
   "outputs": [
    {
     "name": "stdout",
     "output_type": "stream",
     "text": [
      "                Tipo de Atención  Frecuencia  Proporción (%)\n",
      "0                    AMBULATORIA     5387200           53.95\n",
      "1         QUIRURGICO AMBULATORIO     2163004           21.66\n",
      "2        QUIRURGICO HOSPITALARIO     1406106           14.08\n",
      "3                 ALTA INMEDIATA      438128            4.39\n",
      "4  UNIDAD DE CUIDADOS INTENSIVOS      351778            3.52\n",
      "5                   HOSPITALARIA      204657            2.05\n",
      "6                    ODONTOLOGIA       33787            0.34\n"
     ]
    }
   ],
   "source": [
    "# Tabla de frecuencias con proporciones\n",
    "frecuencias = df9['Nombre_Tipo_Atencion_Arp'].value_counts(normalize=False).reset_index()\n",
    "frecuencias.columns = ['Tipo de Atención', 'Frecuencia']\n",
    "\n",
    "# Calcular proporción\n",
    "frecuencias['Proporción (%)'] = (frecuencias['Frecuencia'] / frecuencias['Frecuencia'].sum()) * 100\n",
    "frecuencias['Proporción (%)'] = frecuencias['Proporción (%)'].round(2)\n",
    "\n",
    "# Mostrar la tabla\n",
    "print(frecuencias)\n"
   ]
  },
  {
   "cell_type": "markdown",
   "id": "67fcdbb8",
   "metadata": {},
   "source": [
    "### 2. Gráfico de barras de frecuencias"
   ]
  },
  {
   "cell_type": "markdown",
   "id": "7f682b8c",
   "metadata": {},
   "source": [
    "El siguiente gráfico de barras representa visualmente la cantidad de atenciones por tipo. Permite identificar de forma clara qué modalidades son más frecuentes, facilitando la priorización de análisis posteriores."
   ]
  },
  {
   "cell_type": "code",
   "execution_count": null,
   "id": "1c6da8a9",
   "metadata": {},
   "outputs": [
    {
     "data": {
      "image/png": "[encoded data removed]",
      "text/plain": [
       "<Figure size 1000x600 with 1 Axes>"
      ]
     },
     "metadata": {},
     "output_type": "display_data"
    }
   ],
   "source": [
    "import matplotlib.pyplot as plt\n",
    "\n",
    "# Gráfico de barras\n",
    "plt.figure(figsize=(10, 6))\n",
    "plt.bar(frecuencias['Tipo de Atención'], frecuencias['Frecuencia'], color='skyblue')\n",
    "plt.title('Distribución de Tipos de Atención (Barras)')\n",
    "plt.xlabel('Tipo de Atención')\n",
    "plt.ylabel('Frecuencia')\n",
    "plt.xticks(rotation=45)\n",
    "plt.tight_layout()\n",
    "plt.show()\n"
   ]
  },
  {
   "cell_type": "markdown",
   "id": "e69913bd",
   "metadata": {},
   "source": [
    "### 3. Gráfico circular (pastel) de proporciones"
   ]
  },
  {
   "cell_type": "markdown",
   "id": "b8f3babf",
   "metadata": {},
   "source": [
    "El gráfico de pastel complementa el análisis al mostrar la proporción de cada tipo de atención sobre el total de registros. Es útil para tener una visión rápida del peso relativo de cada categoría."
   ]
  },
  {
   "cell_type": "code",
   "execution_count": null,
   "id": "46116c5f",
   "metadata": {},
   "outputs": [
    {
     "data": {
      "image/png": "[encoded data removed]",
      "text/plain": [
       "<Figure size 700x700 with 1 Axes>"
      ]
     },
     "metadata": {},
     "output_type": "display_data"
    }
   ],
   "source": [
    "# Gráfico de pastel\n",
    "plt.figure(figsize=(7, 7))\n",
    "plt.pie(\n",
    "    frecuencias['Frecuencia'],\n",
    "    labels=frecuencias['Tipo de Atención'],\n",
    "    autopct='%1.1f%%',\n",
    "    colors=plt.cm.Paired.colors\n",
    ")\n",
    "plt.title('Distribución de Tipos de Atención (Pastel)')\n",
    "plt.tight_layout()\n",
    "plt.show()\n"
   ]
  },
  {
   "cell_type": "markdown",
   "id": "8240276a",
   "metadata": {},
   "source": [
    "<a id=\"5\"></a>\n",
    "### <p style=\"padding:10px;background-color:grey ;margin:0;color:white;font-family:newtimeroman;font-size:100%;text-align:center;border-radius: 15px 50px;overflow:hidden;font-weight:500\">5. Cantidad 📋 </p>  "
   ]
  },
  {
   "cell_type": "markdown",
   "id": "44a6b24f",
   "metadata": {},
   "source": [
    "Esta variable representa la Cantidad de atenciones médicas registradas."
   ]
  },
  {
   "cell_type": "code",
   "execution_count": null,
   "id": "ac491306",
   "metadata": {},
   "outputs": [],
   "source": [
    "# Crear una copia para no modificar el original\n",
    "df9 = df8.copy()"
   ]
  },
  {
   "cell_type": "markdown",
   "id": "81917418",
   "metadata": {},
   "source": [
    "### (a) Revisar `NaNs`  "
   ]
  },
  {
   "cell_type": "code",
   "execution_count": null,
   "id": "813575b0",
   "metadata": {},
   "outputs": [
    {
     "data": {
      "text/plain": [
       "0"
      ]
     },
     "execution_count": 75,
     "metadata": {},
     "output_type": "execute_result"
    }
   ],
   "source": [
    "df9['Cantidad'].isna().sum()"
   ]
  },
  {
   "cell_type": "code",
   "execution_count": null,
   "id": "4402f485",
   "metadata": {},
   "outputs": [
    {
     "name": "stdout",
     "output_type": "stream",
     "text": [
      "Número de filas: 9984660\n",
      "Número de columnas: 26\n"
     ]
    }
   ],
   "source": [
    "filas, columnas = df9.shape\n",
    "print(f\"Número de filas: {filas}\")\n",
    "print(f\"Número de columnas: {columnas}\")"
   ]
  },
  {
   "cell_type": "markdown",
   "id": "22e90330",
   "metadata": {},
   "source": [
    "### (b) Revisar datos con `?`"
   ]
  },
  {
   "cell_type": "code",
   "execution_count": null,
   "id": "ea0eb35e",
   "metadata": {},
   "outputs": [
    {
     "name": "stdout",
     "output_type": "stream",
     "text": [
      "\n",
      "❗ No hay registros con el valor '?' en la variable.\n",
      "\n",
      "▶ Tabla completa de frecuencias:\n",
      "    Cantidad  Frecuencia\n",
      "0        1.0     8793958\n",
      "1        2.0      874407\n",
      "2       10.0      222271\n",
      "3        5.0       43670\n",
      "4       20.0        9722\n",
      "..       ...         ...\n",
      "58      85.0           1\n",
      "59      34.0           1\n",
      "60      42.0           1\n",
      "61      49.0           1\n",
      "62      89.0           1\n",
      "\n",
      "[63 rows x 2 columns]\n"
     ]
    }
   ],
   "source": [
    "import pandas as pd\n",
    "\n",
    "# Tabla de frecuencias incluyendo todos los valores\n",
    "frecuencias = df9['Cantidad'].value_counts(dropna=False).reset_index()\n",
    "frecuencias.columns = ['Cantidad', 'Frecuencia']\n",
    "\n",
    "# Mostrar la frecuencia del signo de interrogación si existe\n",
    "if '?' in frecuencias['Cantidad'].values:\n",
    "    freq_interrogacion = frecuencias[frecuencias['Cantidad'] == '?']\n",
    "    print(\"\\n▶ Frecuencia del signo de interrogación ('?'):\")\n",
    "    print(freq_interrogacion)\n",
    "else:\n",
    "    print(\"\\n❗ No hay registros con el valor '?' en la variable.\")\n",
    "\n",
    "# Mostrar toda la tabla de frecuencias\n",
    "print(\"\\n▶ Tabla completa de frecuencias:\")\n",
    "\n",
    "print(frecuencias)"
   ]
  },
  {
   "cell_type": "code",
   "execution_count": null,
   "id": "3883a575",
   "metadata": {},
   "outputs": [],
   "source": [
    "import pandas as pd\n",
    "\n",
    "# Tabla de frecuencias\n",
    "frecuencias = df9['Cantidad'].value_counts().reset_index()\n",
    "frecuencias.columns = ['Cantidad', 'Frecuencia']\n",
    "\n",
    "NUMERO =100\n",
    "\n",
    "# Filtrar municipios con frecuencia MENOR que el NUMERO\n",
    "frecuencias_menor = frecuencias[frecuencias['Frecuencia'] < NUMERO]\n",
    "frecuencias_mayor = frecuencias[frecuencias['Frecuencia'] > NUMERO]\n",
    "\n"
   ]
  },
  {
   "cell_type": "code",
   "execution_count": null,
   "id": "f61e4548",
   "metadata": {},
   "outputs": [
    {
     "name": "stdout",
     "output_type": "stream",
     "text": [
      "    Cantidad  Frecuencia\n",
      "21      60.0          87\n",
      "22      18.0          67\n",
      "23      21.0          48\n",
      "24      19.0          31\n",
      "25      13.0          31\n",
      "26      48.0          22\n",
      "27      45.0          21\n",
      "28      32.0          21\n",
      "29      90.0          18\n",
      "30      50.0          14\n",
      "31      26.0          10\n",
      "32      80.0           9\n",
      "33      22.0           7\n",
      "34      72.0           6\n",
      "35      31.0           6\n",
      "36      41.0           5\n",
      "37      35.0           5\n",
      "38      17.0           5\n",
      "39      56.0           5\n",
      "40      70.0           5\n",
      "41      28.0           4\n",
      "42      23.0           4\n",
      "43      52.0           4\n",
      "44      54.0           3\n",
      "45      38.0           3\n",
      "46      75.0           2\n",
      "47      29.0           2\n",
      "48      51.0           2\n",
      "49      55.0           2\n",
      "50      68.0           1\n",
      "51      66.0           1\n",
      "52      44.0           1\n",
      "53      83.0           1\n",
      "54      87.0           1\n",
      "55      39.0           1\n",
      "56      58.0           1\n",
      "57      96.0           1\n",
      "58      85.0           1\n",
      "59      34.0           1\n",
      "60      42.0           1\n",
      "61      49.0           1\n",
      "62      89.0           1\n"
     ]
    }
   ],
   "source": [
    "# Mostrar la tabla filtrada\n",
    "print(frecuencias_menor)"
   ]
  },
  {
   "cell_type": "code",
   "execution_count": null,
   "id": "dbd4ebb0",
   "metadata": {},
   "outputs": [
    {
     "name": "stdout",
     "output_type": "stream",
     "text": [
      "    Cantidad  Frecuencia\n",
      "0        1.0     8793958\n",
      "1        2.0      874407\n",
      "2       10.0      222271\n",
      "3        5.0       43670\n",
      "4       20.0        9722\n",
      "5        8.0        8785\n",
      "6       15.0        7266\n",
      "7        6.0        7037\n",
      "8        7.0        6423\n",
      "9        4.0        3414\n",
      "10       3.0        2424\n",
      "11      30.0        1337\n",
      "12      12.0        1129\n",
      "13       9.0        1125\n",
      "14      40.0         301\n",
      "15      11.0         231\n",
      "16      24.0         195\n",
      "17      14.0         139\n",
      "18      36.0         134\n",
      "19      25.0         122\n",
      "20      16.0         108\n"
     ]
    }
   ],
   "source": [
    "# Mostrar la tabla filtrada\n",
    "print(frecuencias_mayor)"
   ]
  },
  {
   "cell_type": "code",
   "execution_count": null,
   "id": "b5a1d05a",
   "metadata": {},
   "outputs": [
    {
     "name": "stdout",
     "output_type": "stream",
     "text": [
      "Observaciones con frecuencia < 100: 42 de 63 (66.67%)\n",
      "Total de registros: 462 de 9984660 registros totales (0.00%)\n"
     ]
    }
   ],
   "source": [
    "import pandas as pd\n",
    "\n",
    "# Tabla de frecuencias\n",
    "frecuencias = df9['Cantidad'].value_counts().reset_index()\n",
    "frecuencias.columns = ['Cantidad', 'Frecuencia']\n",
    "\n",
    "# Definir el número umbral\n",
    "NUMERO = NUMERO\n",
    "\n",
    "# Filtrar municipios con frecuencia menor al umbral\n",
    "frecuencias_umbral = frecuencias[frecuencias['Frecuencia'] < NUMERO]\n",
    "\n",
    "# Cantidad de municipios que cumplen la condición\n",
    "cantidad = frecuencias_umbral.shape[0]\n",
    "\n",
    "# Total de municipios únicos\n",
    "total_municipios = frecuencias.shape[0]\n",
    "\n",
    "# Porcentaje de municipios\n",
    "porcentaje_municipios = (cantidad / total_municipios) * 100\n",
    "\n",
    "# Sumar las frecuencias de esos municipios\n",
    "suma_frecuencias = frecuencias_umbral['Frecuencia'].sum()\n",
    "\n",
    "# Total de registros en el DataFrame original\n",
    "total_datos_df = df4.shape[0]\n",
    "\n",
    "# Porcentaje respecto al total de registros\n",
    "porcentaje_datos = (suma_frecuencias / total_datos_df) * 100\n",
    "\n",
    "# Mostrar resultados\n",
    "print(f\"Observaciones con frecuencia < {NUMERO}: {cantidad} de {total_municipios} ({porcentaje_municipios:.2f}%)\")\n",
    "print(f\"Total de registros: {suma_frecuencias} de {total_datos_df} registros totales ({porcentaje_datos:.2f}%)\")\n"
   ]
  },
  {
   "cell_type": "code",
   "execution_count": null,
   "id": "5293b492",
   "metadata": {},
   "outputs": [
    {
     "name": "stdout",
     "output_type": "stream",
     "text": [
      "Observaciones con frecuencia > 100: 21 de 63 (33.33%)\n",
      "Total de registros: 9984198 de 9984660 registros totales (100.00%)\n"
     ]
    }
   ],
   "source": [
    "import pandas as pd\n",
    "\n",
    "# Tabla de frecuencias\n",
    "frecuencias = df4['Cantidad'].value_counts().reset_index()\n",
    "frecuencias.columns = ['Cantidad', 'Frecuencia']\n",
    "\n",
    "# Definir el número umbral\n",
    "NUMERO = NUMERO\n",
    "\n",
    "# Filtrar municipios con frecuencia mayor al umbral\n",
    "frecuencias_umbral = frecuencias[frecuencias['Frecuencia'] > NUMERO]\n",
    "\n",
    "# Cantidad de municipios que cumplen la condición\n",
    "cantidad = frecuencias_umbral.shape[0]\n",
    "\n",
    "# Total de municipios únicos\n",
    "total_municipios = frecuencias.shape[0]\n",
    "\n",
    "# Porcentaje de municipios\n",
    "porcentaje_municipios = (cantidad / total_municipios) * 100\n",
    "\n",
    "# Sumar las frecuencias de esos municipios\n",
    "suma_frecuencias = frecuencias_umbral['Frecuencia'].sum()\n",
    "\n",
    "# Total de registros en el DataFrame original\n",
    "total_datos_df = df4.shape[0]\n",
    "\n",
    "# Porcentaje respecto al total de registros\n",
    "porcentaje_datos = (suma_frecuencias / total_datos_df) * 100\n",
    "\n",
    "# Mostrar resultados\n",
    "print(f\"Observaciones con frecuencia > {NUMERO}: {cantidad} de {total_municipios} ({porcentaje_municipios:.2f}%)\")\n",
    "print(f\"Total de registros: {suma_frecuencias} de {total_datos_df} registros totales ({porcentaje_datos:.2f}%)\")\n"
   ]
  },
  {
   "cell_type": "markdown",
   "id": "17f024f8",
   "metadata": {},
   "source": [
    "<a id=\"5\"></a>\n",
    "### <p style=\"padding:10px;background-color:grey ;margin:0;color:white;font-family:newtimeroman;font-size:100%;text-align:center;border-radius: 15px 50px;overflow:hidden;font-weight:500\">6. Diagnósticos y tipificación de eventos  📋 </p>  "
   ]
  },
  {
   "cell_type": "code",
   "execution_count": null,
   "id": "fad52543",
   "metadata": {},
   "outputs": [],
   "source": [
    "# Crear una copia para no modificar el original\n",
    "df10 = df9.copy()"
   ]
  },
  {
   "cell_type": "markdown",
   "id": "e404e49e",
   "metadata": {},
   "source": [
    "La variable `Nombre_Sinies_Diagnosti_Princi` (Diagnóstico principal relacionado con el siniestro) permite caracterizar clínicamente los eventos, identificando los diagnósticos más frecuentes reportados. A su vez, `TIPIFICACION` (Clasificación de la atención médica según el tipo de siniestro) y `Tipo_Llamada_Arp_Desc` (Descripción del tipo de llamada o gestión realizada en la ARP) ofrecen una primera clasificación de los casos según su naturaleza o gravedad. Esta información será fundamental para los modelos predictivos orientados a entender qué tipo de eventos ocurren con mayor regularidad y en qué contexto."
   ]
  },
  {
   "cell_type": "code",
   "execution_count": null,
   "id": "d985d3a5",
   "metadata": {},
   "outputs": [
    {
     "name": "stdout",
     "output_type": "stream",
     "text": [
      "            Tipo de LLamada  Frecuencia\n",
      "0               CONTROL IPS     5784768\n",
      "1     CONTROL PROCEDIMIENTO     2618019\n",
      "2          CONTROL FARMACIA      644081\n",
      "3                         ?      486485\n",
      "4          ATENCIÓN INICIAL      377306\n",
      "5                TRANSPORTE       38411\n",
      "6  CONTROL ORTESIS-PROTESIS       34708\n",
      "7            CONTROL MEDICO         882\n"
     ]
    }
   ],
   "source": [
    "import pandas as pd\n",
    "\n",
    "# Tabla de frecuencias\n",
    "frecuencias = df10['Tipo_Llamada_Arp_Desc'].value_counts().reset_index()\n",
    "frecuencias.columns = ['Tipo de LLamada', 'Frecuencia']\n",
    "\n",
    "# Mostrar la tabla\n",
    "print(frecuencias)"
   ]
  },
  {
   "cell_type": "markdown",
   "id": "6aac4afc",
   "metadata": {},
   "source": [
    "Para reemplazar el valor `?` por `No info` en la columna `Tipo_Llamada_Arp_Desc` del DataFrame `df10`, puedes usar el siguiente código:"
   ]
  },
  {
   "cell_type": "code",
   "execution_count": null,
   "id": "62a01a1e",
   "metadata": {},
   "outputs": [],
   "source": [
    "# Reemplazar el valor '?' por 'No info'\n",
    "df10['Tipo_Llamada_Arp_Desc'] = df10['Tipo_Llamada_Arp_Desc'].replace('?', 'No info')"
   ]
  },
  {
   "cell_type": "code",
   "execution_count": null,
   "id": "8f653a4e",
   "metadata": {},
   "outputs": [
    {
     "name": "stdout",
     "output_type": "stream",
     "text": [
      "            Tipo de LLamada  Frecuencia\n",
      "0               CONTROL IPS     5784768\n",
      "1     CONTROL PROCEDIMIENTO     2618019\n",
      "2          CONTROL FARMACIA      644081\n",
      "3                   No info      486485\n",
      "4          ATENCIÓN INICIAL      377306\n",
      "5                TRANSPORTE       38411\n",
      "6  CONTROL ORTESIS-PROTESIS       34708\n",
      "7            CONTROL MEDICO         882\n"
     ]
    }
   ],
   "source": [
    "import pandas as pd\n",
    "\n",
    "# Tabla de frecuencias\n",
    "frecuencias = df10['Tipo_Llamada_Arp_Desc'].value_counts().reset_index()\n",
    "frecuencias.columns = ['Tipo de LLamada', 'Frecuencia']\n",
    "\n",
    "# Mostrar la tabla\n",
    "print(frecuencias)"
   ]
  },
  {
   "cell_type": "code",
   "execution_count": null,
   "id": "b0e59d60",
   "metadata": {},
   "outputs": [
    {
     "name": "stdout",
     "output_type": "stream",
     "text": [
      "Tabla con porcentajes:\n",
      "      Tipo_Llamada_Arp_Desc  Frecuencia  Porcentaje\n",
      "0               CONTROL IPS     5784768       57.94\n",
      "1     CONTROL PROCEDIMIENTO     2618019       26.22\n",
      "2          CONTROL FARMACIA      644081        6.45\n",
      "3                   No info      486485        4.87\n",
      "4          ATENCIÓN INICIAL      377306        3.78\n",
      "5                TRANSPORTE       38411        0.38\n",
      "6  CONTROL ORTESIS-PROTESIS       34708        0.35\n",
      "7            CONTROL MEDICO         882        0.01\n"
     ]
    },
    {
     "data": {
      "image/png": "[encoded data removed]",
      "text/plain": [
       "<Figure size 1000x500 with 1 Axes>"
      ]
     },
     "metadata": {},
     "output_type": "display_data"
    },
    {
     "data": {
      "image/png": "[encoded data removed]",
      "text/plain": [
       "<Figure size 800x800 with 1 Axes>"
      ]
     },
     "metadata": {},
     "output_type": "display_data"
    }
   ],
   "source": [
    "import pandas as pd\n",
    "import matplotlib.pyplot as plt\n",
    "\n",
    "# Tabla de frecuencias\n",
    "frecuencias = df10['Tipo_Llamada_Arp_Desc'].value_counts().reset_index()\n",
    "frecuencias.columns = ['Tipo_Llamada_Arp_Desc', 'Frecuencia']\n",
    "\n",
    "# Calcular porcentajes\n",
    "total = frecuencias['Frecuencia'].sum()\n",
    "frecuencias['Porcentaje'] = ((frecuencias['Frecuencia'] / total) * 100).round(2)\n",
    "\n",
    "# Mostrar tabla con porcentajes\n",
    "print(\"Tabla con porcentajes:\")\n",
    "print(frecuencias)\n",
    "\n",
    "# ----------------------------\n",
    "# 📊 Gráfico de barras\n",
    "# ----------------------------\n",
    "plt.figure(figsize=(10, 5))\n",
    "plt.bar(frecuencias['Tipo_Llamada_Arp_Desc'].astype(str), frecuencias['Frecuencia'], color='skyblue')\n",
    "plt.title('Frecuencia de registros')\n",
    "plt.xlabel('Año')\n",
    "plt.ylabel('Frecuencia')\n",
    "plt.xticks(rotation=45)\n",
    "plt.tight_layout()\n",
    "plt.show()\n",
    "\n",
    "# ----------------------------\n",
    "# 🥧 Gráfico de pastel\n",
    "# ----------------------------\n",
    "plt.figure(figsize=(8, 8))\n",
    "plt.pie(frecuencias['Frecuencia'], labels=frecuencias['Tipo_Llamada_Arp_Desc'], autopct='%1.1f%%', startangle=140)\n",
    "plt.title('Distribución porcentual por Año')\n",
    "plt.axis('equal')  # Para que el círculo esté bien formado\n",
    "plt.show()\n"
   ]
  },
  {
   "cell_type": "code",
   "execution_count": null,
   "id": "3d7b4df1",
   "metadata": {},
   "outputs": [
    {
     "data": {
      "image/png": "[encoded data removed]",
      "text/plain": [
       "<Figure size 1000x800 with 1 Axes>"
      ]
     },
     "metadata": {},
     "output_type": "display_data"
    }
   ],
   "source": [
    "import matplotlib.pyplot as plt\n",
    "import numpy as np\n",
    "\n",
    "# Datos\n",
    "valores = frecuencias['Frecuencia']\n",
    "etiquetas = frecuencias['Tipo_Llamada_Arp_Desc']\n",
    "porcentajes = (valores / valores.sum()) * 100\n",
    "porcentajes_redondeados = porcentajes.round(1)\n",
    "\n",
    "# Leyenda: nombre (porcentaje%)\n",
    "etiquetas_legenda = [f\"{etiqueta} ({pct:.1f}%)\" for etiqueta, pct in zip(etiquetas, porcentajes_redondeados)]\n",
    "\n",
    "# Crear figura\n",
    "fig, ax = plt.subplots(figsize=(10, 8))\n",
    "\n",
    "# Pie chart sin etiquetas (se colocarán manualmente los porcentajes grandes)\n",
    "wedges, _ = ax.pie(valores, startangle=90, radius=1.0)\n",
    "\n",
    "# Anotar porcentajes solo si son >= 1%\n",
    "for i, (wedge, pct) in enumerate(zip(wedges, porcentajes)):\n",
    "    if pct >= 1:\n",
    "        ang = (wedge.theta2 + wedge.theta1) / 2\n",
    "        x = np.cos(np.deg2rad(ang)) * 0.6\n",
    "        y = np.sin(np.deg2rad(ang)) * 0.6\n",
    "        ax.text(x, y, f\"{pct:.1f}%\", ha='center', va='center', fontsize=9)\n",
    "\n",
    "# Leyenda con nombre y porcentaje\n",
    "ax.legend(wedges, etiquetas_legenda, title=\"Tipo de Llamada\", loc=\"center left\", bbox_to_anchor=(1, 0.5), fontsize=9)\n",
    "\n",
    "# Título y ajustes finales\n",
    "ax.set_title(\"Distribución porcentual por tipo de llamada\", fontsize=14)\n",
    "plt.axis('equal')\n",
    "plt.tight_layout()\n",
    "plt.show()\n"
   ]
  },
  {
   "cell_type": "code",
   "execution_count": null,
   "id": "5da53148",
   "metadata": {},
   "outputs": [
    {
     "name": "stdout",
     "output_type": "stream",
     "text": [
      "Nombre_Oficina_Arp\n",
      "Numero_Uen_Arp\n",
      "Siniestro_Arp_Id\n",
      "Nombre_Sinies_Diagnosti_Princi\n",
      "Siniestro_Diagnosti_Princi_Id\n",
      "Nombre_Tipo_Atencion_Arp\n",
      "DNI_IPS\n",
      "Nombre_IPS\n",
      "Nombre_Municipio_IPS\n",
      "Nombre_Departamento_IPS\n",
      "NOMBRE_SUCURSAL\n",
      "NOMBRE_MUNICIPIO_SUCURSAL\n",
      "NOMBRE_DEPARTAMENTO_SUCURSAL\n",
      "Nombre_Municipio_Establecimiento\n",
      "FECHA_ATENCION\n",
      "Tipo_Llamada_Arp_Desc\n",
      "TIPIFICACION\n",
      "Cantidad\n",
      "MUNICIPIO\n",
      "HOMOLOGACION NIT\n",
      "Year\n",
      "Month\n",
      "Day\n",
      "Hour\n",
      "Date\n",
      "Nombre_Municipio_IPS2\n"
     ]
    }
   ],
   "source": [
    "for col in df10.columns:\n",
    "    print(col)\n"
   ]
  },
  {
   "cell_type": "code",
   "execution_count": null,
   "id": "c0def9dc",
   "metadata": {},
   "outputs": [
    {
     "name": "stdout",
     "output_type": "stream",
     "text": [
      "Número de filas: 9984660\n",
      "Número de columnas: 26\n"
     ]
    }
   ],
   "source": [
    "filas, columnas = df10.shape\n",
    "print(f\"Número de filas: {filas}\")\n",
    "print(f\"Número de columnas: {columnas}\")\n",
    "\n"
   ]
  }
 ],
 "metadata": {
  "kernelspec": {
   "display_name": "base",
   "language": "python",
   "name": "python3"
  },
  "language_info": {
   "codemirror_mode": {
    "name": "ipython",
    "version": 3
   },
   "file_extension": ".py",
   "mimetype": "text/x-python",
   "name": "python",
   "nbconvert_exporter": "python",
   "pygments_lexer": "ipython3",
   "version": "3.11.5"
  }
 },
 "nbformat": 4,
 "nbformat_minor": 5
}
